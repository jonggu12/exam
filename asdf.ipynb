{
 "cells": [
  {
   "cell_type": "code",
   "execution_count": 1,
   "metadata": {},
   "outputs": [],
   "source": [
    "from selenium import webdriver\n",
    "from selenium.webdriver.common.by import By\n",
    "from selenium.webdriver.chrome.service import Service\n",
    "import requests\n",
    "import pandas as pd\n",
    "\n",
    "service = Service()\n",
    "options = webdriver.ChromeOptions()\n",
    "driver = webdriver.Chrome(service=service, options=options)\n",
    "driver.get(\"https://search.danawa.com/dsearch.php?query=%EB%AC%B4%EC%84%A0%EC%B2%AD%EC%86%8C%EA%B8%B0&originalQuery=%EB%AC%B4%EC%84%A0%EC%B2%AD%EC%86%8C%EA%B8%B0&checkedInfo=N&volumeType=allvs&page=3&limit=40&sort=saveDESC&list=list&boost=true&tab=goods&addDelivery=N&coupangMemberSort=&mode=simple&isInitTireSmartFinder=N&recommendedSort=N&defaultUICategoryCode=10325109&defaultPhysicsCategoryCode=72%7C80%7C81%7C0&defaultVmTab=3333&defaultVaTab=1101526&isZeroPrice=Y&quickProductYN=N\")\n",
    "list_elements = driver.find_elements(By.CLASS_NAME, 'product_list')\n",
    "\n",
    "file_no = 0\n",
    "directory = '/Users/choejong-gyu/Desktop/image/'  # 원하는 디렉토리로 변경하세요\n",
    "\n",
    "\n",
    "# data_list = []\n",
    "\n",
    "# # 텍스트 및 이미지 크롤링\n",
    "# for index, element in enumerate(list_elements, start=1):\n",
    "#     product_name = element.find_element(By.CLASS_NAME, \"name\")\n",
    "#     price = element.find_element(By.CLASS_NAME, \"price-value\")\n",
    "#     rate = element.find_element(By.CLASS_NAME, \"rating\")\n",
    "#     count = element.find_element(By.CLASS_NAME, \"rating-total-count\")\n",
    "    \n",
    "#     # 이미지 저장\n",
    "#     try:\n",
    "#         img_tag = element.find_element(By.TAG_NAME, \"img\")\n",
    "#         img_url = img_tag.get_attribute(\"src\")\n",
    "#         print(f\"{index}) {product_name.text}\\n{price.text}원\\n{rate.text}점\\n평점{count.text}개\")\n",
    "#         print(f\"이미지 URL: {img_url}\")\n",
    "\n",
    "#         if img_url and img_url.startswith(\"http\"):  # URL이 비어 있지 않고 \"http\"로 시작하는지 확인\n",
    "#             filename = f\"{directory}/{file_no+1}등,{product_name.text}.jpg\"\n",
    "#             with open(filename, \"wb\") as img_file:\n",
    "#                 img_file.write(requests.get(img_url).content)\n",
    "#             file_no += 1\n",
    "#         else:\n",
    "#             print(\"잘못된 이미지 URL 또는 빈 URL\")\n",
    "#         data_list.append({\n",
    "#             '이름': product_name.text,\n",
    "#             '가격': price.text,\n",
    "#             '평점': rate.text,\n",
    "#             'URL': img_url,\n",
    "#             '파일이름': filename\n",
    "#         })\n",
    "#     except Exception as e:\n",
    "#         print(f\"오류 발생: {e}\")\n",
    "        \n",
    "\n",
    "# final = pd.DataFrame(data_list)\n",
    "# final.to_csv('쿠팡식품.csv', encoding='utf-8-sig')\n",
    "# final      \n"
   ]
  },
  {
   "cell_type": "code",
   "execution_count": null,
   "metadata": {},
   "outputs": [],
   "source": []
  }
 ],
 "metadata": {
  "kernelspec": {
   "display_name": "base",
   "language": "python",
   "name": "python3"
  },
  "language_info": {
   "codemirror_mode": {
    "name": "ipython",
    "version": 3
   },
   "file_extension": ".py",
   "mimetype": "text/x-python",
   "name": "python",
   "nbconvert_exporter": "python",
   "pygments_lexer": "ipython3",
   "version": "3.11.5"
  }
 },
 "nbformat": 4,
 "nbformat_minor": 2
}
