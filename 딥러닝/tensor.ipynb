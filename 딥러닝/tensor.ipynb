{
 "cells": [
  {
   "cell_type": "code",
   "execution_count": 25,
   "metadata": {},
   "outputs": [],
   "source": [
    "import tensorflow as tf\n",
    "import numpy as np"
   ]
  },
  {
   "cell_type": "code",
   "execution_count": 4,
   "metadata": {},
   "outputs": [
    {
     "name": "stdout",
     "output_type": "stream",
     "text": [
      "tf.Tensor([3 4 5], shape=(3,), dtype=int32)\n"
     ]
    }
   ],
   "source": [
    "텐서 = tf.constant([3,4,5])\n",
    "print(텐서)"
   ]
  },
  {
   "cell_type": "code",
   "execution_count": null,
   "metadata": {},
   "outputs": [],
   "source": [
    "# x1 x2 x3의 인풋\n",
    "# w1 w2 w3\n",
    "# x1w1 + x2w2 + x3w3"
   ]
  },
  {
   "cell_type": "code",
   "execution_count": 5,
   "metadata": {},
   "outputs": [
    {
     "name": "stdout",
     "output_type": "stream",
     "text": [
      "tf.Tensor([ 9 11 13], shape=(3,), dtype=int32)\n"
     ]
    }
   ],
   "source": [
    "텐서 = tf.constant([3,4,5])\n",
    "텐서2 = tf.constant([6,7,8])\n",
    "print(텐서 + 텐서2)"
   ]
  },
  {
   "cell_type": "code",
   "execution_count": 19,
   "metadata": {},
   "outputs": [
    {
     "name": "stdout",
     "output_type": "stream",
     "text": [
      "tf.Tensor([ 9 11 13], shape=(3,), dtype=int32)\n",
      "tf.Tensor([-3 -3 -3], shape=(3,), dtype=int32)\n",
      "tf.Tensor([0.5        0.57142857 0.625     ], shape=(3,), dtype=float64)\n",
      "tf.Tensor([18 28 40], shape=(3,), dtype=int32)\n"
     ]
    }
   ],
   "source": [
    "텐서 = tf.constant([3,4,5])\n",
    "텐서2 = tf.constant([6,7,8])\n",
    "텐서3 = tf.constant([[1,2,3],\n",
    "                    [3,4,5]]) # 행렬 사각형 모양으로\n",
    "\n",
    "print(tf.add(텐서,텐서2))\n",
    "print(tf.subtract(텐서,텐서2))\n",
    "print(tf.divide(텐서,텐서2))\n",
    "print(tf.multiply(텐서,텐서2))"
   ]
  },
  {
   "cell_type": "code",
   "execution_count": 12,
   "metadata": {},
   "outputs": [
    {
     "name": "stdout",
     "output_type": "stream",
     "text": [
      "tf.Tensor([0. 0. 0. 0. 0. 0. 0. 0. 0. 0.], shape=(10,), dtype=float32)\n"
     ]
    }
   ],
   "source": [
    "텐서4 = tf.zeros(10)\n",
    "print(텐서4)"
   ]
  },
  {
   "cell_type": "code",
   "execution_count": 13,
   "metadata": {},
   "outputs": [
    {
     "name": "stdout",
     "output_type": "stream",
     "text": [
      "tf.Tensor(\n",
      "[[0. 0.]\n",
      " [0. 0.]], shape=(2, 2), dtype=float32)\n"
     ]
    }
   ],
   "source": [
    "텐서4 = tf.zeros([2,2]) # 2행 2열을 0으로 채우기\n",
    "print(텐서4)"
   ]
  },
  {
   "cell_type": "code",
   "execution_count": 14,
   "metadata": {},
   "outputs": [
    {
     "name": "stdout",
     "output_type": "stream",
     "text": [
      "tf.Tensor(\n",
      "[[[0. 0. 0.]\n",
      "  [0. 0. 0.]]\n",
      "\n",
      " [[0. 0. 0.]\n",
      "  [0. 0. 0.]]], shape=(2, 2, 3), dtype=float32)\n"
     ]
    }
   ],
   "source": [
    "텐서5 = tf.zeros([2,2,3]) # 3개를 두줄 만들고 그걸 두개로 만드는\n",
    "print(텐서5)\n"
   ]
  },
  {
   "cell_type": "code",
   "execution_count": 20,
   "metadata": {},
   "outputs": [
    {
     "name": "stdout",
     "output_type": "stream",
     "text": [
      "(3,)\n",
      "(2, 3)\n"
     ]
    }
   ],
   "source": [
    "print(텐서.shape) # 3개의 데이터\n",
    "print(텐서3.shape) # 3개가 있는 리스트가 두개가 있음 (뒤에서부터 해석)"
   ]
  },
  {
   "cell_type": "code",
   "execution_count": 22,
   "metadata": {},
   "outputs": [
    {
     "name": "stdout",
     "output_type": "stream",
     "text": [
      "tf.Tensor([3 4 5], shape=(3,), dtype=int32)\n"
     ]
    }
   ],
   "source": [
    "print(텐서)"
   ]
  },
  {
   "cell_type": "code",
   "execution_count": 26,
   "metadata": {},
   "outputs": [
    {
     "name": "stdout",
     "output_type": "stream",
     "text": [
      "1.0\n"
     ]
    }
   ],
   "source": [
    "w = tf.Variable(1.0) # variable = 가중치\n",
    "print(w.numpy())"
   ]
  },
  {
   "cell_type": "code",
   "execution_count": 27,
   "metadata": {},
   "outputs": [
    {
     "name": "stdout",
     "output_type": "stream",
     "text": [
      "<tf.Variable 'Variable:0' shape=() dtype=float32, numpy=2.0>\n"
     ]
    }
   ],
   "source": [
    "w.assign(2) # 변수값 수정\n",
    "\n",
    "print(w)"
   ]
  },
  {
   "cell_type": "code",
   "execution_count": null,
   "metadata": {},
   "outputs": [],
   "source": []
  }
 ],
 "metadata": {
  "kernelspec": {
   "display_name": "base",
   "language": "python",
   "name": "python3"
  },
  "language_info": {
   "codemirror_mode": {
    "name": "ipython",
    "version": 3
   },
   "file_extension": ".py",
   "mimetype": "text/x-python",
   "name": "python",
   "nbconvert_exporter": "python",
   "pygments_lexer": "ipython3",
   "version": "3.11.5"
  }
 },
 "nbformat": 4,
 "nbformat_minor": 2
}
