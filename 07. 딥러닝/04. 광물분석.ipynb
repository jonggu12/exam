{
 "cells": [
  {
   "cell_type": "code",
   "execution_count": 2,
   "metadata": {},
   "outputs": [],
   "source": [
    "from tensorflow.keras.models import Sequential\n",
    "from tensorflow.keras.layers import Dense\n",
    "import pandas as pd\n",
    "import numpy as np\n",
    "import tensorflow as tf\n",
    "from sklearn.preprocessing import LabelEncoder\n",
    "from sklearn.model_selection import train_test_split\n",
    "from tensorflow.keras.models import load_model"
   ]
  },
  {
   "cell_type": "code",
   "execution_count": 3,
   "metadata": {},
   "outputs": [],
   "source": [
    "np.random.seed(3)\n",
    "tf.random.set_seed(3)\n",
    "\n",
    "\n",
    "df = pd.read_csv(\"./data/sonar.csv\",header=None)"
   ]
  },
  {
   "cell_type": "code",
   "execution_count": 4,
   "metadata": {},
   "outputs": [
    {
     "data": {
      "text/plain": [
       "numpy.ndarray"
      ]
     },
     "execution_count": 4,
     "metadata": {},
     "output_type": "execute_result"
    }
   ],
   "source": [
    "type(df.values) # 텐서플로우는 넘파이해야됨 numpy array로 변환"
   ]
  },
  {
   "cell_type": "code",
   "execution_count": 5,
   "metadata": {},
   "outputs": [],
   "source": [
    "df.head()\n",
    "\n",
    "\n",
    "\n",
    "dataset = df.values"
   ]
  },
  {
   "cell_type": "code",
   "execution_count": 6,
   "metadata": {},
   "outputs": [
    {
     "data": {
      "text/plain": [
       "(208, 61)"
      ]
     },
     "execution_count": 6,
     "metadata": {},
     "output_type": "execute_result"
    }
   ],
   "source": [
    "dataset.shape"
   ]
  },
  {
   "cell_type": "code",
   "execution_count": 7,
   "metadata": {},
   "outputs": [],
   "source": [
    "# 데이터 분리\n",
    "X = dataset[:,0:60].astype(float)\n",
    "Y_obj = dataset[:,60]"
   ]
  },
  {
   "cell_type": "code",
   "execution_count": 8,
   "metadata": {},
   "outputs": [
    {
     "data": {
      "text/plain": [
       "array([1, 1, 1, 1, 1, 1, 1, 1, 1, 1, 1, 1, 1, 1, 1, 1, 1, 1, 1, 1, 1, 1,\n",
       "       1, 1, 1, 1, 1, 1, 1, 1, 1, 1, 1, 1, 1, 1, 1, 1, 1, 1, 1, 1, 1, 1,\n",
       "       1, 1, 1, 1, 1, 1, 1, 1, 1, 1, 1, 1, 1, 1, 1, 1, 1, 1, 1, 1, 1, 1,\n",
       "       1, 1, 1, 1, 1, 1, 1, 1, 1, 1, 1, 1, 1, 1, 1, 1, 1, 1, 1, 1, 1, 1,\n",
       "       1, 1, 1, 1, 1, 1, 1, 1, 1, 0, 0, 0, 0, 0, 0, 0, 0, 0, 0, 0, 0, 0,\n",
       "       0, 0, 0, 0, 0, 0, 0, 0, 0, 0, 0, 0, 0, 0, 0, 0, 0, 0, 0, 0, 0, 0,\n",
       "       0, 0, 0, 0, 0, 0, 0, 0, 0, 0, 0, 0, 0, 0, 0, 0, 0, 0, 0, 0, 0, 0,\n",
       "       0, 0, 0, 0, 0, 0, 0, 0, 0, 0, 0, 0, 0, 0, 0, 0, 0, 0, 0, 0, 0, 0,\n",
       "       0, 0, 0, 0, 0, 0, 0, 0, 0, 0, 0, 0, 0, 0, 0, 0, 0, 0, 0, 0, 0, 0,\n",
       "       0, 0, 0, 0, 0, 0, 0, 0, 0, 0])"
      ]
     },
     "execution_count": 8,
     "metadata": {},
     "output_type": "execute_result"
    }
   ],
   "source": [
    "# 라벨 인코딩\n",
    "\n",
    "e = LabelEncoder()\n",
    "e.fit(Y_obj)\n",
    "Y = e.transform(Y_obj)\n",
    "Y"
   ]
  },
  {
   "cell_type": "code",
   "execution_count": 9,
   "metadata": {},
   "outputs": [],
   "source": [
    "X_train, X_test, Y_train, Y_test = train_test_split(X, Y, test_size=0.3, random_state=0)"
   ]
  },
  {
   "cell_type": "code",
   "execution_count": 10,
   "metadata": {},
   "outputs": [],
   "source": [
    "# 모델 설정\n",
    "\n",
    "# relu : 기울기 소실(vanishing Gradient) 문제가 발생하지 않음\n",
    "# 기존 활성화 함수 대비 속도가 빠름(하이퍼볼릭 탄젠트 함수대비 속도가 6배 정도가 빠름)\n",
    "model = Sequential()\n",
    "model.add(Dense(24, input_dim=60,activation=\"relu\"))\n",
    "model.add(Dense(10,activation='relu')) \n",
    "model.add(Dense(1,activation='sigmoid'))"
   ]
  },
  {
   "cell_type": "code",
   "execution_count": 11,
   "metadata": {},
   "outputs": [],
   "source": [
    "# 모델 컴파일\n",
    "\n",
    "model.compile(loss='binary_crossentropy',optimizer='adam',metrics=['accuracy'])"
   ]
  },
  {
   "cell_type": "code",
   "execution_count": 12,
   "metadata": {},
   "outputs": [
    {
     "name": "stdout",
     "output_type": "stream",
     "text": [
      "Epoch 1/130\n",
      "29/29 [==============================] - 0s 1ms/step - loss: 0.6895 - accuracy: 0.5034\n",
      "Epoch 2/130\n",
      "29/29 [==============================] - 0s 1ms/step - loss: 0.6570 - accuracy: 0.6690\n",
      "Epoch 3/130\n",
      "29/29 [==============================] - 0s 968us/step - loss: 0.6424 - accuracy: 0.6828\n",
      "Epoch 4/130\n",
      "29/29 [==============================] - 0s 825us/step - loss: 0.6217 - accuracy: 0.7103\n",
      "Epoch 5/130\n",
      "29/29 [==============================] - 0s 950us/step - loss: 0.6030 - accuracy: 0.7448\n",
      "Epoch 6/130\n",
      "29/29 [==============================] - 0s 902us/step - loss: 0.5815 - accuracy: 0.7517\n",
      "Epoch 7/130\n",
      "29/29 [==============================] - 0s 1ms/step - loss: 0.5598 - accuracy: 0.7448\n",
      "Epoch 8/130\n",
      "29/29 [==============================] - 0s 992us/step - loss: 0.5425 - accuracy: 0.7724\n",
      "Epoch 9/130\n",
      "29/29 [==============================] - 0s 1ms/step - loss: 0.5223 - accuracy: 0.7586\n",
      "Epoch 10/130\n",
      "29/29 [==============================] - 0s 1ms/step - loss: 0.5127 - accuracy: 0.7724\n",
      "Epoch 11/130\n",
      "29/29 [==============================] - 0s 2ms/step - loss: 0.4882 - accuracy: 0.7931\n",
      "Epoch 12/130\n",
      "29/29 [==============================] - 0s 2ms/step - loss: 0.4776 - accuracy: 0.7931\n",
      "Epoch 13/130\n",
      "29/29 [==============================] - 0s 4ms/step - loss: 0.4640 - accuracy: 0.8000\n",
      "Epoch 14/130\n",
      "29/29 [==============================] - 0s 3ms/step - loss: 0.4443 - accuracy: 0.8069\n",
      "Epoch 15/130\n",
      "29/29 [==============================] - 0s 2ms/step - loss: 0.4352 - accuracy: 0.8069\n",
      "Epoch 16/130\n",
      "29/29 [==============================] - 0s 2ms/step - loss: 0.4210 - accuracy: 0.7793\n",
      "Epoch 17/130\n",
      "29/29 [==============================] - 0s 2ms/step - loss: 0.4122 - accuracy: 0.8069\n",
      "Epoch 18/130\n",
      "29/29 [==============================] - 0s 1ms/step - loss: 0.3968 - accuracy: 0.8207\n",
      "Epoch 19/130\n",
      "29/29 [==============================] - 0s 2ms/step - loss: 0.3998 - accuracy: 0.8069\n",
      "Epoch 20/130\n",
      "29/29 [==============================] - 0s 3ms/step - loss: 0.3770 - accuracy: 0.8414\n",
      "Epoch 21/130\n",
      "29/29 [==============================] - 0s 2ms/step - loss: 0.3699 - accuracy: 0.8621\n",
      "Epoch 22/130\n",
      "29/29 [==============================] - 0s 3ms/step - loss: 0.3633 - accuracy: 0.8483\n",
      "Epoch 23/130\n",
      "29/29 [==============================] - 0s 2ms/step - loss: 0.3512 - accuracy: 0.8414\n",
      "Epoch 24/130\n",
      "29/29 [==============================] - 0s 2ms/step - loss: 0.3404 - accuracy: 0.8483\n",
      "Epoch 25/130\n",
      "29/29 [==============================] - 0s 1ms/step - loss: 0.3437 - accuracy: 0.8345\n",
      "Epoch 26/130\n",
      "29/29 [==============================] - 0s 1ms/step - loss: 0.3290 - accuracy: 0.8828\n",
      "Epoch 27/130\n",
      "29/29 [==============================] - 0s 1ms/step - loss: 0.3225 - accuracy: 0.8552\n",
      "Epoch 28/130\n",
      "29/29 [==============================] - 0s 1ms/step - loss: 0.3106 - accuracy: 0.8966\n",
      "Epoch 29/130\n",
      "29/29 [==============================] - 0s 991us/step - loss: 0.3073 - accuracy: 0.8759\n",
      "Epoch 30/130\n",
      "29/29 [==============================] - 0s 1ms/step - loss: 0.3072 - accuracy: 0.8759\n",
      "Epoch 31/130\n",
      "29/29 [==============================] - 0s 809us/step - loss: 0.3053 - accuracy: 0.8345\n",
      "Epoch 32/130\n",
      "29/29 [==============================] - 0s 929us/step - loss: 0.2925 - accuracy: 0.8966\n",
      "Epoch 33/130\n",
      "29/29 [==============================] - 0s 877us/step - loss: 0.2793 - accuracy: 0.9103\n",
      "Epoch 34/130\n",
      "29/29 [==============================] - 0s 2ms/step - loss: 0.2804 - accuracy: 0.8897\n",
      "Epoch 35/130\n",
      "29/29 [==============================] - 0s 2ms/step - loss: 0.2674 - accuracy: 0.8897\n",
      "Epoch 36/130\n",
      "29/29 [==============================] - 0s 2ms/step - loss: 0.2593 - accuracy: 0.8897\n",
      "Epoch 37/130\n",
      "29/29 [==============================] - 0s 3ms/step - loss: 0.2547 - accuracy: 0.9103\n",
      "Epoch 38/130\n",
      "29/29 [==============================] - 0s 7ms/step - loss: 0.2498 - accuracy: 0.9172\n",
      "Epoch 39/130\n",
      "29/29 [==============================] - 0s 3ms/step - loss: 0.2394 - accuracy: 0.9241\n",
      "Epoch 40/130\n",
      "29/29 [==============================] - 0s 2ms/step - loss: 0.2416 - accuracy: 0.9448\n",
      "Epoch 41/130\n",
      "29/29 [==============================] - 0s 2ms/step - loss: 0.2410 - accuracy: 0.9172\n",
      "Epoch 42/130\n",
      "29/29 [==============================] - 0s 1ms/step - loss: 0.2290 - accuracy: 0.9448\n",
      "Epoch 43/130\n",
      "29/29 [==============================] - 0s 1ms/step - loss: 0.2373 - accuracy: 0.8897\n",
      "Epoch 44/130\n",
      "29/29 [==============================] - 0s 1ms/step - loss: 0.2231 - accuracy: 0.9172\n",
      "Epoch 45/130\n",
      "29/29 [==============================] - 0s 1ms/step - loss: 0.2083 - accuracy: 0.9310\n",
      "Epoch 46/130\n",
      "29/29 [==============================] - 0s 1ms/step - loss: 0.2021 - accuracy: 0.9517\n",
      "Epoch 47/130\n",
      "29/29 [==============================] - 0s 1ms/step - loss: 0.1983 - accuracy: 0.9448\n",
      "Epoch 48/130\n",
      "29/29 [==============================] - 0s 943us/step - loss: 0.1898 - accuracy: 0.9448\n",
      "Epoch 49/130\n",
      "29/29 [==============================] - 0s 1ms/step - loss: 0.1831 - accuracy: 0.9517\n",
      "Epoch 50/130\n",
      "29/29 [==============================] - 0s 895us/step - loss: 0.1873 - accuracy: 0.9586\n",
      "Epoch 51/130\n",
      "29/29 [==============================] - 0s 870us/step - loss: 0.1839 - accuracy: 0.9448\n",
      "Epoch 52/130\n",
      "29/29 [==============================] - 0s 911us/step - loss: 0.1731 - accuracy: 0.9517\n",
      "Epoch 53/130\n",
      "29/29 [==============================] - 0s 913us/step - loss: 0.1672 - accuracy: 0.9586\n",
      "Epoch 54/130\n",
      "29/29 [==============================] - 0s 886us/step - loss: 0.1564 - accuracy: 0.9517\n",
      "Epoch 55/130\n",
      "29/29 [==============================] - 0s 856us/step - loss: 0.1557 - accuracy: 0.9655\n",
      "Epoch 56/130\n",
      "29/29 [==============================] - 0s 919us/step - loss: 0.1489 - accuracy: 0.9862\n",
      "Epoch 57/130\n",
      "29/29 [==============================] - 0s 749us/step - loss: 0.1550 - accuracy: 0.9586\n",
      "Epoch 58/130\n",
      "29/29 [==============================] - 0s 732us/step - loss: 0.1537 - accuracy: 0.9517\n",
      "Epoch 59/130\n",
      "29/29 [==============================] - 0s 804us/step - loss: 0.1431 - accuracy: 0.9724\n",
      "Epoch 60/130\n",
      "29/29 [==============================] - 0s 831us/step - loss: 0.1390 - accuracy: 0.9586\n",
      "Epoch 61/130\n",
      "29/29 [==============================] - 0s 738us/step - loss: 0.1283 - accuracy: 0.9724\n",
      "Epoch 62/130\n",
      "29/29 [==============================] - 0s 2ms/step - loss: 0.1354 - accuracy: 0.9586\n",
      "Epoch 63/130\n",
      "29/29 [==============================] - 0s 2ms/step - loss: 0.1292 - accuracy: 0.9655\n",
      "Epoch 64/130\n",
      "29/29 [==============================] - 0s 1ms/step - loss: 0.1185 - accuracy: 0.9793\n",
      "Epoch 65/130\n",
      "29/29 [==============================] - 0s 1ms/step - loss: 0.1212 - accuracy: 0.9862\n",
      "Epoch 66/130\n",
      "29/29 [==============================] - 0s 1ms/step - loss: 0.1183 - accuracy: 0.9793\n",
      "Epoch 67/130\n",
      "29/29 [==============================] - 0s 1ms/step - loss: 0.1071 - accuracy: 0.9793\n",
      "Epoch 68/130\n",
      "29/29 [==============================] - 0s 957us/step - loss: 0.1069 - accuracy: 0.9862\n",
      "Epoch 69/130\n",
      "29/29 [==============================] - 0s 896us/step - loss: 0.1063 - accuracy: 0.9862\n",
      "Epoch 70/130\n",
      "29/29 [==============================] - 0s 862us/step - loss: 0.1270 - accuracy: 0.9655\n",
      "Epoch 71/130\n",
      "29/29 [==============================] - 0s 901us/step - loss: 0.1044 - accuracy: 0.9724\n",
      "Epoch 72/130\n",
      "29/29 [==============================] - 0s 881us/step - loss: 0.0934 - accuracy: 0.9862\n",
      "Epoch 73/130\n",
      "29/29 [==============================] - 0s 914us/step - loss: 0.1070 - accuracy: 0.9724\n",
      "Epoch 74/130\n",
      "29/29 [==============================] - 0s 877us/step - loss: 0.0925 - accuracy: 0.9793\n",
      "Epoch 75/130\n",
      "29/29 [==============================] - 0s 831us/step - loss: 0.0966 - accuracy: 0.9862\n",
      "Epoch 76/130\n",
      "29/29 [==============================] - 0s 756us/step - loss: 0.0947 - accuracy: 0.9931\n",
      "Epoch 77/130\n",
      "29/29 [==============================] - 0s 764us/step - loss: 0.0884 - accuracy: 0.9931\n",
      "Epoch 78/130\n",
      "29/29 [==============================] - 0s 775us/step - loss: 0.0855 - accuracy: 0.9862\n",
      "Epoch 79/130\n",
      "29/29 [==============================] - 0s 871us/step - loss: 0.0833 - accuracy: 0.9862\n",
      "Epoch 80/130\n",
      "29/29 [==============================] - 0s 910us/step - loss: 0.0820 - accuracy: 0.9862\n",
      "Epoch 81/130\n",
      "29/29 [==============================] - 0s 827us/step - loss: 0.0730 - accuracy: 0.9862\n",
      "Epoch 82/130\n",
      "29/29 [==============================] - 0s 820us/step - loss: 0.0918 - accuracy: 0.9793\n",
      "Epoch 83/130\n",
      "29/29 [==============================] - 0s 918us/step - loss: 0.0909 - accuracy: 0.9655\n",
      "Epoch 84/130\n",
      "29/29 [==============================] - 0s 780us/step - loss: 0.0754 - accuracy: 0.9724\n",
      "Epoch 85/130\n",
      "29/29 [==============================] - 0s 840us/step - loss: 0.0673 - accuracy: 1.0000\n",
      "Epoch 86/130\n",
      "29/29 [==============================] - 0s 847us/step - loss: 0.0628 - accuracy: 0.9931\n",
      "Epoch 87/130\n",
      "29/29 [==============================] - 0s 821us/step - loss: 0.0627 - accuracy: 0.9931\n",
      "Epoch 88/130\n",
      "29/29 [==============================] - 0s 935us/step - loss: 0.0648 - accuracy: 0.9931\n",
      "Epoch 89/130\n",
      "29/29 [==============================] - 0s 793us/step - loss: 0.0585 - accuracy: 0.9931\n",
      "Epoch 90/130\n",
      "29/29 [==============================] - 0s 3ms/step - loss: 0.0599 - accuracy: 0.9931\n",
      "Epoch 91/130\n",
      "29/29 [==============================] - 0s 1ms/step - loss: 0.0667 - accuracy: 0.9931\n",
      "Epoch 92/130\n",
      "29/29 [==============================] - 0s 1ms/step - loss: 0.0670 - accuracy: 0.9793\n",
      "Epoch 93/130\n",
      "29/29 [==============================] - 0s 1ms/step - loss: 0.0575 - accuracy: 0.9931\n",
      "Epoch 94/130\n",
      "29/29 [==============================] - 0s 1ms/step - loss: 0.0484 - accuracy: 1.0000\n",
      "Epoch 95/130\n",
      "29/29 [==============================] - 0s 960us/step - loss: 0.0567 - accuracy: 0.9862\n",
      "Epoch 96/130\n",
      "29/29 [==============================] - 0s 906us/step - loss: 0.0467 - accuracy: 1.0000\n",
      "Epoch 97/130\n",
      "29/29 [==============================] - 0s 862us/step - loss: 0.0469 - accuracy: 1.0000\n",
      "Epoch 98/130\n",
      "29/29 [==============================] - 0s 958us/step - loss: 0.0533 - accuracy: 1.0000\n",
      "Epoch 99/130\n",
      "29/29 [==============================] - 0s 889us/step - loss: 0.0478 - accuracy: 0.9862\n",
      "Epoch 100/130\n",
      "29/29 [==============================] - 0s 950us/step - loss: 0.0421 - accuracy: 1.0000\n",
      "Epoch 101/130\n",
      "29/29 [==============================] - 0s 820us/step - loss: 0.0408 - accuracy: 0.9931\n",
      "Epoch 102/130\n",
      "29/29 [==============================] - 0s 838us/step - loss: 0.0378 - accuracy: 1.0000\n",
      "Epoch 103/130\n",
      "29/29 [==============================] - 0s 823us/step - loss: 0.0463 - accuracy: 0.9931\n",
      "Epoch 104/130\n",
      "29/29 [==============================] - 0s 776us/step - loss: 0.0395 - accuracy: 1.0000\n",
      "Epoch 105/130\n",
      "29/29 [==============================] - 0s 849us/step - loss: 0.0458 - accuracy: 0.9931\n",
      "Epoch 106/130\n",
      "29/29 [==============================] - 0s 810us/step - loss: 0.0470 - accuracy: 0.9862\n",
      "Epoch 107/130\n",
      "29/29 [==============================] - 0s 831us/step - loss: 0.0363 - accuracy: 1.0000\n",
      "Epoch 108/130\n",
      "29/29 [==============================] - 0s 822us/step - loss: 0.0318 - accuracy: 1.0000\n",
      "Epoch 109/130\n",
      "29/29 [==============================] - 0s 911us/step - loss: 0.0397 - accuracy: 0.9931\n",
      "Epoch 110/130\n",
      "29/29 [==============================] - 0s 991us/step - loss: 0.0425 - accuracy: 0.9931\n",
      "Epoch 111/130\n",
      "29/29 [==============================] - 0s 949us/step - loss: 0.0328 - accuracy: 1.0000\n",
      "Epoch 112/130\n",
      "29/29 [==============================] - 0s 956us/step - loss: 0.0284 - accuracy: 1.0000\n",
      "Epoch 113/130\n",
      "29/29 [==============================] - 0s 1ms/step - loss: 0.0302 - accuracy: 1.0000\n",
      "Epoch 114/130\n",
      "29/29 [==============================] - 0s 2ms/step - loss: 0.0264 - accuracy: 1.0000\n",
      "Epoch 115/130\n",
      "29/29 [==============================] - 0s 1ms/step - loss: 0.0296 - accuracy: 0.9931\n",
      "Epoch 116/130\n",
      "29/29 [==============================] - 0s 3ms/step - loss: 0.0256 - accuracy: 1.0000\n",
      "Epoch 117/130\n",
      "29/29 [==============================] - 0s 1ms/step - loss: 0.0254 - accuracy: 1.0000\n",
      "Epoch 118/130\n",
      "29/29 [==============================] - 0s 1ms/step - loss: 0.0228 - accuracy: 1.0000\n",
      "Epoch 119/130\n",
      "29/29 [==============================] - 0s 1ms/step - loss: 0.0221 - accuracy: 1.0000\n",
      "Epoch 120/130\n",
      "29/29 [==============================] - 0s 1ms/step - loss: 0.0215 - accuracy: 1.0000\n",
      "Epoch 121/130\n",
      "29/29 [==============================] - 0s 1ms/step - loss: 0.0235 - accuracy: 1.0000\n",
      "Epoch 122/130\n",
      "29/29 [==============================] - 0s 1ms/step - loss: 0.0208 - accuracy: 1.0000\n",
      "Epoch 123/130\n",
      "29/29 [==============================] - 0s 1ms/step - loss: 0.0202 - accuracy: 1.0000\n",
      "Epoch 124/130\n",
      "29/29 [==============================] - 0s 1ms/step - loss: 0.0190 - accuracy: 1.0000\n",
      "Epoch 125/130\n",
      "29/29 [==============================] - 0s 1ms/step - loss: 0.0204 - accuracy: 1.0000\n",
      "Epoch 126/130\n",
      "29/29 [==============================] - 0s 2ms/step - loss: 0.0190 - accuracy: 1.0000\n",
      "Epoch 127/130\n",
      "29/29 [==============================] - 0s 1ms/step - loss: 0.0175 - accuracy: 1.0000\n",
      "Epoch 128/130\n",
      "29/29 [==============================] - 0s 1ms/step - loss: 0.0161 - accuracy: 1.0000\n",
      "Epoch 129/130\n",
      "29/29 [==============================] - 0s 1ms/step - loss: 0.0168 - accuracy: 1.0000\n",
      "Epoch 130/130\n",
      "29/29 [==============================] - 0s 1ms/step - loss: 0.0181 - accuracy: 1.0000\n"
     ]
    }
   ],
   "source": [
    "import pickle\n",
    "\n",
    "model.fit(X_train,Y_train,epochs=130,batch_size=5) #훈련\n",
    "\n",
    "\n",
    "# H5 파일 형식 : Tensorflow, keras를 사용하는 딥러닝 모델에서 사용 (모델구조/가중치/학습 구성/옵티마이저의 상태 저장)\n",
    "# 저장된 모델은 나중에 정확히 같은 상태로 복원 가능\n",
    "pickle.dump(model, open('my_model.pkl', 'wb'))\n"
   ]
  },
  {
   "cell_type": "code",
   "execution_count": 15,
   "metadata": {},
   "outputs": [
    {
     "name": "stdout",
     "output_type": "stream",
     "text": [
      "2/2 [==============================] - 0s 2ms/step - loss: 0.7382 - accuracy: 0.8571\n",
      "\n",
      " Test Accuracy: 0.8571\n"
     ]
    }
   ],
   "source": [
    "# 모델 테스트\n",
    "del model\n",
    "model = pickle.load(open('my_model.pkl', 'rb'))\n",
    "print(\"\\n Test Accuracy: %.4f\" % (model.evaluate(X_test,Y_test)[1])) #검증"
   ]
  },
  {
   "cell_type": "code",
   "execution_count": 14,
   "metadata": {},
   "outputs": [
    {
     "name": "stdout",
     "output_type": "stream",
     "text": [
      "1/1 [==============================] - 0s 83ms/step\n"
     ]
    },
    {
     "data": {
      "text/plain": [
       "array([[0.995844]], dtype=float32)"
      ]
     },
     "execution_count": 14,
     "metadata": {},
     "output_type": "execute_result"
    }
   ],
   "source": [
    "new_patient_data = np.array([[0.0164,0.0173,0.0347,0.0070,0.0187,0.0671,0.1056,0.0697,0.0962,0.0251,0.0801,0.1056,0.1266,0.0890,0.0198,0.1133,0.2826,0.3234,0.3238,0.4333,0.6068,0.7652,0.9203,0.9719,0.9207,0.7545,0.8289,0.8907,0.7309,0.6896,0.5829,0.4935,0.3101,0.0306,0.0244,0.1108,0.1594,0.1371,0.0696,0.0452,0.0620,0.1421,0.1597,0.1384,0.0372,0.0688,0.0867,0.0513,0.0092,0.0198,0.0118,0.0090,0.0223,0.0179,0.0084,0.0068,0.0032,0.0035,0.0056,0.0040]])\n",
    "\n",
    "model.predict(new_patient_data)"
   ]
  },
  {
   "cell_type": "code",
   "execution_count": null,
   "metadata": {},
   "outputs": [],
   "source": []
  },
  {
   "cell_type": "code",
   "execution_count": null,
   "metadata": {},
   "outputs": [],
   "source": []
  },
  {
   "cell_type": "code",
   "execution_count": null,
   "metadata": {},
   "outputs": [],
   "source": []
  },
  {
   "cell_type": "code",
   "execution_count": null,
   "metadata": {},
   "outputs": [],
   "source": []
  },
  {
   "cell_type": "code",
   "execution_count": null,
   "metadata": {},
   "outputs": [],
   "source": []
  }
 ],
 "metadata": {
  "kernelspec": {
   "display_name": "base",
   "language": "python",
   "name": "python3"
  },
  "language_info": {
   "codemirror_mode": {
    "name": "ipython",
    "version": 3
   },
   "file_extension": ".py",
   "mimetype": "text/x-python",
   "name": "python",
   "nbconvert_exporter": "python",
   "pygments_lexer": "ipython3",
   "version": "3.11.5"
  }
 },
 "nbformat": 4,
 "nbformat_minor": 2
}
