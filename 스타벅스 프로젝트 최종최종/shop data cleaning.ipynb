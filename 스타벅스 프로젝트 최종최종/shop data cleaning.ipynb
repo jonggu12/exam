{
 "cells": [
  {
   "cell_type": "markdown",
   "metadata": {},
   "source": [
    "## 2조 발표 코드"
   ]
  },
  {
   "cell_type": "markdown",
   "metadata": {},
   "source": [
    "## 01. Overview"
   ]
  },
  {
   "cell_type": "markdown",
   "metadata": {},
   "source": [
    "#### 가설\n",
    "* 가설1 : 거주 인구가 많은 지역에 스타벅스 매장이 많이 입지해 있을 것이다.\n",
    "* 가설2 : 직장인이 많은 지역에 스타벅스 매장이 많이 입지해 있을 것이다.\n",
    "* 가설3 : 시군구별 총점포수 및 스타박스 매장수 비교 \n",
    "* 가설4 : 업종별 점포수와 스타벅스 매장과의 관계성\n",
    "* 가설5 : 스타벅스와 인근 주변 외식업 상권의 분기별 폐업률과 개업률 관계성"
   ]
  },
  {
   "cell_type": "markdown",
   "metadata": {},
   "source": [
    "#### 데이터 수집\n",
    "* 1. 스타벅스 사이트에서 서울시에 존재하는 매장의 정보 수집\n",
    "    * 매장명, 매장타입, 주소+층수+호수, 연락처, 서비스(?), 운영시간, 매장수, 주차정보, 접근성, 위도+경도\n",
    "    * https://www.starbucks.co.kr/\n",
    "* 2. 서울시 주민등록 인구(구별)통계 정보 수집\n",
    "  * https://data.seoul.go.kr/dataList/419/S/2/datasetView.do\n",
    "* 3. 서울시 사업체현황(산업대분류별/동별) 통계 정보 \n",
    "  * https://data.seoul.go.kr/dataList/104/S/2/datasetView.do \n",
    "* 4. 서울시 상권분석서비스(점포-자치구)\n",
    "  * https://data.seoul.go.kr/dataList/OA-22173/S/1/datasetView.do"
   ]
  },
  {
   "cell_type": "markdown",
   "metadata": {},
   "source": [
    "#### 프로젝트 진행\n",
    "* 가설 5개를 선택 한 후 관련 데이터 수집"
   ]
  },
  {
   "cell_type": "markdown",
   "metadata": {},
   "source": [
    "## 02. 데이터 수집"
   ]
  },
  {
   "cell_type": "markdown",
   "metadata": {},
   "source": [
    "### 2-1. 서울시 스타벅스 매장 목록 데이터 수집 : 크롤링\n",
    "* www.istarbucks.co.kr"
   ]
  },
  {
   "cell_type": "markdown",
   "metadata": {},
   "source": [
    "* 라이브러리 불러오기"
   ]
  },
  {
   "cell_type": "code",
   "execution_count": 5,
   "metadata": {},
   "outputs": [],
   "source": [
    "from selenium import webdriver\n",
    "from selenium.webdriver.common.by import By\n",
    "from selenium.webdriver.chrome.service import Service\n",
    "from selenium.webdriver.chrome.options import Options\n",
    "import requests\n",
    "from bs4 import BeautifulSoup\n",
    "import pandas as pd\n",
    "from selenium.webdriver.support import expected_conditions as EC\n",
    "from selenium.webdriver.support.ui import WebDriverWait"
   ]
  },
  {
   "cell_type": "markdown",
   "metadata": {},
   "source": [
    "* 크롤링"
   ]
  },
  {
   "cell_type": "code",
   "execution_count": 6,
   "metadata": {},
   "outputs": [],
   "source": [
    "# 크롬 옵션을 설정\n",
    "chrome_options = Options()\n",
    "chrome_options.add_experimental_option(\"detach\", True)\n",
    "\n",
    "# 크롬 웹 드라이버를 생성\n",
    "service = Service()\n",
    "options = webdriver.ChromeOptions()\n",
    "driver = webdriver.Chrome(service=service, options=chrome_options)\n",
    "\n",
    "\n",
    "# 원하는 url로 이동\n",
    "url = f\"https://www.starbucks.co.kr/store/store_map.do?disp=locale\"\n",
    "driver.get(url)"
   ]
  },
  {
   "cell_type": "code",
   "execution_count": 7,
   "metadata": {},
   "outputs": [],
   "source": [
    "html = driver.page_source"
   ]
  },
  {
   "cell_type": "code",
   "execution_count": 8,
   "metadata": {},
   "outputs": [
    {
     "ename": "TimeoutException",
     "evalue": "Message: \nStacktrace:\n0   chromedriver                        0x00000001004544cc chromedriver + 4162764\n1   chromedriver                        0x000000010044c654 chromedriver + 4130388\n2   chromedriver                        0x00000001000a3bc0 chromedriver + 293824\n3   chromedriver                        0x00000001000ea040 chromedriver + 581696\n4   chromedriver                        0x0000000100129ab0 chromedriver + 842416\n5   chromedriver                        0x00000001000dd6bc chromedriver + 530108\n6   chromedriver                        0x00000001000de930 chromedriver + 534832\n7   chromedriver                        0x0000000100419df8 chromedriver + 3923448\n8   chromedriver                        0x000000010041e3cc chromedriver + 3941324\n9   chromedriver                        0x0000000100402028 chromedriver + 3825704\n10  chromedriver                        0x000000010041ef2c chromedriver + 3944236\n11  chromedriver                        0x00000001003f46e4 chromedriver + 3770084\n12  chromedriver                        0x000000010043b970 chromedriver + 4061552\n13  chromedriver                        0x000000010043bae8 chromedriver + 4061928\n14  chromedriver                        0x000000010044c2d4 chromedriver + 4129492\n15  libsystem_pthread.dylib             0x00000001898ed034 _pthread_start + 136\n16  libsystem_pthread.dylib             0x00000001898e7e3c thread_start + 8\n",
     "output_type": "error",
     "traceback": [
      "\u001b[0;31m---------------------------------------------------------------------------\u001b[0m",
      "\u001b[0;31mTimeoutException\u001b[0m                          Traceback (most recent call last)",
      "Cell \u001b[0;32mIn[8], line 9\u001b[0m\n\u001b[1;32m      6\u001b[0m \u001b[38;5;66;03m# CSS_SELETOR로 서울버튼을 클릭할때까지 20초 기다리라는 뜻\u001b[39;00m\n\u001b[1;32m      7\u001b[0m \u001b[38;5;66;03m# EC.element_to_be_clickable : 해당CSS선택자로 요소가 클릭가능할때 까지\u001b[39;00m\n\u001b[1;32m      8\u001b[0m \u001b[38;5;28;01mtry\u001b[39;00m:\n\u001b[0;32m----> 9\u001b[0m     \u001b[43mWebDriverWait\u001b[49m\u001b[43m(\u001b[49m\u001b[43mdriver\u001b[49m\u001b[43m,\u001b[49m\u001b[43m \u001b[49m\u001b[38;5;241;43m20\u001b[39;49m\u001b[43m)\u001b[49m\u001b[38;5;241;43m.\u001b[39;49m\u001b[43muntil\u001b[49m\u001b[43m(\u001b[49m\u001b[43mEC\u001b[49m\u001b[38;5;241;43m.\u001b[39;49m\u001b[43melement_to_be_clickable\u001b[49m\u001b[43m\\\u001b[49m\n\u001b[1;32m     10\u001b[0m \u001b[43m                                    \u001b[49m\u001b[43m(\u001b[49m\u001b[43m(\u001b[49m\u001b[43mBy\u001b[49m\u001b[38;5;241;43m.\u001b[39;49m\u001b[43mCSS_SELECTOR\u001b[49m\u001b[43m,\u001b[49m\u001b[43mseoul_btn\u001b[49m\u001b[43m)\u001b[49m\u001b[43m)\u001b[49m\u001b[43m)\u001b[49m\u001b[38;5;241m.\u001b[39mclick()\n\u001b[1;32m     11\u001b[0m \u001b[38;5;66;03m# 예외처리 타임아웃 에러가 뜨면 프린트문 출력 \u001b[39;00m\n\u001b[1;32m     12\u001b[0m \u001b[38;5;28;01mexcept\u001b[39;00m \u001b[38;5;167;01mTimeoutError\u001b[39;00m:\n",
      "File \u001b[0;32m/Library/Frameworks/Python.framework/Versions/3.9/lib/python3.9/site-packages/selenium/webdriver/support/wait.py:101\u001b[0m, in \u001b[0;36mWebDriverWait.until\u001b[0;34m(self, method, message)\u001b[0m\n\u001b[1;32m     99\u001b[0m     \u001b[38;5;28;01mif\u001b[39;00m time\u001b[38;5;241m.\u001b[39mmonotonic() \u001b[38;5;241m>\u001b[39m end_time:\n\u001b[1;32m    100\u001b[0m         \u001b[38;5;28;01mbreak\u001b[39;00m\n\u001b[0;32m--> 101\u001b[0m \u001b[38;5;28;01mraise\u001b[39;00m TimeoutException(message, screen, stacktrace)\n",
      "\u001b[0;31mTimeoutException\u001b[0m: Message: \nStacktrace:\n0   chromedriver                        0x00000001004544cc chromedriver + 4162764\n1   chromedriver                        0x000000010044c654 chromedriver + 4130388\n2   chromedriver                        0x00000001000a3bc0 chromedriver + 293824\n3   chromedriver                        0x00000001000ea040 chromedriver + 581696\n4   chromedriver                        0x0000000100129ab0 chromedriver + 842416\n5   chromedriver                        0x00000001000dd6bc chromedriver + 530108\n6   chromedriver                        0x00000001000de930 chromedriver + 534832\n7   chromedriver                        0x0000000100419df8 chromedriver + 3923448\n8   chromedriver                        0x000000010041e3cc chromedriver + 3941324\n9   chromedriver                        0x0000000100402028 chromedriver + 3825704\n10  chromedriver                        0x000000010041ef2c chromedriver + 3944236\n11  chromedriver                        0x00000001003f46e4 chromedriver + 3770084\n12  chromedriver                        0x000000010043b970 chromedriver + 4061552\n13  chromedriver                        0x000000010043bae8 chromedriver + 4061928\n14  chromedriver                        0x000000010044c2d4 chromedriver + 4129492\n15  libsystem_pthread.dylib             0x00000001898ed034 _pthread_start + 136\n16  libsystem_pthread.dylib             0x00000001898e7e3c thread_start + 8\n"
     ]
    }
   ],
   "source": [
    "# CSS Selector 활용\n",
    "\n",
    "# 서울 버튼 요소를 찾아 클릭, 셀레니움\n",
    "seoul_btn = '#container > div > form > fieldset > div > section > article.find_store_cont > article > article:nth-child(4) > div.loca_step1 > div.loca_step1_cont > ul > li:nth-child(1) > a'\n",
    "\n",
    "# CSS_SELETOR로 서울버튼을 클릭할때까지 20초 기다리라는 뜻\n",
    "# EC.element_to_be_clickable : 해당CSS선택자로 요소가 클릭가능할때 까지\n",
    "try:\n",
    "    WebDriverWait(driver, 20).until(EC.element_to_be_clickable\\\n",
    "                                    ((By.CSS_SELECTOR,seoul_btn))).click()\n",
    "# 예외처리 타임아웃 에러가 뜨면 프린트문 출력 \n",
    "except TimeoutError:\n",
    "    print(\"해당 페이지가 20초 내에 열리지 않았음\")\n",
    "    \n",
    "\n",
    "\n",
    "# 전체 버튼 요소를 찾아 클릭, 셀레니움\n",
    "all_btn = '#mCSB_2_container > ul > li:nth-child(1) > a'\n",
    "\n",
    "try:\n",
    "    WebDriverWait(driver, 20).until(EC.element_to_be_clickable\\\n",
    "                                    ((By.CSS_SELECTOR,all_btn))).click()\n",
    "    \n",
    "except TimeoutError:\n",
    "    print(\"해당 페이지가 20초 내에 열리지 않았음\")\n",
    "    \n"
   ]
  },
  {
   "cell_type": "markdown",
   "metadata": {},
   "source": [
    "* 스크래핑"
   ]
  },
  {
   "cell_type": "code",
   "execution_count": null,
   "metadata": {},
   "outputs": [],
   "source": [
    "# BeautifulSoup 으로 html 파서 만들기\n",
    "\n",
    "html = driver.page_source # driver.page_source : 셀레니움에서 현재 페이지의 html 소스코드를 가져오는 메소드\n",
    "html"
   ]
  },
  {
   "cell_type": "code",
   "execution_count": null,
   "metadata": {},
   "outputs": [],
   "source": [
    "soup = BeautifulSoup(html,'html.parser') # beatifulsoup 객체 생성 html코드를 파싱하고 \n",
    "\n",
    "starbucks_soup_list  = soup.select('li.quickResultLstCon')\n",
    "print(len(starbucks_soup_list))"
   ]
  },
  {
   "cell_type": "code",
   "execution_count": null,
   "metadata": {},
   "outputs": [],
   "source": [
    "# 스타벅스 매장 정보 샘플 확인 (하나)\n",
    "\n",
    "\n",
    "starbucks_store = starbucks_soup_list[0]\n",
    "name = starbucks_store.select('strong')[0].text.strip()\n",
    "lat = starbucks_store['data-lat'].strip()\n",
    "lng = starbucks_store['data-long'].strip()\n",
    "store_type = starbucks_store.select('i')[0]['class'][0]\n",
    "\n",
    "add_tel = str(starbucks_store.select('p.result_details')[0]).split('<br/>')\n",
    "\n",
    "address = add_tel[0].split('>')[1]\n",
    "tel = add_tel[1].split('</p>')[0]\n",
    "\n",
    "\n",
    "print(f\"매장 명: {name}\")\n",
    "print(f\"위도: {lat}, 경도: {lng}\")\n",
    "print(f\"매장타입: {store_type}\")\n",
    "print(f'주소: {address}')\n",
    "print(f'전화번호: {tel}')"
   ]
  },
  {
   "cell_type": "code",
   "execution_count": null,
   "metadata": {},
   "outputs": [],
   "source": [
    "# 서울시 스타벅스 매장 목록 데이터 만들기\n",
    "starbucks_list = []\n",
    "\n",
    "\n",
    "for starbucks_store in starbucks_soup_list:\n",
    "    name = starbucks_store.select('strong')[0].text.strip()\n",
    "    lat = starbucks_store['data-lat'].strip()\n",
    "    lng = starbucks_store['data-long'].strip()\n",
    "    store_type = starbucks_store.select('i')[0]['class'][0]\n",
    "\n",
    "    add_tel = str(starbucks_store.select('p.result_details')[0]).split('<br/>')\n",
    "\n",
    "    address = add_tel[0].split('>')[1]\n",
    "    tel = add_tel[1].split('</p>')[0]\n",
    "\n",
    "\n",
    "    starbucks_list.append([name,lat,lng,store_type,address,tel])\n",
    "    \n",
    "    \n",
    "    "
   ]
  },
  {
   "cell_type": "code",
   "execution_count": null,
   "metadata": {},
   "outputs": [],
   "source": [
    "# 데이터 프레임 생성\n",
    "\n",
    "columns = ['매장명','위도','경도','매장타입','주소','전화번호']\n",
    "seoul_starbucks_df = pd.DataFrame(starbucks_list,columns=columns)\n",
    "seoul_starbucks_df.head()"
   ]
  },
  {
   "cell_type": "code",
   "execution_count": null,
   "metadata": {},
   "outputs": [],
   "source": [
    "# 요약 정보 확인 \n",
    "seoul_starbucks_df.info()"
   ]
  },
  {
   "cell_type": "code",
   "execution_count": null,
   "metadata": {},
   "outputs": [],
   "source": [
    "seoul_starbucks_df.to_excel('./files/seoul_starbucks.xlsx',index= False)"
   ]
  },
  {
   "cell_type": "markdown",
   "metadata": {},
   "source": [
    "#### 2-2. 서울시 통계 정보 수집: 공공데이터\n",
    "\n",
    "\n",
    "*  서울시 주민등록 인구(구별)통계 정보 수집\n",
    "* https://data.seoul.go.kr/dataList/419/S/2/datasetView.do\n",
    "* 서울시 사업체현황(산업대분류별/동별) 통계 정보 \n",
    "* https://data.seoul.go.kr/dataList/104/S/2/datasetView.do\n",
    "* 서울시 상권분석서비스(점포-자치구)\n",
    "* https://data.seoul.go.kr/dataList/OA-22173/S/1/datasetView.do"
   ]
  },
  {
   "cell_type": "markdown",
   "metadata": {},
   "source": [
    "#### 2-2-1. 서울시 주민등록 인구(구별) 데이터 분석"
   ]
  },
  {
   "cell_type": "code",
   "execution_count": null,
   "metadata": {},
   "outputs": [],
   "source": [
    "import pandas as pd\n",
    "\n",
    "sgg_pop_df = pd.read_csv('./files/report.txt',sep='\\t',header=1)\n",
    "sgg_pop_df\n",
    "\n",
    "\n",
    "columns = {\n",
    "    '시점' : 'GIGAN',\n",
    "    '동별(1)' : 'SUM',\n",
    "    '동별(2)' : 'JACHIGU',\n",
    "    '소계' : 'SEDAE',\n",
    "    '소계.1' : 'GYE_1',\n",
    "    '남자' : 'NAMJA_1',\n",
    "    '여자' : 'YEOJA_1',\n",
    "    '소계.2' : 'GYE_2', #한국인\n",
    "    '남자.1' : 'NAMJA_2',\n",
    "    '여자.1' : 'YEOJA_2',\n",
    "    '소계.3' : 'GYE_3', # 등록외국인\n",
    "    '남자.2' : 'NAMJA_3',\n",
    "    '여자.2' : 'YEOJA_3',\n",
    "    '소계.4' : 'SEDAEDANGINGU',\n",
    "    '소계.5' : 'N_65SEISANGGORYEONGJA',\n",
    "}\n",
    "\n",
    "sgg_pop_df.rename(columns=columns,inplace=True)\n",
    "\n",
    "\n",
    "\n",
    "sgg_pop_df.head()   \n",
    "\n"
   ]
  },
  {
   "cell_type": "code",
   "execution_count": null,
   "metadata": {},
   "outputs": [],
   "source": [
    "sgg_pop_df.info()"
   ]
  },
  {
   "cell_type": "code",
   "execution_count": null,
   "metadata": {},
   "outputs": [],
   "source": [
    "# 필요없는 데이터 제거(임시 참고)\n",
    "\n",
    "condition = sgg_pop_df['JACHIGU'] != \"소계\"\n",
    "sgg_pop_df_selected = sgg_pop_df[condition]\n",
    "sgg_pop_df_selected.head()"
   ]
  },
  {
   "cell_type": "code",
   "execution_count": null,
   "metadata": {},
   "outputs": [],
   "source": [
    "\n",
    "columns = ['JACHIGU',\"GYE_1\"]\n",
    "sgg_pop_df_final = sgg_pop_df_selected[columns]\n",
    "sgg_pop_df_final.head()"
   ]
  },
  {
   "cell_type": "code",
   "execution_count": null,
   "metadata": {},
   "outputs": [],
   "source": [
    "# 데이터 프레임의 컬럼명 변경\n",
    "\n",
    "sgg_pop_df_final.columns = ['시군구명','주민등록인구']\n",
    "sgg_pop_df_final.info()\n",
    "sgg_pop_df_final.head()"
   ]
  },
  {
   "cell_type": "code",
   "execution_count": null,
   "metadata": {},
   "outputs": [],
   "source": [
    "# 엑셀로 저장\n",
    "sgg_pop_df_final.to_excel('./files/sgg_pop.xlsx',index=False)"
   ]
  },
  {
   "cell_type": "markdown",
   "metadata": {},
   "source": [
    "#### 2-2-2. 서울시 사업체현황(산업대분류별/동별) 데이터 분석"
   ]
  },
  {
   "cell_type": "code",
   "execution_count": null,
   "metadata": {},
   "outputs": [],
   "source": [
    "import pandas as pd\n",
    "\n",
    "sgg_biz_df = pd.read_csv('./files/report1.txt',sep='\\t',header=3)\n",
    "sgg_biz_df.head()"
   ]
  },
  {
   "cell_type": "code",
   "execution_count": null,
   "metadata": {},
   "outputs": [],
   "source": [
    "columns = {\n",
    "    '시점' : 'GIGAN',\n",
    "    '동별(1)' : 'GIGAN',\n",
    "    '동별(2)' : 'JACHIGU',\n",
    "    '동별(3)' : 'DONG',\n",
    "    '소계' : 'SAEOPCHESU_1',\n",
    "    '여성대표자' : 'YEOSEONGDAEPYOJA',\n",
    "    '소계.1' : 'GYE',\n",
    "    '남' : 'NAM',\n",
    "    '여' :'YEO'\n",
    "    \n",
    "}\n",
    "\n",
    "sgg_biz_df.rename(columns=columns,inplace=True)\n",
    "\n",
    "\n",
    "\n",
    "sgg_biz_df.head(10)   \n"
   ]
  },
  {
   "cell_type": "code",
   "execution_count": null,
   "metadata": {},
   "outputs": [],
   "source": [
    "sgg_biz_df[['DONG',\"SAEOPCHESU_1\"]]\n"
   ]
  },
  {
   "cell_type": "code",
   "execution_count": null,
   "metadata": {},
   "outputs": [],
   "source": [
    "#  소계 행만 추출\n",
    "\n",
    "condition = sgg_biz_df['DONG'] == \"소계\"\n",
    "\n",
    "sgg_biz_df_selected = sgg_biz_df[condition]\n",
    "sgg_biz_df_selected.head(10)"
   ]
  },
  {
   "cell_type": "code",
   "execution_count": null,
   "metadata": {},
   "outputs": [],
   "source": [
    "# 필요없는 칼럼 제거 (열)\n",
    "\n",
    "columns = ['JACHIGU',\"GYE\",\"SAEOPCHESU_1\"]\n",
    "\n",
    "sgg_biz_df_final = sgg_biz_df_selected[columns]\n",
    "sgg_biz_df_final.columns = ['시군구명','종사자수','사업체수']\n",
    "sgg_biz_df_final.head()"
   ]
  },
  {
   "cell_type": "code",
   "execution_count": null,
   "metadata": {},
   "outputs": [],
   "source": [
    "# 데이터 프레임의 인덱스 초기화\n",
    "\n",
    "sgg_biz_df_final = sgg_biz_df_final.reset_index(drop=True)\n",
    "sgg_pop_df_final.head()"
   ]
  },
  {
   "cell_type": "code",
   "execution_count": null,
   "metadata": {},
   "outputs": [],
   "source": [
    "import pandas as pd\n",
    "sgg_biz_df_final.to_excel('./files/sgg_biz.xlsx' ,index = False,)\n",
    "\n"
   ]
  },
  {
   "cell_type": "markdown",
   "metadata": {},
   "source": [
    "# 03. 데이터 전처리"
   ]
  },
  {
   "cell_type": "markdown",
   "metadata": {},
   "source": [
    "## * 가설 1,2을 위한 데이터 전처리 *"
   ]
  },
  {
   "cell_type": "markdown",
   "metadata": {},
   "source": [
    "\n",
    "* 시군구명, 시군구코드에 서울시 스타벅스 매장 목록, 인구, 사업체 데이터를 추가"
   ]
  },
  {
   "cell_type": "code",
   "execution_count": null,
   "metadata": {},
   "outputs": [],
   "source": [
    "# 서울시 스타벅스 매장 목록이 담긴 파일 불러오기\n",
    "import pandas as pd\n",
    "seoul_starbucks = pd.read_excel('./files/seoul_starbucks.xlsx',header=0)\n",
    "seoul_starbucks.head()"
   ]
  },
  {
   "cell_type": "code",
   "execution_count": null,
   "metadata": {},
   "outputs": [],
   "source": [
    "# 스타벅스 주소 정보에서 시군구명 추출\n",
    "sgg_names = []\n",
    "for address in seoul_starbucks['주소']:\n",
    "    sgg = address.split()[1]\n",
    "    sgg_names.append(sgg)\n",
    "seoul_starbucks['시군구명'] = sgg_names\n",
    "seoul_starbucks.head()\n",
    "\n",
    "seoul_starbucks.to_excel('./files/seoul_starbucks_list.xlsx', index=False)\n",
    "\n",
    "\n"
   ]
  },
  {
   "cell_type": "markdown",
   "metadata": {},
   "source": [
    "\n",
    "* 시군구 목록 데이터 + 시군구별 스타벅스 매장 수, 주민인구 수 , 사업체 수"
   ]
  },
  {
   "cell_type": "code",
   "execution_count": null,
   "metadata": {},
   "outputs": [],
   "source": [
    "import pandas as pd\n",
    "\n",
    "# 시군구 목록 데이터 불러오기\n",
    "seoul_sgg = pd.read_excel('./files/seoul_sgg_list.xlsx')\n",
    "seoul_sgg.head()"
   ]
  },
  {
   "cell_type": "code",
   "execution_count": null,
   "metadata": {},
   "outputs": [],
   "source": [
    "# 스타벅스 매장 목록 데이터 불러오기\n",
    "\n",
    "seoul_star = pd.read_excel('./files/seoul_starbucks_list.xlsx')\n",
    "seoul_star.head()"
   ]
  },
  {
   "cell_type": "code",
   "execution_count": null,
   "metadata": {},
   "outputs": [],
   "source": [
    "# 시군구별 스타벅스 매장 수 세기 # pivottable 함수쓰기\n",
    "\n",
    "pivot_table = seoul_star['시군구명'].value_counts()\n",
    "\n",
    "pivot_table\n"
   ]
  },
  {
   "cell_type": "code",
   "execution_count": null,
   "metadata": {},
   "outputs": [],
   "source": [
    "# 서울시 시군구 목록 데이터에 스타벅스 매장 수 데이터를 병합\n",
    "\n",
    "merge_df = pd.merge(seoul_sgg,pivot_table, on ='시군구명', how='left') # 시군구명을 기준으로 오른쪽파일을 왼쪽 엑셀파일에 합치기\n",
    "\n",
    "merge_df.rename(columns={'count': '스타벅스_매장 수'}, inplace=True)\n",
    "\n",
    "merge_df"
   ]
  },
  {
   "cell_type": "code",
   "execution_count": null,
   "metadata": {},
   "outputs": [],
   "source": [
    "# 서울시 시군구별 인구통계 데이터 불러오기\n",
    "\n",
    "seoul_sgg_pop = pd.read_excel('./files/sgg_pop.xlsx')\n",
    "seoul_sgg_pop"
   ]
  },
  {
   "cell_type": "code",
   "execution_count": null,
   "metadata": {},
   "outputs": [],
   "source": [
    "# merge_df에 서울 인구수 합치기\n",
    "\n",
    "merge_df = pd.merge(merge_df,seoul_sgg_pop, on ='시군구명', how='left') # merge_df에서 시군구명 기준으로 주민등록 인구 합치기\n",
    "\n",
    "\n",
    "\n",
    "merge_df"
   ]
  },
  {
   "cell_type": "code",
   "execution_count": null,
   "metadata": {},
   "outputs": [],
   "source": [
    "import pandas as pd\n",
    "\n",
    "# 엑셀 파일 읽기\n",
    "df = pd.read_excel('./files/sgg_biz.xlsx')\n",
    "\n",
    "# 시군구명을 기준으로 그룹화하여 종사자수와 사업체수를 더하기\n",
    "grouped_data = df.groupby('시군구명').agg({'종사자수': 'sum', '사업체수': 'sum'}).reset_index()\n",
    "\n",
    "# 결과 출력\n",
    "print(grouped_data)\n"
   ]
  },
  {
   "cell_type": "code",
   "execution_count": null,
   "metadata": {},
   "outputs": [],
   "source": [
    "# 서울시 시군구 목록 데이터에 서울시 시군구별 사업체 수 통계 데이터를 병합\n",
    "\n",
    "\n",
    "\n",
    "#sgg_biz.xlsx : 시군구별 사업체 현황(가공)\n",
    "\n",
    "merge_df = pd.merge(merge_df,grouped_data, on ='시군구명', how='left') # merge_df에서 시군구명 기준으로  종사자수, 사업체수 합치기\n",
    "merge_df"
   ]
  },
  {
   "cell_type": "markdown",
   "metadata": {},
   "source": [
    "## * 가설 3,4,5을 위한 데이터 전처리 *"
   ]
  },
  {
   "cell_type": "markdown",
   "metadata": {},
   "source": [
    "* 서울시 상권 분석 서비스의 2023 1분기와 2분기 데이터 추출 및 필요한 컬럼 추출"
   ]
  },
  {
   "cell_type": "markdown",
   "metadata": {},
   "source": [
    "* 2023년 1분기, 2분기의 데이터 추출"
   ]
  },
  {
   "cell_type": "code",
   "execution_count": null,
   "metadata": {},
   "outputs": [],
   "source": [
    "import pandas as pd\n",
    "# 데이터 파일 불러오기 \n",
    "df=pd.read_csv(\"./files/서울시 상권분석서비스(점포-자치구).csv\",encoding=\"cp949\")\n",
    "\n",
    "#1분기 데이터 전처리 \n",
    "df_recent1= df[df[\"기준_년분기_코드\"]==20231]\n",
    "df_Q1= df_recent1[[\"자치구_코드_명\",\"서비스_업종_코드\",\"유사_업종_점포_수\",\"개업_점포_수\",\"폐업_점포_수\"]]\n",
    "df_Q1.reset_index(drop=True,inplace=True)\n",
    "\n",
    "df_Q1.head()"
   ]
  },
  {
   "cell_type": "code",
   "execution_count": null,
   "metadata": {},
   "outputs": [],
   "source": [
    "#2분기 데이터 전처리 \n",
    "df_recent2= df[df[\"기준_년분기_코드\"]==20232]\n",
    "df_Q2= df_recent2[[\"자치구_코드_명\",\"서비스_업종_코드\",\"유사_업종_점포_수\",\"개업_점포_수\",\"폐업_점포_수\"]]\n",
    "df_Q2.reset_index(drop=True,inplace=True)\n",
    "\n",
    "df_Q2.head()"
   ]
  },
  {
   "cell_type": "code",
   "execution_count": null,
   "metadata": {},
   "outputs": [],
   "source": [
    "df_Q2[\"서비스_업종_외서소\"] = df_Q2[\"서비스_업종_코드\"].str.split(\"0\", expand=True)[0]\n",
    "df_Q2.drop([\"서비스_업종_코드\"],axis=1,inplace=True)\n",
    "df_Q2"
   ]
  },
  {
   "cell_type": "code",
   "execution_count": null,
   "metadata": {},
   "outputs": [],
   "source": [
    "df_Q2_bybusiness=df_Q2.groupby([\"자치구_코드_명\",\"서비스_업종_외서소\"]).sum()\n",
    "df_Q2_bybusiness.reset_index(inplace=True)\n",
    "df_Q2_bybusiness.rename(columns={\"자치구_코드_명\":\"시군구명\"},inplace=True)\n",
    "df_Q2_bybusiness"
   ]
  },
  {
   "cell_type": "markdown",
   "metadata": {},
   "source": [
    "* 2023년 2분기 전체 점포수와 스타벅스 매장을 위한 데이터 전처리"
   ]
  },
  {
   "cell_type": "code",
   "execution_count": null,
   "metadata": {},
   "outputs": [],
   "source": [
    "# \"서비스_업종_코드\" 열을 가공 CS1:외식업 CS2:서비스업 CS3:소매업\n",
    "df_Q1[\"서비스_업종_외서소\"] = df_Q1[\"서비스_업종_코드\"].str.split(\"0\", expand=True)[0]\n",
    "df_Q1.drop([\"서비스_업종_코드\"],axis=1,inplace=True)\n",
    "df_Q1"
   ]
  },
  {
   "cell_type": "code",
   "execution_count": null,
   "metadata": {},
   "outputs": [],
   "source": [
    "# \"자치구_코드_명\"과 \"서비스_업종_외서소\" 열을 기준으로 그룹화 및 합계 계산\n",
    "# 외서소: 외식업,서비스업,소매업\n",
    "df_Q1_bybusiness=df_Q1.groupby([\"자치구_코드_명\",\"서비스_업종_외서소\"]).sum()\n",
    "df_Q1_bybusiness.reset_index(inplace=True)\n",
    "df_Q1_bybusiness"
   ]
  },
  {
   "cell_type": "code",
   "execution_count": null,
   "metadata": {},
   "outputs": [],
   "source": [
    "# \"자치구_코드_명\" 기준으로 그룹화 후 구별 총점포수 계산 \n",
    "\n",
    "df_Q1_byareagroup=df_Q1.groupby([\"자치구_코드_명\"]).sum()\n",
    "df_Q1_byarea = df_Q1_byareagroup.drop([\"서비스_업종_외서소\"],axis=1)\n",
    "df_Q1_byarea"
   ]
  },
  {
   "cell_type": "code",
   "execution_count": null,
   "metadata": {},
   "outputs": [],
   "source": [
    "# 2분기 업종벌 점포수 데이터 \n",
    "\n",
    "df_Q2_bybusiness.reset_index(inplace=True)\n",
    "df_Q2_bybusiness.rename(columns={\"자치구_코드_명\":\"시군구명\"},inplace=True)\n",
    "df_Q2_bybusiness"
   ]
  },
  {
   "cell_type": "code",
   "execution_count": null,
   "metadata": {},
   "outputs": [],
   "source": [
    "# 2분기 구별 점포수 데이터 \n",
    "\n",
    "df_Q2_byareagroup=df_Q2.groupby([\"자치구_코드_명\"]).sum()\n",
    "df_Q2_byarea = df_Q2_byareagroup.drop([\"서비스_업종_외서소\"],axis=1)\n",
    "df_Q2_byarea"
   ]
  },
  {
   "cell_type": "code",
   "execution_count": null,
   "metadata": {},
   "outputs": [],
   "source": [
    "# 2분기 구별 데이터 프라임에 스타벅스 매장수 및 경위도 열추가 \n",
    "\n",
    "df_Q2_byarea.reset_index(inplace=True)\n",
    "\n",
    "df_Q2_byarea.rename(columns={\"자치구_코드_명\":\"시군구명\"},inplace=True)\n",
    "satrbucks_sgg=pd.read_excel(\"./files/seoul_sgg_stat.xlsx\")\n",
    "df_Q2_byarea_withstar = pd.merge(df_Q2_byarea,satrbucks_sgg,how=\"left\",on=\"시군구명\")\n",
    "df_Q2_byarea_withstar.drop([\"시군구코드\",\"주민득록인구\",\"종사자수\",\"사업체수\"],axis=1,inplace=True)\n",
    "df_Q2_byarea_withstar"
   ]
  },
  {
   "cell_type": "code",
   "execution_count": null,
   "metadata": {},
   "outputs": [],
   "source": [
    "df_Q2_byarea_withstar.to_excel(\"./files/df_Q2_byarea_withstar가설1.xlsx\",index=False)"
   ]
  },
  {
   "cell_type": "code",
   "execution_count": null,
   "metadata": {},
   "outputs": [],
   "source": [
    "df_Q2_byarea_withstar.head()"
   ]
  },
  {
   "cell_type": "markdown",
   "metadata": {},
   "source": [
    "* 상권 유형별 스타벅스 매장 상관관계를 위한 데이터 전처리"
   ]
  },
  {
   "cell_type": "code",
   "execution_count": null,
   "metadata": {},
   "outputs": [],
   "source": [
    "# 업종별 점포수 데이터 \n",
    "\n",
    "df_bybusiness_final=pd.read_excel(\"./files//df_bybusiness_final가설2.xlsx\")\n",
    "df_bybusiness_final.head()"
   ]
  },
  {
   "cell_type": "code",
   "execution_count": null,
   "metadata": {},
   "outputs": [],
   "source": [
    "# 2분기 외식업 점포수 데이터\n",
    "df_Q2_CS1= df_bybusiness_final[df_bybusiness_final['서비스_업종_외서소'] == 'CS1']\n",
    "df_Q2_CS1"
   ]
  },
  {
   "cell_type": "code",
   "execution_count": null,
   "metadata": {},
   "outputs": [],
   "source": [
    "# 1분기 외식업 점포수 데이터\n",
    "\n",
    "df_Q1_CS1 = df_Q1_bybusiness[df_Q1_bybusiness['서비스_업종_외서소'] == 'CS1']\n",
    "df_Q1_CS1"
   ]
  },
  {
   "cell_type": "code",
   "execution_count": null,
   "metadata": {},
   "outputs": [],
   "source": [
    "# 1&2분기 \"개업_점포_수\" 및 \"폐업_점포_수\"의 차이를 구함 \n",
    "\n",
    "df_Q2_CS1[\"개업추세\"]=df_Q2_CS1[\"개업_점포_수\"]-df_Q1_CS1[\"개업_점포_수\"]\n",
    "df_Q2_CS1[\"폐업추세\"]=df_Q2_CS1[\"폐업_점포_수\"]-df_Q1_CS1[\"폐업_점포_수\"]\n",
    "df_Q2_CS1"
   ]
  },
  {
   "cell_type": "code",
   "execution_count": null,
   "metadata": {},
   "outputs": [],
   "source": [
    "# 양수인 경우에는 True를 반환, 음수인 경우에는 False를 반환\n",
    "\n",
    "def positive_to_true_negative_to_false(value):\n",
    "    if value>0:\n",
    "        return True\n",
    "    else:\n",
    "        return False\n",
    "    \n",
    "df_Q2_CS1[\"개업수_bool\"]=df_Q2_CS1[\"개업추세\"].apply(positive_to_true_negative_to_false)\n",
    "df_Q2_CS1[\"폐업수_bool\"]=df_Q2_CS1[\"폐업추세\"].apply(positive_to_true_negative_to_false)\n",
    "df_Q2_CS1"
   ]
  },
  {
   "cell_type": "code",
   "execution_count": null,
   "metadata": {},
   "outputs": [],
   "source": [
    "# \"폐업수_bool\",\"개업수_bool\" 열의 값을 정수로 변환\n",
    "\n",
    "df_Q2_CS1[\"result\"] = (df_Q2_CS1[\"개업수_bool\"].astype(int) * 2) + (df_Q2_CS1[\"폐업수_bool\"].astype(int) + 1)\n",
    "df_Q2_CS1=df_Q2_CS1.sort_values(by=\"result\",ascending=False)\n",
    "df_Q2_CS1"
   ]
  },
  {
   "cell_type": "markdown",
   "metadata": {},
   "source": [
    "# 데이터 시각화"
   ]
  },
  {
   "cell_type": "markdown",
   "metadata": {},
   "source": [
    "### 가설1 데이터 시각화 (주민등록인구 수 별 스타벅스 매장 관계성)"
   ]
  },
  {
   "cell_type": "code",
   "execution_count": null,
   "metadata": {},
   "outputs": [],
   "source": [
    "import folium\n",
    "import pandas as pd\n",
    "import json\n",
    "\n",
    "# 서울시 시군구 행정 경계 지도\n",
    "\n",
    "sgg_geojson_file_path = './map/seoul_sgg.geojson'\n",
    "\n",
    "seoul_sgg_stat = pd.read_excel('./files/seoul_sgg_stat.xlsx')\n",
    "seoul_sgg_stat['만명당_매장수'] = ((seoul_sgg_stat['스타벅스_매장 수']*10000) / seoul_sgg_stat['주민등록인구']).round(4)\n",
    "\n",
    "# 서울시 시군구별 주민등록인구수 단계구분도 지도 시각화\n",
    "seoul_sgg_geo = json.load(open(sgg_geojson_file_path,encoding='utf-8'))\n",
    "print(type(seoul_sgg_geo))\n",
    "seoul_sgg_geo\n",
    "\n",
    "starbucks_boundary = folium.Map(\n",
    "    location=[37.573050,126.979189],tiles = 'CartoDB dark_matter', zoom_start=11\n",
    ")\n",
    "\n",
    "def style_function(feature):                    # 경계선 스타일 지정\n",
    "    return {\n",
    "        'opacity':0.7,\n",
    "        'weight':1,\n",
    "        'color':'white',\n",
    "        'fillOpacity':0,\n",
    "        'dashArray':'5, 5' # 실선과 점선의 길이\n",
    "    }\n",
    "    \n",
    "folium.GeoJson(                                 # 경계선 표시\n",
    "    seoul_sgg_geo,\n",
    "    style_function=style_function\n",
    "    \n",
    ").add_to(starbucks_boundary)\n",
    "\n",
    "folium.Choropleth(                                     # 경계지도 만드는 방법\n",
    "    geo_data=seoul_sgg_geo,\n",
    "    name='choropleth',  # 지도의 이름\n",
    "    data=seoul_sgg_stat,                        # 불러올 데이터\n",
    "    columns=['시군구명', '만명당_매장수'], # 지도의 사용할 열\n",
    "    key_on='feature.properties.SIG_KOR_NM',\n",
    "    fill_color='YlGn',\n",
    "    fill_opacity=0.7,\n",
    "    line_opacity=0.5,\n",
    "    legend_name='만명당_매장수',\n",
    ").add_to(starbucks_boundary)\n",
    "\n",
    "\n",
    "for idx, row in seoul_sgg_stat.iterrows():                  # 차트안에 글자 표시 하는 방법\n",
    "    folium.Marker(\n",
    "        location=[row['위도'], row['경도']],\n",
    "        popup=f\"{row['시군구명']}: {row['만명당_매장수']}\",\n",
    "        icon=folium.DivIcon(icon_size=(150,100), icon_anchor=(7,20),\n",
    "                            html=f'<div style=\"font-size: 10pt; color : black\">{row[\"만명당_매장수\"]}</div>')\n",
    "    ).add_to(starbucks_boundary)\n",
    "\n",
    "starbucks_boundary\n",
    "\n",
    "# 결과 : 주민등록인구수는 송파구, 강서구, 관악구 순으로 많이 분포함\n",
    "# 스타벅스 매장 강남구, 서초구, 송파구, 중구, 종로구,영등포구,마포구, 서대문구에 스타벅스 매장이 많이 입점\n",
    "\n",
    "# 스타벅스 매장수의 단계구분도와 시군구별 주민등록인구수의 단계구분도는 확연히 다름."
   ]
  },
  {
   "cell_type": "code",
   "execution_count": null,
   "metadata": {},
   "outputs": [],
   "source": [
    "import folium\n",
    "import pandas as pd\n",
    "import json\n",
    "\n",
    "seoul_sgg_stat = pd.read_excel('./files/seoul_sgg_stat.xlsx')\n",
    "seoul_sgg_stat.rename(columns={'주민득록인구': '주민등록인구'}, inplace=True)\n",
    "\n",
    "# 서울시 시군구 행정 경계 지도\n",
    "\n",
    "sgg_geojson_file_path = './map/seoul_sgg.geojson'\n",
    "\n",
    "\n",
    "# 서울시 시군구별 주민등록인구수 단계구분도 지도 시각화\n",
    "\n",
    "seoul_sgg_geo = json.load(open(sgg_geojson_file_path,encoding='utf-8'))\n",
    "print(type(seoul_sgg_geo))\n",
    "seoul_sgg_geo\n",
    "\n",
    "starbucks_bubble = folium.Map(\n",
    "    location=[37.573050,126.979189],tiles = 'CartoDB dark_matter', zoom_start=11\n",
    ")\n",
    "\n",
    "\n",
    "\n",
    "\n",
    "def style_function(feature):                    # 경계선 스타일 지정\n",
    "    return {\n",
    "        'opacity':0.7,\n",
    "        'weight':1,\n",
    "        'color':'white',\n",
    "        'fillOpacity':0,\n",
    "        'dashArray':'5, 5' # 실선과 점선의 길이\n",
    "    }\n",
    "    \n",
    "folium.GeoJson(                                 # 경계선 표시\n",
    "    seoul_sgg_geo,\n",
    "    style_function=style_function\n",
    "    \n",
    ").add_to(starbucks_bubble)\n",
    "\n",
    "\n",
    "folium.Choropleth(                                     # 경계지도 만드는 방법\n",
    "    geo_data=seoul_sgg_geo,\n",
    "    name='choropleth',  # 지도의 이름\n",
    "    data=seoul_sgg_stat,\n",
    "    columns=['시군구명', '주민등록인구'], # 지도의 사용할 열\n",
    "    key_on='feature.properties.SIG_KOR_NM',\n",
    "    fill_color='YlGn',\n",
    "    fill_opacity=0.7,\n",
    "    line_opacity=0.5,\n",
    "    legend_name='주민등록인구',\n",
    ").add_to(starbucks_bubble)\n",
    "\n",
    "\n",
    "for idx, row in seoul_sgg_stat.iterrows():                  # 글자 표시 하는 방법\n",
    "    folium.Marker(\n",
    "        location=[row['위도'], row['경도']],\n",
    "        popup=f\"{row['시군구명']}: {row['주민등록인구']}\",\n",
    "        icon=folium.DivIcon(icon_size=(150,100), icon_anchor=(7,20),\n",
    "                            html=f'<div style=\"font-size: 10pt; color : black\">{row[\"주민등록인구\"]}</div>')\n",
    "    ).add_to(starbucks_bubble)\n",
    "\n",
    "\n",
    "\n",
    "    \n",
    "starbucks_bubble\n",
    "\n",
    "# 결과 : 주민등록인구수는 송파구, 강서구, 관악구 순으로 많이 분포함"
   ]
  },
  {
   "cell_type": "code",
   "execution_count": null,
   "metadata": {},
   "outputs": [],
   "source": [
    "import folium\n",
    "import pandas as pd\n",
    "import json\n",
    "\n",
    "\n",
    "sgg_geojson_file_path = './map/seoul_sgg.geojson'\n",
    "\n",
    "\n",
    "# 서울시 시군구별 주민등록인구수 단계구분도 지도 시각화\n",
    "\n",
    "seoul_sgg_geo = json.load(open(sgg_geojson_file_path, encoding='utf-8'))\n",
    "\n",
    "\n",
    "\n",
    "seoul_sgg_stat = pd.read_excel('./files/seoul_sgg_stat.xlsx')\n",
    "seoul_sgg_stat.rename(columns={'주민득록인구': '주민등록인구'}, inplace=True)\n",
    "seoul_sgg_stat['만명당_매장수'] = ((seoul_sgg_stat['스타벅스 매장수']*10000) / seoul_sgg_stat['주민등록인구']).round(4)\n",
    "\n",
    "\n",
    "# seoul_sgg_stat에서 상위 10퍼센트 데이터프레임 생성\n",
    "seoul_sgg_stat_top10 = seoul_sgg_stat[seoul_sgg_stat['만명당_매장수'] >= seoul_sgg_stat['만명당_매장수'].quantile(0.9)]\n",
    "\n",
    "\n",
    "starbucks_bubble = folium.Map(location=[37.5665, 126.9780], zoom_start=11,tiles = 'CartoDB dark_matter')\n",
    "\n",
    "\n",
    "\n",
    "\n",
    "# 버블지도 그리기\n",
    "for idx, row in seoul_sgg_stat.iterrows():\n",
    "    if row['만명당_매장수'] in seoul_sgg_stat_top10['만명당_매장수'].values: # seoul_sgg_stat에 seoul_sgg_stat_top10밸류값이 있으면\n",
    "        color = 'red'\n",
    "    else:\n",
    "        color = 'blue'\n",
    "\n",
    "\n",
    "    매장수_rounded = f\"{row['만명당_매장수']:.4f}\" # round 해줌\n",
    "\n",
    "\n",
    "    folium.CircleMarker(\n",
    "        location=[row['위도'], row['경도']],\n",
    "        radius= 10,\n",
    "        color='white',\n",
    "        fill=True,\n",
    "        fill_color=color,\n",
    "        fill_opacity=0.7,\n",
    "        popup=f\"{row['시군구명']} {매장수_rounded}\",\n",
    "    ).add_to(starbucks_bubble)\n",
    "\n",
    "\n",
    "# 지도에 숫자표시\n",
    "for idx, row in seoul_sgg_stat.iterrows():\n",
    "    매장수_rounded = f\"{row['만명당_매장수']:.4f}\"\n",
    "    folium.Marker(\n",
    "        location=[row['위도'], row['경도']],\n",
    "        popup=f\"{row['시군구명']}: {매장수_rounded}\",\n",
    "        icon=folium.DivIcon(icon_size=(150, 100), icon_anchor=(7, 20),\n",
    "                            html=f'<div style=\"font-size: 10pt; color: white\">{매장수_rounded}</div>')\n",
    "    ).add_to(starbucks_bubble)\n",
    "\n",
    "\n",
    "# 경계선\n",
    "def style_function(feature):\n",
    "    return {\n",
    "        'opacity':0.7,\n",
    "        'weight':1,\n",
    "        'color':'white',\n",
    "        'fillOpacity':0,\n",
    "        'dashArray':'5, 5' # 실선과 점선의 길이\n",
    "    }\n",
    "    \n",
    "folium.GeoJson(\n",
    "    seoul_sgg_geo,\n",
    "    style_function=style_function\n",
    "    \n",
    ").add_to(starbucks_bubble)\n",
    "\n",
    "starbucks_bubble\n",
    "\n",
    "\n",
    "# 결론 : 시군구별 인구 단계구분도에서 중구와 종로구가 서울에서 주민등록인구가 적은 지역으로 표시\n",
    "# 그러나 인구 1만 명당 스타벅스 매장 수는 가장 많은 것으로 표시\n",
    "# 가설 1은 틀린 것으로 판단"
   ]
  },
  {
   "cell_type": "markdown",
   "metadata": {},
   "source": [
    "### 가설2 데이터 시각화 (종사자 수별 스타벅스 매장 관계성)"
   ]
  },
  {
   "cell_type": "code",
   "execution_count": null,
   "metadata": {},
   "outputs": [],
   "source": [
    "import pandas as pd\n",
    "import json\n",
    "import folium\n",
    "\n",
    "seoul_sgg_stat = pd.read_excel('./files/seoul_sgg_stat.xlsx')\n",
    "\n",
    "\n",
    "sgg_geojson_file_path =  './map/seoul_sgg.geojson'\n",
    "\n",
    "\n",
    "\n",
    "\n",
    "seoul_sgg_geo = json.load(open(sgg_geojson_file_path, encoding='utf-8'))\n",
    "\n",
    "\n",
    "\n",
    "starbucks_boundary = folium.Map(\n",
    "    location=[37.573050,126.979189],tiles = 'CartoDB dark_matter', zoom_start=11\n",
    ")\n",
    "\n",
    "\n",
    "\n",
    "\n",
    "def style_function(feature):                    # 경계선 스타일 지정\n",
    "    return {\n",
    "        'opacity':0.7,\n",
    "        'weight':1,\n",
    "        'color':'white',\n",
    "        'fillOpacity':0,\n",
    "        'dashArray':'5, 5' # 실선과 점선의 길이\n",
    "    }\n",
    "    \n",
    "folium.GeoJson(                                 # 경계선 표시\n",
    "    seoul_sgg_geo,\n",
    "    style_function=style_function\n",
    "    \n",
    ").add_to(starbucks_boundary)\n",
    "\n",
    "\n",
    "folium.Choropleth(                                     # 경계지도 만드는 방법\n",
    "    geo_data=seoul_sgg_geo,\n",
    "    name='choropleth',  # 지도의 이름\n",
    "    data=seoul_sgg_stat,\n",
    "    columns=['시군구명', '종사자수'], # 지도의 사용할 열\n",
    "    key_on='feature.properties.SIG_KOR_NM',\n",
    "    fill_color='YlGn',\n",
    "    fill_opacity=0.7,\n",
    "    line_opacity=0.5,\n",
    "    legend_name='주민등록인구',\n",
    ").add_to(starbucks_boundary)\n",
    "\n",
    "\n",
    "for idx, row in seoul_sgg_stat.iterrows():                  # 글자 표시 하는 방법\n",
    "    folium.Marker(\n",
    "        location=[row['위도'], row['경도']],\n",
    "        popup=f\"{row['시군구명']}: {row['종사자수']}\",\n",
    "        icon=folium.DivIcon(icon_size=(150,100), icon_anchor=(7,20),\n",
    "                            html=f'<div style=\"font-size: 10pt; color : black\">{row[\"종사자수\"]}</div>')\n",
    "    ).add_to(starbucks_boundary)\n",
    "\n",
    "\n",
    "\n",
    "    \n",
    "starbucks_boundary"
   ]
  },
  {
   "cell_type": "code",
   "execution_count": null,
   "metadata": {},
   "outputs": [],
   "source": [
    "import folium\n",
    "import pandas as pd\n",
    "import json\n",
    "\n",
    "# 서울시 시군구 행정 경계 지도\n",
    "\n",
    "sgg_geojson_file_path = './map/seoul_sgg.geojson'\n",
    "\n",
    "seoul_sgg_stat = pd.read_excel('./files/seoul_sgg_stat.xlsx')\n",
    "seoul_sgg_stat['종사자만명당_매장수'] = (seoul_sgg_stat['스타벅스 매장수']/ (seoul_sgg_stat['종사자수']/10000)).round(4)\n",
    "\n",
    "\n",
    "# 서울시 시군구별 종사자수 단계구분도 지도 시각화\n",
    "\n",
    "seoul_sgg_geo = json.load(open(sgg_geojson_file_path,encoding='utf-8'))\n",
    "print(type(seoul_sgg_geo))\n",
    "seoul_sgg_geo\n",
    "\n",
    "starbucks_boundary = folium.Map(\n",
    "    location=[37.573050,126.979189],tiles = 'CartoDB dark_matter', zoom_start=11\n",
    ")\n",
    "\n",
    "\n",
    "\n",
    "\n",
    "def style_function(feature):                    # 경계선 스타일 지정\n",
    "    return {\n",
    "        'opacity':0.7,\n",
    "        'weight':1,\n",
    "        'color':'white',\n",
    "        'fillOpacity':0,\n",
    "        'dashArray':'5, 5' # 실선과 점선의 길이\n",
    "    }\n",
    "    \n",
    "folium.GeoJson(                                 # 경계선 표시\n",
    "    seoul_sgg_geo,\n",
    "    style_function=style_function\n",
    "    \n",
    ").add_to(starbucks_boundary)\n",
    "\n",
    "\n",
    "folium.Choropleth(                                     # 경계지도 만드는 방법\n",
    "    geo_data=seoul_sgg_geo,\n",
    "    name='choropleth',  # 지도의 이름\n",
    "    data=seoul_sgg_stat,                        # 불러올 데이터\n",
    "    columns=['시군구명', '종사자만명당_매장수'], # 지도의 사용할 열\n",
    "    key_on='feature.properties.SIG_KOR_NM',\n",
    "    fill_color='YlGn',\n",
    "    fill_opacity=0.7,\n",
    "    line_opacity=0.5,\n",
    "    legend_name='종사자만명당_매장수',\n",
    ").add_to(starbucks_boundary)\n",
    "\n",
    "\n",
    "for idx, row in seoul_sgg_stat.iterrows():                  # 차트안에 글자 표시 하는 방법\n",
    "    folium.Marker(\n",
    "        location=[row['위도'], row['경도']],\n",
    "        popup=f\"{row['시군구명']}: {row['종사자만명당_매장수']}\",\n",
    "        icon=folium.DivIcon(icon_size=(150,100), icon_anchor=(7,20),\n",
    "                            html=f'<div style=\"font-size: 10pt; color : black\">{row[\"종사자만명당_매장수\"]}</div>')\n",
    "    ).add_to(starbucks_boundary)\n",
    "\n",
    "\n",
    "\n",
    "    \n",
    "starbucks_boundary\n",
    "\n",
    "# 결과 : 주민등록인구수는 송파구, 강서구, 관악구 순으로 많이 분포함\n",
    "# 스타벅스 매장 강남구, 서초구, 송파구, 중구, 종로구,영등포구,마포구, 서대문구에 스타벅스 매장이 많이 입점\n",
    "\n",
    "# 스타벅스 매장수의 단계구분도와 시군구별 주민등록인구수의 단계구분도는 확연히 다름."
   ]
  },
  {
   "cell_type": "code",
   "execution_count": null,
   "metadata": {},
   "outputs": [],
   "source": [
    "import folium\n",
    "import pandas as pd\n",
    "import json\n",
    "\n",
    "\n",
    "seoul_sgg_stat = pd.read_excel('./files/seoul_sgg_stat.xlsx')\n",
    "\n",
    "\n",
    "# 종사자 수와 매장수의 비율\n",
    "seoul_sgg_stat['종사자만명당_매장수'] = (seoul_sgg_stat['스타벅스 매장수']/ (seoul_sgg_stat['종사자수']/10000)).round(4)\n",
    "\n",
    "\n",
    "\n",
    "sgg_geojson_file_path = './map/seoul_sgg.geojson'\n",
    "seoul_sgg_geo = json.load(open(sgg_geojson_file_path, encoding='utf-8'))\n",
    "\n",
    "viz_map_1 = folium.Map(\n",
    "    location=[37.573050,126.979189],tiles = 'CartoDB dark_matter', zoom_start=11\n",
    ")\n",
    "\n",
    "def style_function(feature):                    # 경계선 스타일 지정\n",
    "    return {\n",
    "        'opacity':0.7,\n",
    "        'weight':1,\n",
    "        'color':'white',\n",
    "        'fillOpacity':0,\n",
    "        'dashArray':'5, 5' # 실선과 점선의 길이\n",
    "    }\n",
    "    \n",
    "folium.GeoJson(                                 # 경계선 표시\n",
    "    seoul_sgg_geo,\n",
    "    style_function=style_function\n",
    "    \n",
    ").add_to(viz_map_1)\n",
    "   \n",
    "# 종사자수 만명당 매장 수 기준 상위 10% 추출값\n",
    "\n",
    "seoul_sgg_stat_top10 = seoul_sgg_stat[seoul_sgg_stat['종사자만명당_매장수'] >= seoul_sgg_stat['종사자만명당_매장수'].quantile(0.9)]\n",
    "\n",
    "\n",
    "\n",
    "\n",
    "\n",
    "# 버블지도 그리기\n",
    "for idx, row in seoul_sgg_stat.iterrows():\n",
    "    if row['종사자만명당_매장수'] in seoul_sgg_stat_top10['종사자만명당_매장수'].values: # seoul_sgg_stat에 seoul_sgg_stat_top10밸류값이 있으면\n",
    "        color = 'red'\n",
    "    else:\n",
    "        color = 'blue'\n",
    "\n",
    "\n",
    "    매장수_rounded = f\"{row['종사자만명당_매장수']:.4f}\" # round 해줌\n",
    "\n",
    "\n",
    "    folium.CircleMarker(\n",
    "        location=[row['위도'], row['경도']],\n",
    "        radius= 10,\n",
    "        color='white',\n",
    "        fill=True,\n",
    "        fill_color=color,\n",
    "        fill_opacity=0.7,\n",
    "        popup=f\"{row['시군구명']} {매장수_rounded}\",\n",
    "    ).add_to(viz_map_1)\n",
    "\n",
    "\n",
    "# 지도에 숫자표시\n",
    "for idx, row in seoul_sgg_stat.iterrows():\n",
    "    매장수_rounded = f\"{row['종사자만명당_매장수']:.4f}\"\n",
    "    folium.Marker(\n",
    "        location=[row['위도'], row['경도']],\n",
    "        popup=f\"{row['시군구명']}: {매장수_rounded}\",\n",
    "        icon=folium.DivIcon(icon_size=(150, 100), icon_anchor=(7, 20),\n",
    "                            html=f'<div style=\"font-size: 10pt; color: white\">{매장수_rounded}</div>')\n",
    "    ).add_to(viz_map_1)\n",
    "    \n",
    "viz_map_1\n",
    "\n",
    "\n",
    "\n",
    "# 결론: 상위 10프로는 서대문구 종로구 마포구\n",
    "\n",
    "# 사업체 종사자 수와 스타벅스 매장 수는 대체로 비례함\n",
    "\n",
    "# 서대문구의 경우 사업체 종사자 수가 많지 않은 지역임 직장인이 많은 곳에 스타벅스 매장이 많을 것이라는 가설 2가 의미가 있음\n",
    "                    \n",
    "         "
   ]
  },
  {
   "cell_type": "code",
   "execution_count": null,
   "metadata": {},
   "outputs": [],
   "source": [
    "# 종사자수 만명당 매장 수 기준 상위 10% 추출값\n",
    "\n",
    "seoul_sgg_stat_top10 = seoul_sgg_stat[seoul_sgg_stat['종사자만명당_매장수'] >= seoul_sgg_stat['종사자만명당_매장수'].quantile(0.9)]\n",
    "\n",
    "\n",
    "\n",
    "\n",
    "\n",
    "# 버블지도 그리기\n",
    "for idx, row in seoul_sgg_stat.iterrows():\n",
    "    if row['종사자만명당_매장수'] in seoul_sgg_stat_top10['종사자만명당_매장수'].values: # seoul_sgg_stat에 seoul_sgg_stat_top10밸류값이 있으면\n",
    "        color = 'red'\n",
    "    else:\n",
    "        color = 'blue'\n",
    "\n",
    "\n",
    "    매장수_rounded = f\"{row['종사자만명당_매장수']:.4f}\" # round 해줌\n",
    "\n",
    "\n",
    "    folium.CircleMarker(\n",
    "        location=[row['위도'], row['경도']],\n",
    "        radius= 10,\n",
    "        color='white',\n",
    "        fill=True,\n",
    "        fill_color=color,\n",
    "        fill_opacity=0.7,\n",
    "        popup=f\"{row['시군구명']} {매장수_rounded}\",\n",
    "    ).add_to(viz_map_1)\n",
    "\n",
    "\n",
    "# 지도에 숫자표시\n",
    "for idx, row in seoul_sgg_stat.iterrows():\n",
    "    매장수_rounded = f\"{row['종사자만명당_매장수']:.4f}\"\n",
    "    folium.Marker(\n",
    "        location=[row['위도'], row['경도']],\n",
    "        popup=f\"{row['시군구명']}: {매장수_rounded}\",\n",
    "        icon=folium.DivIcon(icon_size=(150, 100), icon_anchor=(7, 20),\n",
    "                            html=f'<div style=\"font-size: 10pt; color: white\">{매장수_rounded}</div>')\n",
    "    ).add_to(viz_map_1)\n",
    "    \n",
    "viz_map_1\n",
    "\n",
    "\n",
    "\n",
    "# 결론: 상위 10프로는 서대문구 종로구 마포구\n",
    "\n",
    "# 사업체 종사자 수와 스타벅스 매장 수는 대체로 비례함\n",
    "\n",
    "# 서대문구의 경우 사업체 종사자 수가 많지 않은 지역임 직장인이 많은 곳에 스타벅스 매장이 많을 것이라는 가설 2가 의미가 있음"
   ]
  },
  {
   "cell_type": "markdown",
   "metadata": {},
   "source": [
    "### 가설3 데이터 시각화 (전체 점포 수와 스타벅스 매장 관계성)"
   ]
  },
  {
   "cell_type": "code",
   "execution_count": null,
   "metadata": {},
   "outputs": [],
   "source": [
    "# 가설 1: 시군구별 총점포수 및 스타박스 매장수 비교 \n",
    "# 총점포 수 \n",
    "import pandas as pd\n",
    "import matplotlib\n",
    "matplotlib.rcParams['font.family'] = 'AppleGothic' \n",
    "import matplotlib.pyplot as plt\n",
    "matplotlib.rcParams['font.size'] = 15\n",
    "matplotlib.rcParams['axes.unicode_minus'] = False\n",
    "\n",
    "df = df_Q2_byarea_withstar\n",
    "\n",
    "fig, ax1 = plt.subplots(figsize=(10, 5))\n",
    "\n",
    "\n",
    "# 총점포 수: 막대 그래프로 표현/ 스타박스 매장수: 선 그래프 그리기 \n",
    "bars = ax1.bar(df['시군구명'], df['유사_업종_점포_수'], color='#ffadad')\n",
    "ax1.set_xlabel('지역')\n",
    "ax1.set_ylabel('지역별 전체 점포 수')\n",
    "ax1.bar(df['시군구명'], df['유사_업종_점포_수'],color='#ffadad')\n",
    "ax1.tick_params(axis='y')\n",
    "plt.xticks(rotation=90) \n",
    "\n",
    "ax2 = ax1.twinx() # x축과 공유하는 새로운 y축을 만듦\n",
    "ax2.set_ylabel('스타벅스 매장수') #label 표시\n",
    "ax2.plot(df['시군구명'], df['스타벅스 매장수'], marker='o',color='#a0c4ff') # x 시군구명, y 스타벅스 매장수\n",
    "ax2.tick_params(axis='y') # y축에 대한 틱 -> 틱 라벨의 색상, 라벨의 크기 조절 가능\n",
    "\n",
    "plt.tight_layout() # 플롯의 여백 최적화\n",
    "\n",
    "plt.show()\n",
    "\n",
    "# 상권 내에 점포수와 스타벅스 매장의 관계가 어느정도 유의미한 관계를 가짐 "
   ]
  },
  {
   "cell_type": "code",
   "execution_count": null,
   "metadata": {},
   "outputs": [],
   "source": [
    "# 스타벅스 매장과 지역별 전체 점포 수를 산점도 그래프로 \n",
    "\n",
    "plt.figure(figsize=(10, 5))\n",
    "plt.scatter(df['유사_업종_점포_수'], df['스타벅스 매장수'], color='blue', alpha=0.5)\n",
    "plt.title('시군구별 점포 수와 스타벅스 매장 수의 관계')\n",
    "plt.xlabel('전체 점포 수')\n",
    "plt.ylabel('스타벅스 매장수')\n",
    "\n",
    "# 각 점에 시군구명 표시\n",
    "for i, txt in enumerate(df['시군구명']):\n",
    "    plt.annotate(txt, (df['유사_업종_점포_수'][i], df['스타벅스 매장수'][i]), fontsize=8, ha='right', va='bottom')\n",
    "\n",
    "plt.grid(True)\n",
    "plt.show()"
   ]
  },
  {
   "cell_type": "code",
   "execution_count": null,
   "metadata": {},
   "outputs": [],
   "source": [
    "# 시군구별 전체 점포수를 경계선 지도로 나타내는 코드\n",
    "\n",
    "\n",
    "import pandas as pd\n",
    "import folium\n",
    "import json\n",
    "\n",
    "\n",
    "merge_outer1 = df_Q2_byarea_withstar\n",
    "\n",
    "\n",
    "ssg_geojson_file_path = \"./map/seoul_sgg.geojson\"\n",
    "seoul_sgg_geo = json.load(open(ssg_geojson_file_path,encoding='utf-8'))\n",
    "print(type(seoul_sgg_geo))\n",
    "seoul_sgg_geo\n",
    "\n",
    "starbucks_store_map = folium.Map(\n",
    "    location=[37.573050,126.979189], zoom_start=11\n",
    ")\n",
    "\n",
    "def style_function(feature):\n",
    "    return {\n",
    "        'opacity':0.7,\n",
    "        'weight':1,\n",
    "        'color':'black',\n",
    "        'fillOpacity':0,\n",
    "        # 'dashArray':'5, 5' # 실선과 점선의 길이\n",
    "    }\n",
    "    \n",
    "folium.GeoJson(\n",
    "    seoul_sgg_geo,\n",
    "    style_function=style_function\n",
    "    \n",
    ").add_to(starbucks_store_map)\n",
    "\n",
    "folium.Choropleth(                                     # 경계지도 만드는 방법\n",
    "    geo_data=seoul_sgg_geo,\n",
    "    name='choropleth',  # 지도의 이름\n",
    "    data=merge_outer1,\n",
    "    columns=['시군구명', '유사_업종_점포_수'], # 지도의 사용할 열\n",
    "    key_on='feature.properties.SIG_KOR_NM',\n",
    "    fill_color='YlOrRd',\n",
    "    fill_opacity=0.7,\n",
    "    line_opacity=0.2,\n",
    "    legend_name='유사_업종_점포_수',\n",
    ").add_to(starbucks_store_map)\n",
    "\n",
    "for idx, row in merge_outer1.iterrows():                  # 글자 표시 하는 방법\n",
    "    folium.Marker(\n",
    "        location=[row['위도'], row['경도']],\n",
    "        popup=f\"{row['시군구명']}: {row['유사_업종_점포_수']}\",\n",
    "        icon=folium.DivIcon(icon_size=(150,100), icon_anchor=(7,20),\n",
    "                            html=f'<div style=\"font-size: 10pt; color : black\">{row[\"유사_업종_점포_수\"]}</div>')\n",
    "    ).add_to(starbucks_store_map)\n",
    "\n",
    "\n",
    "for idx, row in df.iterrows():              # 버블지도 만들기 \n",
    "    \n",
    "    folium.CircleMarker(\n",
    "        location=[row['위도'], row['경도']],\n",
    "        radius=row['스타벅스 매장수']*0.3,  \n",
    "        color='#00704A',\n",
    "        fill=True,\n",
    "        fill_color='#00704A',\n",
    "        fill_opacity=1,\n",
    "        popup=f\"{row['시군구명']}<br>스타벅스 매장수: {row['스타벅스 매장수']}\",\n",
    "    ).add_to(starbucks_store_map)\n",
    "    \n",
    "\n",
    "starbucks_store_map"
   ]
  },
  {
   "cell_type": "code",
   "execution_count": null,
   "metadata": {},
   "outputs": [],
   "source": [
    "# 지역별 전체 점포 수와 스타벅스 매장의 상관관계 분석 \n",
    "\n",
    "import pandas as pd\n",
    "import matplotlib.pyplot as plt\n",
    "import seaborn as sns\n",
    "import matplotlib\n",
    "matplotlib.rcParams['font.family'] = 'AppleGothic' \n",
    "\n",
    "matplotlib.rcParams['font.size'] = 15\n",
    "matplotlib.rcParams['axes.unicode_minus'] = False\n",
    "\n",
    "corr = merge_outer1['유사_업종_점포_수'].corr(merge_outer1['스타벅스 매장수'])\n",
    "\n",
    "print(corr)\n",
    "\n",
    "plt.figure(figsize=(10,5))\n",
    "plt.title('전체 점포수와 스타벅스 매장 수의 관계')\n",
    "sns.scatterplot(x='유사_업종_점포_수', y='스타벅스 매장수', data=merge_outer1, label=f'점포수 (상관 계수: {corr:.2f})')\n",
    "plt.xlabel('전체 점포수')\n",
    "plt.ylabel('스타벅스 매장수')\n",
    "\n",
    "sns.regplot(x='유사_업종_점포_수', y='스타벅스 매장수', data=merge_outer1,color='blue')\n",
    "plt.xlabel('전체 점포수')\n",
    "plt.ylabel('스타벅스 매장수')\n",
    "plt.show()"
   ]
  },
  {
   "cell_type": "markdown",
   "metadata": {},
   "source": [
    "### 가설4 데이터 시각화 (업종별 점포 수와 스타벅스 매장 관계성)"
   ]
  },
  {
   "cell_type": "code",
   "execution_count": null,
   "metadata": {},
   "outputs": [],
   "source": [
    "# 가설 2: 업종별 점포수 및 스타박스 매장수 비교 \n",
    "\n",
    "import pandas as pd\n",
    "\n",
    "\n",
    "df = pd.read_excel('./files/df_bybusiness_final가설2.xlsx')\n",
    "df.reset_index\n",
    "df.head()    "
   ]
  },
  {
   "cell_type": "code",
   "execution_count": null,
   "metadata": {},
   "outputs": [],
   "source": [
    "# 서비스 업종 코드를 숫자별로 나눔\n",
    "\n",
    "df1 = df[df['서비스_업종_외서소'].str[2] == '1']  # 1이면 외식업\n",
    "\n",
    "df2 = df[df['서비스_업종_외서소'].str[2] == '2']  # 2이면 서비스업\n",
    "\n",
    "df3 = df[df['서비스_업종_외서소'].str[2] == '3']  # 3이면 외식업\n",
    "\n"
   ]
  },
  {
   "cell_type": "code",
   "execution_count": null,
   "metadata": {},
   "outputs": [],
   "source": [
    "# 업종별 점포수와 스타벅스 매장 수의 관계를 여러 그래프로 만들기\n",
    "\n",
    "import pandas as pd\n",
    "import matplotlib.pyplot as plt\n",
    "import matplotlib\n",
    "\n",
    "matplotlib.rcParams['font.family'] = 'AppleGothic'\n",
    "matplotlib.rcParams['font.size'] = 15\n",
    "matplotlib.rcParams['axes.unicode_minus'] = False\n",
    "\n",
    "\n",
    "\n",
    "fig, axs = plt.subplots(3, 1, figsize=(15, 15))\n",
    "\n",
    "# 첫 번째 서브플롯\n",
    "axs[0].set_title(\"외식업과 스타벅스 매장의 관계\")\n",
    "axs[0].set_ylabel('외식업 점포수')\n",
    "axs[0].bar(df1['시군구명'], df1['유사_업종_점포_수'], color='#ffadad')\n",
    "axs[0].tick_params(axis='y')\n",
    "ax2 = axs[0].twinx()  # x축과 공유하는 새로운 y축을 만듦\n",
    "ax2.set_ylabel('스타벅스 매장 수')  # label 표시\n",
    "ax2.plot(df1['시군구명'], df1['스타벅스 매장수'], marker='o', color='#a0c4ff')  # x 시군구명, y 스타벅스 매장수\n",
    "ax2.tick_params(axis='y')  # y축에 대한 틱 -> 틱 라벨의 색상, 라벨의 크기 조절 가능\n",
    "axs[0].tick_params(axis='x', rotation=90)\n",
    "\n",
    "\n",
    "\n",
    "# 두 번째 서브플롯\n",
    "axs[1].set_title(\"서비스업과 스타벅스 매장의 관계\")\n",
    "axs[1].set_ylabel('서비스업 점포수')\n",
    "axs[1].bar(df2['시군구명'], df2['유사_업종_점포_수'], color='#A3B5FF')\n",
    "axs[1].tick_params(axis='y')\n",
    "plt.xticks(rotation=90) \n",
    "ax3 = axs[1].twinx()  # x축과 공유하는 새로운 y축을 만듦\n",
    "ax3.set_ylabel('스타벅스 매장 수')  # label 표시\n",
    "ax3.plot(df2['시군구명'], df2['스타벅스 매장수'], marker='o', color='#757575')  # x 시군구명, y 스타벅스 매장수\n",
    "ax3.tick_params(axis='y')  # y축에 대한 틱 -> 틱 라벨의 색상, 라벨의 크기 조절 가능\n",
    "axs[1].tick_params(axis='x', rotation=90)\n",
    "\n",
    "\n",
    "# 서번째 서브플롯\n",
    "axs[2].set_title(\"소매업과 스타벅스 매장의 관계\")\n",
    "axs[2].set_xlabel('지역')\n",
    "axs[2].set_ylabel('소매업 점포수')\n",
    "axs[2].bar(df3['시군구명'], df3['유사_업종_점포_수'], color='#7BFFB9')\n",
    "axs[2].tick_params(axis='y')\n",
    "ax4 = axs[2].twinx()  # x축과 공유하는 새로운 y축을 만듦\n",
    "ax4.set_ylabel('스타벅스 매장 수')  # label 표시\n",
    "ax4.plot(df3['시군구명'], df3['스타벅스 매장수'], marker='o', color='#757575')  # x 시군구명, y 스타벅스 매장수\n",
    "ax4.tick_params(axis='y')  # y축에 대한 틱 -> 틱 라벨의 색상, 라벨의 크기 조절 가능\n",
    "axs[2].tick_params(axis='x', rotation=90)\n",
    "plt.tight_layout()  # 플롯의 여백 최적화\n",
    "\n",
    "plt.show()\n",
    "\n",
    "\n"
   ]
  },
  {
   "cell_type": "code",
   "execution_count": null,
   "metadata": {},
   "outputs": [],
   "source": [
    "import pandas as pd\n",
    "import matplotlib.pyplot as plt\n",
    "import seaborn as sns\n",
    "\n",
    "# 상관 계수 계산\n",
    "correlation = df1['유사_업종_점포_수'].corr(df1['스타벅스 매장수'])\n",
    "correlation2 = df2['유사_업종_점포_수'].corr(df2['스타벅스 매장수'])\n",
    "correlation3 = df3['유사_업종_점포_수'].corr(df3['스타벅스 매장수'])\n",
    "\n",
    "# 산점도 그리기\n",
    "plt.figure(figsize=(8, 6))\n",
    "sns.scatterplot(x='유사_업종_점포_수', y='스타벅스 매장수', data=df1, label=f'외식업 (상관 계수: {correlation:.3f})', color='red')\n",
    "sns.scatterplot(x='유사_업종_점포_수', y='스타벅스 매장수', data=df2, label=f'서비스업 (상관 계수: {correlation2:.3f})', color='blue')\n",
    "sns.scatterplot(x='유사_업종_점포_수', y='스타벅스 매장수', data=df3, label=f'소매업 (상관 계수: {correlation3:.3f})', color='green')\n",
    "\n",
    "plt.title('스타벅스 매장의 상관 계수 산점도')\n",
    "plt.xlabel('업종별 점포수')\n",
    "plt.ylabel('스타벅스 매장 수')\n",
    "plt.legend()\n",
    "\n",
    "plt.show()"
   ]
  },
  {
   "cell_type": "code",
   "execution_count": null,
   "metadata": {},
   "outputs": [],
   "source": [
    "# 서브플롯을 이용하여 업종별 점포수와 스타벅스 매장 수의 관계의 그래프들을 한 곳에 만들기\n",
    "\n",
    "import seaborn as sns\n",
    "import matplotlib.pyplot as plt\n",
    "\n",
    "\n",
    "fig, axs = plt.subplots(3, 1, figsize=(10, 10))\n",
    "\n",
    "\n",
    "sns.regplot(x='유사_업종_점포_수', y='스타벅스 매장수', data=df1, ax=axs[0])\n",
    "axs[0].set_xlabel('외식업 매장의 수')\n",
    "axs[0].set_title('외식업 점포수와 스타벅스 매장 수의 관계')\n",
    "\n",
    "\n",
    "sns.regplot(x='유사_업종_점포_수', y='스타벅스 매장수', data=df2, ax=axs[1])\n",
    "axs[1].set_xlabel('서비스업 매장의 수')\n",
    "axs[1].set_ylabel('서비스업 매장의 수')\n",
    "axs[1].set_title('서비스업 점포수와 스타벅스 매장 수의 관계')\n",
    "\n",
    "sns.regplot(x='유사_업종_점포_수', y='스타벅스 매장수', data=df3, ax=axs[2])\n",
    "axs[2].set_xlabel('소매업 매장의 수')\n",
    "axs[2].set_title('소매업 점포수와 스타벅스 매장 수의 관계')\n",
    "\n",
    "\n",
    "plt.tight_layout()\n",
    "\n",
    "\n",
    "plt.show()\n"
   ]
  },
  {
   "cell_type": "markdown",
   "metadata": {},
   "source": [
    "### 가설5 데이터 시각화 (2032년 분기별 상권유형과 스타벅스 매장 수의 관계성 )"
   ]
  },
  {
   "cell_type": "code",
   "execution_count": null,
   "metadata": {},
   "outputs": [],
   "source": [
    "import folium\n",
    "import json\n",
    "\n",
    "# 서울 지도 및 각구의 경계선 그리기 \n",
    "geo_path = './map/seoul_sgg.geojson'\n",
    "geo_data = json.load(open(geo_path, encoding='utf-8'))\n",
    "\n",
    "\n",
    "seoul_map = folium.Map(location=[37.55,126.98], zoom_start=9)\n",
    "def style_function(feature):\n",
    "    return {\n",
    "        \"opacity\": 0.7,\n",
    "        \"weight\": 1,\n",
    "        \"color\": \"white\",\n",
    "        \"fillOpacity\": 0,\n",
    "        \"dashArray\": \"5,5\"}\n",
    "    \n",
    "folium.GeoJson(\n",
    "    geo_data,\n",
    "    style_function=style_function,\n",
    ").add_to(seoul_map)\n",
    "\n",
    "\n",
    "# 임계값 설정 \n",
    "threshold_scale = [0.5,1.5,3.1,3.9] \n",
    "\n",
    "folium.Choropleth(geo_data=geo_data,    # 지도 경계\n",
    "                  data = df_Q2_CS1,      # 표시하려는 데이터\n",
    "                  columns = [\"시군구명\",\"result\"],  # 열 지정\n",
    "                  fill_color='YlOrRd', \n",
    "                  fill_opacity=0.7, \n",
    "                  line_opacity=0.3,\n",
    "                  key_on='feature.properties.SIG_KOR_NM').add_to(seoul_map)\n",
    "\n",
    "# 지도에 상권 유행 표시 \n",
    "#result_labels = {1:\"FF_안정한 상권_마케팅 필요\",3:\"TF_확장중인 상권\" , 4:\"TT_상권변화가 활발_입지선정(불안전한 상권)\"}\n",
    "result_labels = {1:\"안정한\\n상권\",2:\"쇠퇴한\\n상권\",3:\"확장중인\\n상권\", 4:\"상권변화가활발\\n(불안정)\"}\n",
    "\n",
    "for idx, row in df_Q2_CS1.iterrows():\n",
    "    \n",
    "    result_value = row[\"result\"]\n",
    "    result_label = result_labels.get(result_value,\"Unknown\")\n",
    "    \n",
    "    \n",
    "    folium.Marker(\n",
    "        location=[row[\"위도\"],row[\"경도\"]],\n",
    "        popup = f\"{row['시군구명']}:{result_label}\",\n",
    "        icon = folium.DivIcon(icon_size=(150,100),icon_anchor=(7,20),\n",
    "                             html=f'<div style=\"font-size: 8pt; color : black; fill_opacity: 0.7\">{result_label}</div>')\n",
    "    ).add_to(seoul_map)\n",
    "\n",
    "# 지도에 스타벅스 매장 수에 따라 원을 표시\n",
    "for name,lat,lng,stores in zip(df_Q2_CS1[\"시군구명\"], df_Q2_CS1[\"위도\"], df_Q2_CS1[\"경도\"],df_Q2_CS1[\"스타벅스 매장수\"]):\n",
    "\n",
    "    folium.CircleMarker([lat, lng],\n",
    "                        radius=stores * 0.2,  # 원의 크기\n",
    "                        color='#00704A',         # 원의 둘레 색상\n",
    "                        fill=True,\n",
    "                        fill_color='#00704A',    # 원을 채우는 색\n",
    "                        fill_opacity=1, # 투명도    \n",
    "                        popup=name\n",
    "    ).add_to(seoul_map)\n",
    "seoul_map"
   ]
  },
  {
   "cell_type": "code",
   "execution_count": null,
   "metadata": {},
   "outputs": [],
   "source": [
    "df_Q2_CS1.to_excel(\"./files/가설3.xlsx\",index=False)"
   ]
  },
  {
   "cell_type": "markdown",
   "metadata": {},
   "source": [
    "### 가설6 데이터 시각화 "
   ]
  },
  {
   "cell_type": "code",
   "execution_count": null,
   "metadata": {},
   "outputs": [],
   "source": [
    "import pandas as pd\n",
    "import matplotlib.pyplot as plt\n",
    "import seaborn as sns\n",
    "\n",
    "plt.rc(\"font\",family = \"Apple SD Gothic Neo\")\n",
    "\n",
    "# 상관 계수 계산\n",
    "# 4번 상권:변화가 매우활발한(불안정한) 상권\n",
    "result_4_data = df_Q2_CS1[df_Q2_CS1['result'] == 4]\n",
    "correlation4 = result_4_data['유사_업종_점포_수'].corr(result_4_data['스타벅스 매장수'])\n",
    "# 3번 상권: 확장중인 상권\n",
    "result_3_data = df_Q2_CS1[df_Q2_CS1['result'] == 3]\n",
    "correlation3 = result_3_data['유사_업종_점포_수'].corr(result_3_data['스타벅스 매장수'])\n",
    "\n",
    "plt.figure(figsize=(25, 8))\n",
    "\n",
    "\n",
    "# 산포도 그리기 \n",
    "plt.subplot(131)\n",
    "sns.scatterplot(x=\"유사_업종_점포_수\", y=\"스타벅스 매장수\", data=result_4_data, label=f\"불안정한 상권 (상관 계수: {correlation4:.3f})\", color=\"red\")\n",
    "sns.scatterplot(x=\"유사_업종_점포_수\", y=\"스타벅스 매장수\", data=result_3_data, label=f\"확장중인 상권 (상관 계수: {correlation3:.3f})\", color=\"blue\")\n",
    "plt.title(\"외식업 매장의 수와 스타벅스 매장 수의 관계\")\n",
    "plt.xlabel(\"업종별 점포수\")\n",
    "plt.ylabel(\"스타벅스 매장 수\")\n",
    "plt.legend()\n",
    "\n",
    "# 불안정한 상권의 산포도 corr =0.79\n",
    "plt.subplot(132)\n",
    "sns.regplot(x=\"유사_업종_점포_수\", y=\"스타벅스 매장수\", data=result_4_data)\n",
    "plt.title(\"변화가 매우활발한(불안정한) 상권의 외식업 점포수와 스타벅스 매장 수의 관계 corr=0.79\")\n",
    "plt.xlabel(\"외식업 매장의 수\")\n",
    "\n",
    "# 확장중인 상권의 산포도 corr = 0.94\n",
    "plt.subplot(133)\n",
    "sns.regplot(x=\"유사_업종_점포_수\", y=\"스타벅스 매장수\", data=result_3_data)\n",
    "plt.title(\"확장중인 상권의 외식업 점포수와 스타벅스 매장 수의 관계 corr=0.94\")\n",
    "plt.xlabel(\"외식업 매장의 수\")\n",
    "\n",
    "plt.tight_layout()\n",
    "plt.show()\n"
   ]
  },
  {
   "cell_type": "code",
   "execution_count": null,
   "metadata": {},
   "outputs": [],
   "source": []
  }
 ],
 "metadata": {
  "kernelspec": {
   "display_name": "Python 3 (ipykernel)",
   "language": "python",
   "name": "python3"
  },
  "language_info": {
   "codemirror_mode": {
    "name": "ipython",
    "version": 3
   },
   "file_extension": ".py",
   "mimetype": "text/x-python",
   "name": "python",
   "nbconvert_exporter": "python",
   "pygments_lexer": "ipython3",
   "version": "3.9.7"
  }
 },
 "nbformat": 4,
 "nbformat_minor": 4
}
