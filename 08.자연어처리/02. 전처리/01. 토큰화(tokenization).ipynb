{
 "cells": [
  {
   "cell_type": "markdown",
   "metadata": {},
   "source": [
    "\n",
    "## 데이터 전처리 단계\n",
    "* 토큰화\n",
    "* 정제, 정규화\n",
    "* 어간추출, 표제어 추출\n",
    "* 불용어\n",
    "* 정규 표현식\n",
    "* 정수 인코딩\n",
    "* 패딩\n",
    "* 원-핫 인코딩\n",
    "* 데이터의 분리"
   ]
  },
  {
   "cell_type": "markdown",
   "metadata": {},
   "source": [
    "## 단어 토큰화 (word Tokenization)"
   ]
  },
  {
   "cell_type": "markdown",
   "metadata": {},
   "source": [
    "* NLTK : 영어 코퍼스 토큰화 하는 모듈 (word_tokenize, WordPunctTokenizer)"
   ]
  },
  {
   "cell_type": "code",
   "execution_count": 1,
   "metadata": {},
   "outputs": [
    {
     "name": "stdout",
     "output_type": "stream",
     "text": [
      "Word Tokenize in English ['NLTK', 'provides', 'various', 'tokenizers', 'in', 'English']\n"
     ]
    }
   ],
   "source": [
    "# 토큰화 과정(텍스트를 더 작은 단위로 나누는 과정)\n",
    "\n",
    "from nltk.tokenize import word_tokenize\n",
    "\n",
    "text = 'NLTK provides various tokenizers in English'\n",
    "tokens = word_tokenize(text)\n",
    "print('Word Tokenize in English', tokens)"
   ]
  },
  {
   "cell_type": "code",
   "execution_count": 2,
   "metadata": {},
   "outputs": [
    {
     "name": "stdout",
     "output_type": "stream",
     "text": [
      "Word Tokenize in English ['Do', \"n't\", 'fool', 'yourself', '.', 'John', \"'s\", 'orphanage', 'has', 'as', 'much', 'fun', 'as', 'a', 'trip', 'to', 'the', 'bakery', '.']\n"
     ]
    }
   ],
   "source": [
    "# Don't 를 Do와 n't로 분리, John's를 John과 's 로 나눔 \n",
    "\n",
    "text = \"Don't fool yourself. John's orphanage \\\n",
    "    has as much fun as a trip to the bakery.\"\n",
    "    \n",
    "tokens = word_tokenize(text)\n",
    "print('Word Tokenize in English', tokens)"
   ]
  },
  {
   "cell_type": "code",
   "execution_count": 3,
   "metadata": {},
   "outputs": [
    {
     "name": "stdout",
     "output_type": "stream",
     "text": [
      "Word Tokenize in English ['NLTK', 'provides', 'various', 'tokenizers', 'in', 'English']\n"
     ]
    }
   ],
   "source": [
    "# 구두점을 별도로 분리함. 예: (쉼표, 마침표, 느낌표 등)을 각각 별도의 토큰으로 간주\n",
    "\n",
    "from nltk.tokenize import WordPunctTokenizer\n",
    "\n",
    "text = 'NLTK provides various tokenizers in English'\n",
    "\n",
    "tokens = WordPunctTokenizer().tokenize(text)\n",
    "\n",
    "print('Word Tokenize in English', tokens)"
   ]
  },
  {
   "cell_type": "code",
   "execution_count": 4,
   "metadata": {},
   "outputs": [
    {
     "name": "stdout",
     "output_type": "stream",
     "text": [
      "Word Tokenize in English ['Don', \"'\", 't', 'fool', 'yourself', '.', 'John', \"'\", 's', 'orphanage', 'has', 'as', 'much', 'fun', 'as', 'a', 'trip', 'to', 'the', 'bakery', '.']\n"
     ]
    }
   ],
   "source": [
    "\n",
    "text = \"Don't fool yourself. John's orphanage \\\n",
    "    has as much fun as a trip to the bakery.\" \n",
    "    \n",
    "tokens = WordPunctTokenizer().tokenize(text)\n",
    "\n",
    "print('Word Tokenize in English', tokens)    "
   ]
  },
  {
   "cell_type": "markdown",
   "metadata": {},
   "source": [
    "* Keras : text_to_word_sequence"
   ]
  },
  {
   "cell_type": "code",
   "execution_count": 5,
   "metadata": {},
   "outputs": [
    {
     "data": {
      "text/plain": [
       "[\"don't\",\n",
       " 'fool',\n",
       " 'yourself',\n",
       " \"john's\",\n",
       " 'orphanage',\n",
       " 'has',\n",
       " 'as',\n",
       " 'much',\n",
       " 'fun',\n",
       " 'as',\n",
       " 'a',\n",
       " 'trip',\n",
       " 'to',\n",
       " 'the',\n",
       " 'bakery']"
      ]
     },
     "execution_count": 5,
     "metadata": {},
     "output_type": "execute_result"
    }
   ],
   "source": [
    "# 공백 기준으로 분할 (구두점 제거)\n",
    "# 특수문자 제거 및 모든 알파벳을 소문자로 변환\n",
    "# don't, John's 와 같은 아포스트로피는 보존함.\n",
    "from tensorflow.keras.preprocessing.text import text_to_word_sequence\n",
    "\n",
    "text = \"Don't fool yourself. John's orphanage \\\n",
    "    has as much fun as a trip to the bakery.\" \n",
    "    \n",
    "    \n",
    "text_to_word_sequence(text)"
   ]
  },
  {
   "cell_type": "markdown",
   "metadata": {},
   "source": [
    "### 토큰화를 할때 주의 사항\n",
    "* 문장 부호 및 특수 문자 포함 : 토큰화 과정에서 문장 부호나 특수 문자를 제외하지 말고 의미 있는 단위로 처리 (의미있는 특수문자나 문장부호가 될 수 있음)\n",
    "* 예) m.p.h , ph.D, AT&T, $(달러), 슬래시(/) - 가격, 날짜, 쉼표 등 이런 중요한 단어들이 있기때문에 제외하면 안됨\n",
    "* 줄임말, 단어 내의 띄어쓰기가 있을 때 제외하면 안됨\n",
    "* 예) I'll, Couse I'd, what're, rock 'n' roll, New York"
   ]
  },
  {
   "cell_type": "markdown",
   "metadata": {},
   "source": [
    "### 표준 토큰화\n",
    "* Penn Treebank Tokenization 규칙을 가지고 있음\n",
    "* 문장 부호 유지 : 마침표나 쉼표 등의 문장 부호는 개별 토큰으로 유지\n",
    "* 아포스트로피 활용 : 약어나 축약된 단어의 아포스트로피의 해당 단어의 일부로 유지\n",
    "* ex) \"can't\" 에서 \"can\"과 \"not\"은 분리되지 않고 하나의 토큰으로 유지\n",
    "* 큰 따옴표 내부 : 큰 따옴표 안에 있는 내용은 하나의 토큰으로 취급\n",
    "* 특수 문자 다루기 : 특수 문자는 개별적으로 처리되거나 단어에 포함될 수 있음\n",
    "* ex) '$45.55'는 하나의 토큰으로 취급"
   ]
  },
  {
   "cell_type": "code",
   "execution_count": 6,
   "metadata": {},
   "outputs": [
    {
     "name": "stdout",
     "output_type": "stream",
     "text": [
      "TreebankWordTokenizer: ['The', 'small', 'bookstore', 'on', 'the', 'corner', 'can', 'be', 'a', 'thrilling', 'space', 'for', 'reading', 'enthusiasts.', 'Having', 'their', 'own', 'little', 'reading-nook', 'will', 'be', 'a', 'really', 'special', 'experience.', 'it', 'does', \"n't\", 'have', 'a', 'food']\n"
     ]
    }
   ],
   "source": [
    "# reading-book은 유지, doesn't를 'does'와 'n't'로 변환\n",
    "from nltk.tokenize import TreebankWordTokenizer\n",
    "\n",
    "tokenizer = TreebankWordTokenizer()\n",
    "text = \"The small bookstore on the corner can be a thrilling space for reading enthusiasts. \\\n",
    "    Having their own little reading-nook will be a really special experience. it doesn't have a food\"\n",
    "tokens = tokenizer.tokenize(text)    \n",
    "print('TreebankWordTokenizer:',tokens)"
   ]
  },
  {
   "cell_type": "markdown",
   "metadata": {},
   "source": [
    "## 문장 토큰화(Sentence Tokenization)"
   ]
  },
  {
   "cell_type": "code",
   "execution_count": 7,
   "metadata": {},
   "outputs": [
    {
     "name": "stdout",
     "output_type": "stream",
     "text": [
      "문장 토큰화1 : ['His barber kept his word.', 'But keeping such a huge secret to himself was driving him crazy.', 'Finally, the barber went up a mountain and almost to the edge of a cliff.', 'He dug a hole in the midst of some reeds.', 'He looked about, to make sure        no one was near.']\n"
     ]
    }
   ],
   "source": [
    "# 문장 단위로 분할\n",
    "\n",
    "from nltk.tokenize import sent_tokenize\n",
    "\n",
    "\n",
    "text = \"His barber kept his word. But keeping such a huge secret to himself was driving him crazy. \\\n",
    "        Finally, the barber went up a mountain and almost to the edge of a cliff. \\\n",
    "        He dug a hole in the midst of some reeds. He looked about, to make sure\\\n",
    "        no one was near.\"\n",
    "\n",
    "print('문장 토큰화1 :',sent_tokenize(text))"
   ]
  },
  {
   "cell_type": "code",
   "execution_count": 8,
   "metadata": {},
   "outputs": [
    {
     "name": "stdout",
     "output_type": "stream",
     "text": [
      "문장 토큰화2 :  ['I am actively looking for Ph.D. students.', 'and you are a Ph.D student.']\n"
     ]
    }
   ],
   "source": [
    "text = \"I am actively looking for Ph.D. students. and you are a Ph.D student.\"\n",
    "print(\"문장 토큰화2 : \",sent_tokenize(text))"
   ]
  },
  {
   "cell_type": "markdown",
   "metadata": {},
   "source": [
    "## 품사 태깅(Part-of-speech tagging)"
   ]
  },
  {
   "cell_type": "code",
   "execution_count": 9,
   "metadata": {},
   "outputs": [
    {
     "name": "stdout",
     "output_type": "stream",
     "text": [
      "단어 토큰화: ['I', 'am', 'actively', 'looking', 'for', 'Ph.D.', 'students', '.', 'and', 'you', 'are', 'a', 'Ph.D.', 'student', '.']\n",
      "품사 태깅:  [('I', 'PRP'), ('am', 'VBP'), ('actively', 'RB'), ('looking', 'VBG'), ('for', 'IN'), ('Ph.D.', 'NNP'), ('students', 'NNS'), ('.', '.'), ('and', 'CC'), ('you', 'PRP'), ('are', 'VBP'), ('a', 'DT'), ('Ph.D.', 'NNP'), ('student', 'NN'), ('.', '.')]\n"
     ]
    }
   ],
   "source": [
    "from nltk.tokenize import word_tokenize\n",
    "from nltk.tag import pos_tag\n",
    "\n",
    "text = \"I am actively looking for Ph.D. students. and you are a Ph.D. student.\"\n",
    "tokenized_sentence = word_tokenize(text)\n",
    "\n",
    "print('단어 토큰화:',tokenized_sentence)\n",
    "print('품사 태깅: ',pos_tag(tokenized_sentence))\n",
    "\n",
    "# PRP는 인칭 대명사, VBP는 동사, RB는 부사, VBG는 현재부사, IN은 전치사, NNP는 고유 명사\n",
    "# NNS는 복수형 명사, CC는 접속사, DT는 관사"
   ]
  },
  {
   "cell_type": "markdown",
   "metadata": {},
   "source": [
    "#### 한국어 자연어 처리에 사용되는 도구\n",
    "\n",
    "* OKT(Okt) 형태소 분석기 - open korean Text(오픈 소스 한국어 텍스트)의 약자, 간단하면서도 빠르게 동작하는 것이 특징\n",
    "\n",
    "* KMA 형태소 분석기 - 고려대학교에서 만든 형태소 분석기의 약자 / 정교하고 상세한 분석을 제공, 정확한 분석을 위해 더 많은 리소스와 시간이 필요함."
   ]
  },
  {
   "cell_type": "code",
   "execution_count": 10,
   "metadata": {},
   "outputs": [
    {
     "name": "stdout",
     "output_type": "stream",
     "text": [
      "OKT 형태소 분석: ['열심히', '코딩', '한', '당신', ',', '연휴', '에는', '여행', '을', '가봐요']\n",
      "OKT 품사 태깅: [('열심히', 'Adverb'), ('코딩', 'Noun'), ('한', 'Josa'), ('당신', 'Noun'), (',', 'Punctuation'), ('연휴', 'Noun'), ('에는', 'Josa'), ('여행', 'Noun'), ('을', 'Josa'), ('가봐요', 'Verb')]\n",
      "OKT 명사 추출: ['코딩', '당신', '연휴', '여행']\n"
     ]
    }
   ],
   "source": [
    "\n",
    "''' \n",
    "morphs : 형태소 추출\n",
    "pos : 품사 태깅\n",
    "nouns : 명사 추출\n",
    "'''\n",
    "from konlpy.tag import Okt\n",
    "from konlpy.tag import Kkma\n",
    "\n",
    "okt = Okt()\n",
    "kkma = Kkma()\n",
    "\n",
    "print('OKT 형태소 분석:',okt.morphs(\"열심히 코딩한 당신, 연휴에는 여행을 가봐요\"))\n",
    "print('OKT 품사 태깅:',okt.pos(\"열심히 코딩한 당신, 연휴에는 여행을 가봐요\"))\n",
    "print('OKT 명사 추출:',okt.nouns(\"열심히 코딩한 당신, 연휴에는 여행을 가봐요\"))"
   ]
  },
  {
   "cell_type": "code",
   "execution_count": 11,
   "metadata": {},
   "outputs": [
    {
     "name": "stdout",
     "output_type": "stream",
     "text": [
      "꼬꼬마 형태소 분석: ['열심히', '코딩', '하', 'ㄴ', '당신', ',', '연휴', '에', '는', '여행', '을', '가보', '아요']\n",
      "꼬꼬마 품사 태깅: [('열심히', 'MAG'), ('코딩', 'NNG'), ('하', 'XSV'), ('ㄴ', 'ETD'), ('당신', 'NP'), (',', 'SP'), ('연휴', 'NNG'), ('에', 'JKM'), ('는', 'JX'), ('여행', 'NNG'), ('을', 'JKO'), ('가보', 'VV'), ('아요', 'EFN')]\n",
      "꼬꼬마 명사 추출: ['코딩', '당신', '연휴', '여행']\n"
     ]
    }
   ],
   "source": [
    "print(\"꼬꼬마 형태소 분석:\",kkma.morphs(\"열심히 코딩한 당신, 연휴에는 여행을 가봐요\"))\n",
    "print(\"꼬꼬마 품사 태깅:\",kkma.pos(\"열심히 코딩한 당신, 연휴에는 여행을 가봐요\"))\n",
    "print(\"꼬꼬마 명사 추출:\",kkma.nouns(\"열심히 코딩한 당신, 연휴에는 여행을 가봐요\"))"
   ]
  },
  {
   "cell_type": "code",
   "execution_count": null,
   "metadata": {},
   "outputs": [],
   "source": []
  }
 ],
 "metadata": {
  "kernelspec": {
   "display_name": "base",
   "language": "python",
   "name": "python3"
  },
  "language_info": {
   "codemirror_mode": {
    "name": "ipython",
    "version": 3
   },
   "file_extension": ".py",
   "mimetype": "text/x-python",
   "name": "python",
   "nbconvert_exporter": "python",
   "pygments_lexer": "ipython3",
   "version": "3.11.5"
  }
 },
 "nbformat": 4,
 "nbformat_minor": 2
}
