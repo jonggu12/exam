{
 "cells": [
  {
   "cell_type": "markdown",
   "metadata": {},
   "source": [
    "# 정제 (Cleaning)\n",
    "* 텍스트 데이터를 정리하고 깨끗하게 만드는 과정\n",
    "    * 데이터(코퍼스)의 노이즈, 불필요한 정보, 오류, 형식의 일관성 부재 등을 제거 혹은 수정\n",
    "    * 데이데이터를 표준화하고 분석에 적합한 형태로 만듬"
   ]
  },
  {
   "cell_type": "markdown",
   "metadata": {},
   "source": [
    "# 정규화 (normalization)\n",
    "* 텍스트 데이터를 일관된 형태로 가공하는 과정\n",
    "* 텍스트의 다양한 형태를 유사한 형태로 변환하여 데이터를 표준화\n",
    "    * 단어의 대소문자 통일, 특수 문자나 숫자의 제거, 어간 추출 등을 포함"
   ]
  },
  {
   "cell_type": "markdown",
   "metadata": {},
   "source": [
    "# 정규 표현식 (Regular Expression)"
   ]
  },
  {
   "cell_type": "code",
   "execution_count": null,
   "metadata": {},
   "outputs": [],
   "source": [
    "# 문제 : \"주민등록번호를 포함하고 있는 텍스트가 있다. 이 텍스트에 포함된 모든 주민등록번호의 뒷자리를 * 문자로 변경하기"
   ]
  },
  {
   "cell_type": "code",
   "execution_count": null,
   "metadata": {},
   "outputs": [],
   "source": [
    "'''\n",
    "전체 텍스트를 공백 문자로 나눈다(split).\n",
    "나뉜 단어가 주민등록번호 형식인지 조사한다.\n",
    "단어가 주민등록번호 형식이라면 뒷자리를 *로 변환한다.\n",
    "나뉜 단어를 다시 조립한다\n",
    "'''"
   ]
  },
  {
   "cell_type": "code",
   "execution_count": 23,
   "metadata": {},
   "outputs": [
    {
     "name": "stdout",
     "output_type": "stream",
     "text": [
      "981022-********\n"
     ]
    }
   ],
   "source": [
    "data = input(\"주민등록번호를 입력하세요\")\n",
    "# 만약 data 자릿수가 14, 6이  '-' \n",
    "if len(data) == 14 and data[6] == '-':\n",
    "    mark = data[:6] + \"-********\"\n",
    "    print(mark)\n",
    "else:\n",
    "    print(\"잘못 입력하셨습니다.\")\n",
    "\n"
   ]
  },
  {
   "cell_type": "code",
   "execution_count": 28,
   "metadata": {},
   "outputs": [
    {
     "name": "stdout",
     "output_type": "stream",
     "text": [
      "800905-********\n",
      "700905-********\n",
      "[' ', 'park 800905-********', 'kim 700905-********', '', '', '']\n",
      " \n",
      "park 800905-********\n",
      "kim 700905-********\n",
      "\n",
      "\n",
      "\n"
     ]
    }
   ],
   "source": [
    "data = \"\"\" \n",
    "park 800905-1049118\n",
    "kim 700905-1059119\n",
    "\n",
    "\n",
    "\"\"\"\n",
    "\n",
    "result = []\n",
    "for line in data.split(\"\\n\"):\n",
    "    word_result = []\n",
    "    for word in line.split(\" \"):\n",
    "        if len(word) == 14 and word[:6].isdigit() and word[7:].isdigit():\n",
    "            word = word[:6] + \"-\" + \"********\"\n",
    "            print(word)\n",
    "        word_result.append(word)\n",
    "    result.append(\" \".join(word_result))\n",
    "print(result)\n",
    "print(\"\\n\".join(result))"
   ]
  },
  {
   "cell_type": "code",
   "execution_count": 30,
   "metadata": {},
   "outputs": [
    {
     "name": "stdout",
     "output_type": "stream",
     "text": [
      "\n",
      "\n",
      "park 800905-*******\n",
      "kim 700905-*******\n",
      "\n",
      "\n"
     ]
    }
   ],
   "source": [
    "# 정규 표현식\n",
    "\n",
    "import re\n",
    "\n",
    "data = \"\"\"\n",
    "\n",
    "park 800905-1049118\n",
    "kim 700905-1059119\n",
    "\n",
    "\"\"\"\n",
    "\n",
    "# 정규 표현식 패턴을 정의\n",
    "# d{6} : 숫자 6개 + \"-\" + d{7} : 숫자 7개\n",
    "pat = re.compile(\"(\\d{6})[-]\\d{7}\")\n",
    "# \\g<1>는 정규 표현식에서 정의한 첫 번째 그룹(주민등록번호의 앞 6자리)을 참조 , 나머지 주민등록번호 부분을 마스킹\n",
    "print(pat.sub(\"\\g<1>-*******\",data))"
   ]
  },
  {
   "cell_type": "markdown",
   "metadata": {},
   "source": [
    "### 정규표현 기초 / 메타 문자\n",
    "* 메타문자 : 원래 가지고 있는 의미가 아닌 특별한 의미를 부여한 문자\n",
    "* . ^ $ * + { } [ ] \\ | ( )"
   ]
  },
  {
   "cell_type": "code",
   "execution_count": null,
   "metadata": {},
   "outputs": [],
   "source": [
    "'''  \n",
    "= 정규 표현식 [abc] : a, b, c 중 한개의 문자와 매치하면 True\n",
    "    * 문자열 'a','before','dude'가 정규식 [abc]와 어떻게 매치\n",
    "        * \"a\"는 정규식과 일치하는 문자인 \"a\"가 있으므로 매치\n",
    "        * \"before\" 는 정규식과 일치하는 문자인 \"b\"가 있으므로 매치\n",
    "        * \"dude\"는 정규식과 일치하는 문자인 a,b,c 중 어느 하나도 포함하고 있지 않으므로 매치가 안됨\n",
    "        \n",
    "= [a-c] : [abc]와 동일, [0-5]: [012345]와 동일\n",
    "    * [a-zA-Z] : 모든 알파벳\n",
    "    * [0-9] : 모든 숫자\n",
    "    * ^ : 반대(not), [^0-9] : 숫자가 아닌 문자만 매치\n",
    "\n",
    "\n",
    "'''"
   ]
  },
  {
   "cell_type": "code",
   "execution_count": null,
   "metadata": {},
   "outputs": [],
   "source": [
    "'''   \n",
    "= 자주 사용하는 문자 클래스\n",
    "    * \\d : 숫자와 매치, [0-9]와 동일한 표현식\n",
    "    * \\D : 숫자가 아닌 것과 매치, [^0-9]와 동일한 표현식\n",
    "    * \\s : 화이트스페이스(whitespace) 문자와 매치, [\\t\\n\\r\\f\\v]와 동일한 표현식\n",
    "    * \\S : 화이트스페이스(whitespace) 문자가 아닌 것과 매치, [^ \\t\\n\\r\\f\\v]와 도일한 표현식\n",
    "    * \\w : 문자+숫자(alphanumeric)와 매치, [a-zA-Z0-9_]와 동일한 표현식\n",
    "    * \\W : 문자+숫자와 아닌 것과 매치, [^ a-zA-Z0-9_]와 동일한 표현식\n",
    "'''"
   ]
  },
  {
   "cell_type": "code",
   "execution_count": 31,
   "metadata": {},
   "outputs": [
    {
     "data": {
      "text/plain": [
       "'    \\n\\n= .(dot) 문자 - \\n을 제외한 모든 문자 \\n    * a.b(정규식) = \"a + 모든_문자 + b\" (정규식에 대입할 문자열)\\n    * 문자열 \"aab\", \"a0b, \"abc\"\\n        \"aab\"와 \"a0b\"는 정규식과 매치 \\n        \"abc\"는 뒤에 c이므로 정규식과 매치하지않음\\n        \"aabb\"는 정규식 a.b 사이에 하나의 단어가 있어야하므로 안됨\\n        \\n= a[.]b : [.]에서의 .은 메타 문자가 아니라, \\',\\' 문자 그대로 의미\\n    * \"a.b\"라는 문자열은 이 정규 표현식과 매치되지만, \"acb\"나 \"abb\"는 매치되지 않는다.\\n    \\n    \\n= * 문자 : * 바로 앞에 있는 문자를 0부터 무한대까지 반복\\n    * ca*t : 문자 a가 0부터 무한대까지 반복 될 수 있음 (약 2억개)\\n        \"ct\" : 문자 a가 0번 반복되어 매치\\n        \"cat\" : 문자 a가 0번 이상 반복되어 매치 (1번 반복)\\n        \"caat\" : 문자 a가 0번 이상 반복되어 매치(3회 반복)\\n\\n= + 문자 : + 바로 앞에 이는 문자를 최소 1번 이상 반복될 때 사용\\n    * ca+t : \"c + a가 1번 이상 반복 +t\"\\n        \"ct\": \"a\"가 0번 이상 반복되어 매치되지 않음\\n        \"cat\": \"a\"가 1번 이상 반복되어 매치 (1번 반복)\\n        \"caat\": \\n\\n\\n'"
      ]
     },
     "execution_count": 31,
     "metadata": {},
     "output_type": "execute_result"
    }
   ],
   "source": [
    "'''    \n",
    "\n",
    "= .(dot) 문자 - \\n을 제외한 모든 문자 \n",
    "    * a.b(정규식) = \"a + 모든_문자 + b\" (정규식에 대입할 문자열)\n",
    "    * 문자열 \"aab\", \"a0b, \"abc\"\n",
    "        \"aab\"와 \"a0b\"는 정규식과 매치 \n",
    "        \"abc\"는 뒤에 c이므로 정규식과 매치하지않음\n",
    "        \"aabb\"는 정규식 a.b 사이에 하나의 단어가 있어야하므로 안됨\n",
    "        \n",
    "= a[.]b : [.]에서의 .은 메타 문자가 아니라, '.' 문자 그대로 의미\n",
    "    * \"a.b\"라는 문자열은 이 정규 표현식과 매치되지만, \"acb\"나 \"abb\"는 매치되지 않는다.\n",
    "    \n",
    "    \n",
    "= * 문자 : * 바로 앞에 있는 문자를 0부터 무한대까지 반복\n",
    "    * ca*t : 문자 a가 0부터 무한대까지 반복 될 수 있음 (약 2억개)\n",
    "        \"ct\" : 문자 a가 0번 반복되어 매치\n",
    "        \"cat\" : 문자 a가 0번 이상 반복되어 매치 (1번 반복)\n",
    "        \"caaat\" : 문자 a가 0번 이상 반복되어 매치(3회 반복)\n",
    "\n",
    "= + 문자 : + 바로 앞에 이는 문자를 최소 1번 이상 반복될 때 사용\n",
    "    * ca+t : \"c + a가 1번 이상 반복 + t\"\n",
    "        \"ct\": \"a\"가 0번 이상 반복되어 매치되지 않음\n",
    "        \"cat\": \"a\"가 1번 이상 반복되어 매치 (1번 반복)\n",
    "        \"caat\": \"a\"가 1번 이상 반복되어 매치 (3번 반복)\n",
    "\n",
    "'''"
   ]
  },
  {
   "cell_type": "code",
   "execution_count": null,
   "metadata": {},
   "outputs": [],
   "source": [
    "'''   \n",
    "\n",
    "\n",
    "= {} 문자와 ? 문자\n",
    "    * {m} : ca(2)t = \"c + a를_반드시_2번_반복 + t\"\n",
    "        \"cat\" : a가 한번 반복이기 때문에 매치되지 않음.\n",
    "        \"caat\" : a가 두번 반복되기 때문에 매치가 됨.\n",
    "        \n",
    "    * {m, n} : 반복 횟수가 m부터 n까지인 문자와 매치\n",
    "        {3,} : 반복 횟수가 3 이상인 경우\n",
    "        {, 3} : 반복 횟수가 3 이하인 경우\n",
    "        {1,}은 +, {0,}은 *와 동일\n",
    "        ca(2,5)t = \"c + (a를_2~5회_반복) + t\"  \n",
    "        \"cat\" : a가 한번이므로 매치가 안됨\n",
    "        \"caat\" : a가 두번이므로 매치\n",
    "        \"caaat\" :a가 세번이므로 매치 \n",
    "        \n",
    "    * ? : {0,1}의 의미\n",
    "        ab?c = \"a+b가_있어도_되고_없어도_됨 + c\"\n",
    "        \"abc\" : 매치\n",
    "        \"ac\" : 매치\n",
    "        \n",
    "        \n",
    "    * *,+,? : 메타 문자는 모두 {m,n} 형태로 고쳐 쓰는 것이 가능하지만 *,+,? 사용 권장    \n",
    "        \n",
    "'''"
   ]
  },
  {
   "cell_type": "markdown",
   "metadata": {},
   "source": [
    "### 정규 표현식 모듈 : re"
   ]
  },
  {
   "cell_type": "code",
   "execution_count": 1,
   "metadata": {},
   "outputs": [
    {
     "name": "stdout",
     "output_type": "stream",
     "text": [
      "<re.Match object; span=(0, 6), match='python'>\n"
     ]
    }
   ],
   "source": [
    "import re\n",
    "\n",
    "\n",
    "\n",
    "p = re.compile(\"[a-z]+\")\n",
    "\n",
    "m = p.match(\"python\")\n",
    "print(m)"
   ]
  },
  {
   "cell_type": "markdown",
   "metadata": {},
   "source": [
    "* match : 처음부터 정규식과 매치되는지 조사\n",
    "* search : 문자열 전체를 검색하여 정규식과 매치되는지 조사\n",
    "* findall : 정규식과 매치되는 모든 문자열(substring)을 리스트로 리턴\n",
    "* finditer : 정규식과 매치되는 모든 문자열(substring)을 반복 가능한 객체로 리턴"
   ]
  },
  {
   "cell_type": "code",
   "execution_count": 58,
   "metadata": {},
   "outputs": [
    {
     "name": "stdout",
     "output_type": "stream",
     "text": [
      "<re.Match object; span=(0, 2), match='py'>\n"
     ]
    }
   ],
   "source": [
    "m = p.match(\"py3tho3n\")\n",
    "print(m)"
   ]
  },
  {
   "cell_type": "code",
   "execution_count": 2,
   "metadata": {},
   "outputs": [
    {
     "name": "stdout",
     "output_type": "stream",
     "text": [
      "None\n"
     ]
    }
   ],
   "source": [
    "m = p.match(\"3 python\")\n",
    "print(m)"
   ]
  },
  {
   "cell_type": "code",
   "execution_count": 52,
   "metadata": {},
   "outputs": [
    {
     "name": "stdout",
     "output_type": "stream",
     "text": [
      "Match found: 조사\n"
     ]
    }
   ],
   "source": [
    "p = re.compile('조사')\n",
    "m = p.match('조사할 문자열')\n",
    "if m:\n",
    "    print('Match found:',m.group())\n",
    "else:\n",
    "    print('No match')"
   ]
  },
  {
   "cell_type": "code",
   "execution_count": 59,
   "metadata": {},
   "outputs": [
    {
     "name": "stdout",
     "output_type": "stream",
     "text": [
      "<re.Match object; span=(0, 6), match='python'>\n"
     ]
    }
   ],
   "source": [
    "# search 전체적인 검색     \n",
    "\n",
    "m = p.search(\"python\")\n",
    "print(m)"
   ]
  },
  {
   "cell_type": "code",
   "execution_count": 60,
   "metadata": {},
   "outputs": [
    {
     "name": "stdout",
     "output_type": "stream",
     "text": [
      "<re.Match object; span=(2, 8), match='python'>\n"
     ]
    }
   ],
   "source": [
    "m = p.search(\"3 python\")\n",
    "print(m)"
   ]
  },
  {
   "cell_type": "code",
   "execution_count": 61,
   "metadata": {},
   "outputs": [
    {
     "name": "stdout",
     "output_type": "stream",
     "text": [
      "['life', 'is', 'too', 'short']\n"
     ]
    }
   ],
   "source": [
    "# findall \n",
    "result = p.findall('life is too short')\n",
    "print(result)"
   ]
  },
  {
   "cell_type": "code",
   "execution_count": 63,
   "metadata": {},
   "outputs": [
    {
     "name": "stdout",
     "output_type": "stream",
     "text": [
      "['life', 'is', 'too', 'short']\n"
     ]
    }
   ],
   "source": [
    "result = p.findall('life3is88too short')\n",
    "print(result)"
   ]
  },
  {
   "cell_type": "code",
   "execution_count": 65,
   "metadata": {},
   "outputs": [
    {
     "name": "stdout",
     "output_type": "stream",
     "text": [
      "<callable_iterator object at 0x128580370>\n",
      "<re.Match object; span=(0, 4), match='life'>\n",
      "<re.Match object; span=(5, 7), match='is'>\n",
      "<re.Match object; span=(8, 11), match='too'>\n",
      "<re.Match object; span=(12, 17), match='short'>\n"
     ]
    }
   ],
   "source": [
    "# finditer\n",
    "\n",
    "result = p.finditer(\"life is too short\")\n",
    "print(result)\n",
    "\n",
    "\n",
    "for r in result: print(r)"
   ]
  },
  {
   "cell_type": "markdown",
   "metadata": {},
   "source": [
    "* match 객체의 메서드\n",
    "    * group : 매치된 문자열을 리턴\n",
    "    * start : 매치된 문자열의 시작 위치를 리턴\n",
    "    * end : 매치된 문자열의 끝 위치를 리턴\n",
    "    * span : 매치된 문자열의 (시작,끝)에 해당하는 튜플을 리턴"
   ]
  },
  {
   "cell_type": "code",
   "execution_count": 66,
   "metadata": {},
   "outputs": [
    {
     "name": "stdout",
     "output_type": "stream",
     "text": [
      "python\n",
      "0\n",
      "6\n",
      "(0, 6)\n"
     ]
    }
   ],
   "source": [
    "m = p.match('python')\n",
    "print(m.group())\n",
    "print(m.start())\n",
    "print(m.end())\n",
    "print(m.span())"
   ]
  },
  {
   "cell_type": "code",
   "execution_count": 67,
   "metadata": {},
   "outputs": [
    {
     "name": "stdout",
     "output_type": "stream",
     "text": [
      "python\n",
      "2\n",
      "8\n",
      "(2, 8)\n"
     ]
    }
   ],
   "source": [
    "m = p.search(\"3 python\")\n",
    "print(m.group())\n",
    "print(m.start())\n",
    "print(m.end())\n",
    "print(m.span())\n"
   ]
  }
 ],
 "metadata": {
  "kernelspec": {
   "display_name": "base",
   "language": "python",
   "name": "python3"
  },
  "language_info": {
   "codemirror_mode": {
    "name": "ipython",
    "version": 3
   },
   "file_extension": ".py",
   "mimetype": "text/x-python",
   "name": "python",
   "nbconvert_exporter": "python",
   "pygments_lexer": "ipython3",
   "version": "3.11.5"
  }
 },
 "nbformat": 4,
 "nbformat_minor": 2
}
