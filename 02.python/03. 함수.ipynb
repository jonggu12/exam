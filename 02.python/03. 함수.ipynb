{
 "cells": [
  {
   "cell_type": "markdown",
   "id": "00b74bf9",
   "metadata": {},
   "source": [
    "* type 1: 입력값(매개변수, 파라메터) / 결과(리턴)값이 없는 함수"
   ]
  },
  {
   "cell_type": "code",
   "execution_count": 1,
   "id": "7da41876",
   "metadata": {},
   "outputs": [
    {
     "name": "stdout",
     "output_type": "stream",
     "text": [
      "hi\n"
     ]
    }
   ],
   "source": [
    "def say():\n",
    "    print(\"hi\")\n",
    "    \n",
    "say()"
   ]
  },
  {
   "cell_type": "markdown",
   "id": "a261491b",
   "metadata": {},
   "source": [
    "* 입력값만 있는 함수"
   ]
  },
  {
   "cell_type": "code",
   "execution_count": 3,
   "id": "e5f964ff",
   "metadata": {
    "scrolled": true
   },
   "outputs": [
    {
     "name": "stdout",
     "output_type": "stream",
     "text": [
      "7\n"
     ]
    }
   ],
   "source": [
    "def add(a,b):\n",
    "    result = a+b\n",
    "    print(result)\n",
    "    \n",
    "add(3,4)"
   ]
  },
  {
   "cell_type": "markdown",
   "id": "3fceb4c1",
   "metadata": {},
   "source": [
    "* 결과값만 있는 함수"
   ]
  },
  {
   "cell_type": "code",
   "execution_count": 31,
   "id": "38a26794",
   "metadata": {},
   "outputs": [
    {
     "name": "stdout",
     "output_type": "stream",
     "text": [
      "hi\n"
     ]
    }
   ],
   "source": [
    "#def say():\n",
    "#    print('hi')\n",
    "\n",
    "#say()\n",
    "\n",
    "\n",
    "def say():\n",
    "    return 'hi'\n",
    "\n",
    "\n",
    "a = say()\n",
    "print(a)"
   ]
  },
  {
   "cell_type": "code",
   "execution_count": 21,
   "id": "eb22a00d",
   "metadata": {},
   "outputs": [
    {
     "name": "stdout",
     "output_type": "stream",
     "text": [
      "결과값은6입니다.\n"
     ]
    }
   ],
   "source": [
    "def cal(choice, a,b):\n",
    "    result = 0\n",
    "    if choice == 0: # add\n",
    "        result = a+b\n",
    "    elif choice == 1: #mul\n",
    "        result = a*b\n",
    "    elif choice == 2: #div\n",
    "        result = a/b\n",
    "    else:\n",
    "        result = a-b\n",
    "        \n",
    "    return result\n",
    "\n",
    "    \n",
    "res = cal(1,2,3)\n",
    "print(\"결과값은\"+str(res)+\"입니다.\")\n"
   ]
  },
  {
   "cell_type": "markdown",
   "id": "ca2016ba",
   "metadata": {},
   "source": [
    "* 입력값과 결과값이 있는 함수"
   ]
  },
  {
   "cell_type": "code",
   "execution_count": 22,
   "id": "be471f9f",
   "metadata": {},
   "outputs": [
    {
     "name": "stdout",
     "output_type": "stream",
     "text": [
      "7\n"
     ]
    }
   ],
   "source": [
    "def add(a,b):\n",
    "    result = a+b\n",
    "    return result\n",
    "\n",
    "c = add(3,4)\n",
    "\n",
    "print(c)"
   ]
  },
  {
   "cell_type": "markdown",
   "id": "2fb2bb29",
   "metadata": {},
   "source": [
    "* 예외1: 입력값만 있는 함수"
   ]
  },
  {
   "cell_type": "code",
   "execution_count": 32,
   "id": "b4a9fe7e",
   "metadata": {},
   "outputs": [
    {
     "name": "stdout",
     "output_type": "stream",
     "text": [
      "None\n"
     ]
    }
   ],
   "source": [
    "def add(a,b):\n",
    "    result = a + b #리턴 값이 없음.\n",
    "\n",
    "c = add(3,4)\n",
    "print(c)"
   ]
  },
  {
   "cell_type": "markdown",
   "id": "98d0757b",
   "metadata": {},
   "source": [
    "* 예외2: 매개변수 지정하여 호출"
   ]
  },
  {
   "cell_type": "code",
   "execution_count": 38,
   "id": "b6fd24aa",
   "metadata": {},
   "outputs": [
    {
     "name": "stdout",
     "output_type": "stream",
     "text": [
      "10\n"
     ]
    }
   ],
   "source": [
    "def add(a,b):\n",
    "    return a+b\n",
    "\n",
    "result = add(a=3,b=7)\n",
    "print(result)\n"
   ]
  },
  {
   "cell_type": "code",
   "execution_count": 39,
   "id": "bc077524",
   "metadata": {},
   "outputs": [
    {
     "name": "stdout",
     "output_type": "stream",
     "text": [
      "10\n"
     ]
    }
   ],
   "source": [
    "result = add(b=7, a=3)\n",
    "print(result)"
   ]
  },
  {
   "cell_type": "markdown",
   "id": "84bd44aa",
   "metadata": {},
   "source": [
    "* 입력값이 몇 개일지 모를 때"
   ]
  },
  {
   "cell_type": "code",
   "execution_count": 44,
   "id": "22845052",
   "metadata": {},
   "outputs": [
    {
     "name": "stdout",
     "output_type": "stream",
     "text": [
      "(1, 2, 3)\n"
     ]
    }
   ],
   "source": [
    "def add_many(*args):\n",
    "    print(args)\n",
    "    \n",
    "result = add_many(1,2,3)"
   ]
  },
  {
   "cell_type": "code",
   "execution_count": 43,
   "id": "a14c370a",
   "metadata": {},
   "outputs": [
    {
     "name": "stdout",
     "output_type": "stream",
     "text": [
      "(1, 2, 3, 4, 5, 6, 7, 8, 9, 10)\n"
     ]
    }
   ],
   "source": [
    "result = add_many(1,2,3,4,5,6,7,8,9,10)"
   ]
  },
  {
   "cell_type": "code",
   "execution_count": 49,
   "id": "1dcbc407",
   "metadata": {},
   "outputs": [
    {
     "name": "stdout",
     "output_type": "stream",
     "text": [
      "(1, 2, 3)\n",
      "6\n"
     ]
    }
   ],
   "source": [
    "def add_many(*args):\n",
    "    print(args) #args 범위 알려주는 프린트\n",
    "    result = 0\n",
    "    for i in args: # args 범위에\n",
    "        result = result + i #누적값 더하기\n",
    "    return result #리턴\n",
    "\n",
    "\n",
    "result = add_many(1,2,3) #y = f(x)\n",
    "print(result)"
   ]
  },
  {
   "cell_type": "code",
   "execution_count": 50,
   "id": "529ca47c",
   "metadata": {},
   "outputs": [
    {
     "name": "stdout",
     "output_type": "stream",
     "text": [
      "(1, 2, 3, 4, 5, 6, 7, 8, 9, 10)\n",
      "55\n"
     ]
    }
   ],
   "source": [
    "result = add_many(1,2,3,4,5,6,7,8,9,10) \n",
    "print(result) # 모든 값더하기"
   ]
  },
  {
   "cell_type": "code",
   "execution_count": 64,
   "id": "ee32168f",
   "metadata": {},
   "outputs": [
    {
     "name": "stdout",
     "output_type": "stream",
     "text": [
      "96\n"
     ]
    }
   ],
   "source": [
    "def add_mul(choice, *args): \n",
    "    if choice == \"add\":\n",
    "        result = 0\n",
    "        for i in args:\n",
    "            result = result + i\n",
    "    elif choice == \"mul\":\n",
    "        result = 1\n",
    "        for i in args:\n",
    "            result = result * i\n",
    "    return result\n",
    "    \n",
    "d = add_mul(\"mul\",2,3,4)\n",
    "print(d)"
   ]
  },
  {
   "cell_type": "code",
   "execution_count": 65,
   "id": "34d67446",
   "metadata": {},
   "outputs": [
    {
     "name": "stdout",
     "output_type": "stream",
     "text": [
      "{'a': 1}\n"
     ]
    }
   ],
   "source": [
    "#키워드 매개변수\n",
    "\n",
    "def print_kwargs(**kwargs):\n",
    "    print(kwargs)\n",
    "    \n",
    "print_kwargs(a=1)"
   ]
  },
  {
   "cell_type": "code",
   "execution_count": 66,
   "id": "d9bc765c",
   "metadata": {},
   "outputs": [
    {
     "name": "stdout",
     "output_type": "stream",
     "text": [
      "{'name': 'foo', 'age': 3}\n"
     ]
    }
   ],
   "source": [
    "print_kwargs(name = 'foo', age=3)"
   ]
  },
  {
   "cell_type": "markdown",
   "id": "0672b0d7",
   "metadata": {},
   "source": [
    "* return 스타일"
   ]
  },
  {
   "cell_type": "code",
   "execution_count": 67,
   "id": "033bbbce",
   "metadata": {},
   "outputs": [
    {
     "data": {
      "text/plain": [
       "(7, 12)"
      ]
     },
     "execution_count": 67,
     "metadata": {},
     "output_type": "execute_result"
    }
   ],
   "source": [
    "def add_and_mul(a,b):\n",
    "    return a+b, a*b\n",
    "\n",
    "result = add_and_mul(3,4)\n",
    "result"
   ]
  },
  {
   "cell_type": "code",
   "execution_count": 70,
   "id": "04312216",
   "metadata": {},
   "outputs": [
    {
     "name": "stdout",
     "output_type": "stream",
     "text": [
      "7\n",
      "12\n"
     ]
    }
   ],
   "source": [
    "result1, result2 =add_and_mul(3,4)\n",
    "print(result1)\n",
    "print(result2)"
   ]
  },
  {
   "cell_type": "code",
   "execution_count": 71,
   "id": "21129e40",
   "metadata": {},
   "outputs": [
    {
     "data": {
      "text/plain": [
       "7"
      ]
     },
     "execution_count": 71,
     "metadata": {},
     "output_type": "execute_result"
    }
   ],
   "source": [
    "def add_and_mul(a,b): #리턴은 하나밖에 사용 안됨\n",
    "    return a+b\n",
    "    return a*b\n",
    "\n",
    "result = add_and_mul(3,4)\n",
    "result"
   ]
  },
  {
   "cell_type": "code",
   "execution_count": 74,
   "id": "52950520",
   "metadata": {},
   "outputs": [
    {
     "name": "stdout",
     "output_type": "stream",
     "text": [
      "나의 별명은 야호입니다.\n"
     ]
    }
   ],
   "source": [
    "def say_nick(nick):\n",
    "    if nick == \"바보\":\n",
    "        return\n",
    "    print(\"나의 별명은 %s입니다.\" %nick)\n",
    "    \n",
    "say_nick(\"야호\")"
   ]
  },
  {
   "cell_type": "code",
   "execution_count": 76,
   "id": "916214f6",
   "metadata": {},
   "outputs": [],
   "source": [
    "say_nick(\"바보\")"
   ]
  },
  {
   "cell_type": "markdown",
   "id": "66ce074a",
   "metadata": {},
   "source": [
    "* 매개변수에 초기값 미리 설정"
   ]
  },
  {
   "cell_type": "code",
   "execution_count": 81,
   "id": "b08df2d3",
   "metadata": {},
   "outputs": [
    {
     "name": "stdout",
     "output_type": "stream",
     "text": [
      "나의 이름은 최종규 입니다\n",
      "나이는 26살 입니다.\n",
      "남자입니다.\n"
     ]
    }
   ],
   "source": [
    "def say_myself(name,age,man=True): #성별을 미리 설정함.\n",
    "    print(\"나의 이름은 %s 입니다\" %name)\n",
    "    print(\"나이는 %d살 입니다.\" %age)\n",
    "    \n",
    "    if man:\n",
    "        print(\"남자입니다.\")\n",
    "    else:\n",
    "        print(\"여자입니다.\")\n",
    "        \n",
    "say_myself(\"최종규\",26)"
   ]
  },
  {
   "cell_type": "code",
   "execution_count": 83,
   "id": "8ac0c746",
   "metadata": {},
   "outputs": [
    {
     "name": "stdout",
     "output_type": "stream",
     "text": [
      "나의 이름은 최종규 입니다\n",
      "나이는 26살 입니다.\n",
      "여자입니다.\n"
     ]
    }
   ],
   "source": [
    "say_myself(\"최종규\",26,False)"
   ]
  },
  {
   "cell_type": "code",
   "execution_count": 84,
   "id": "06aa228e",
   "metadata": {},
   "outputs": [
    {
     "name": "stdout",
     "output_type": "stream",
     "text": [
      "나의 이름은 최종규 입니다\n",
      "나이는 26살 입니다.\n",
      "남자입니다.\n"
     ]
    }
   ],
   "source": [
    "say_myself(\"최종규\",26,True)"
   ]
  },
  {
   "cell_type": "code",
   "execution_count": 85,
   "id": "a65b37ed",
   "metadata": {},
   "outputs": [
    {
     "ename": "SyntaxError",
     "evalue": "non-default argument follows default argument (734814381.py, line 1)",
     "output_type": "error",
     "traceback": [
      "\u001b[0;36m  Cell \u001b[0;32mIn[85], line 1\u001b[0;36m\u001b[0m\n\u001b[0;31m    def say_myself(name,man=True,age): #성별을 미리 설정함.\u001b[0m\n\u001b[0m                                 ^\u001b[0m\n\u001b[0;31mSyntaxError\u001b[0m\u001b[0;31m:\u001b[0m non-default argument follows default argument\n"
     ]
    }
   ],
   "source": [
    "def say_myself(name,man=True,age): #초기값은 맨 뒤에 넣어야됨.\n",
    "    print(\"나의 이름은 %s 입니다\" %name)\n",
    "    print(\"나이는 %d살 입니다.\" %age)\n",
    "    \n",
    "    if man:\n",
    "        print(\"남자입니다.\")\n",
    "    else:\n",
    "        print(\"여자입니다.\")\n",
    "        \n",
    "say_myself(\"최종규\",26)"
   ]
  },
  {
   "cell_type": "markdown",
   "id": "6a1d236c",
   "metadata": {},
   "source": [
    "* 함수 안에서 선언한 변수의 효력 범위"
   ]
  },
  {
   "cell_type": "code",
   "execution_count": 89,
   "id": "8450c0a6",
   "metadata": {},
   "outputs": [
    {
     "name": "stdout",
     "output_type": "stream",
     "text": [
      "1\n"
     ]
    }
   ],
   "source": [
    "a = 1\n",
    "def vartest(a):\n",
    "    a = a+1\n",
    "    \n",
    "vartest(a)\n",
    "print(a)"
   ]
  },
  {
   "cell_type": "markdown",
   "id": "66dfe5b1",
   "metadata": {},
   "source": [
    "* 함수 안에서 함수 밖의 변수를 변경하는 방법"
   ]
  },
  {
   "cell_type": "code",
   "execution_count": 88,
   "id": "44bb6f1e",
   "metadata": {
    "scrolled": true
   },
   "outputs": [
    {
     "name": "stdout",
     "output_type": "stream",
     "text": [
      "2\n"
     ]
    }
   ],
   "source": [
    "# 1. return\n",
    "\n",
    "a = 1\n",
    "\n",
    "def vartest(a):\n",
    "    a = a+1\n",
    "    return a\n",
    "\n",
    "a = vartest(a)\n",
    "print(a)"
   ]
  },
  {
   "cell_type": "code",
   "execution_count": 90,
   "id": "e499ed54",
   "metadata": {},
   "outputs": [
    {
     "name": "stdout",
     "output_type": "stream",
     "text": [
      "2\n"
     ]
    }
   ],
   "source": [
    "# 2. global 명령어 사용하기\n",
    "\n",
    "a = 1\n",
    "def vartest():\n",
    "    global a  # 이름이 같으면 밖에서 선언된 a가 안쪽으로 들어올수있음\n",
    "    a = a+1\n",
    "\n",
    "vartest()\n",
    "print(a)"
   ]
  },
  {
   "cell_type": "markdown",
   "id": "49d76332",
   "metadata": {},
   "source": [
    "* lambda 함수"
   ]
  },
  {
   "cell_type": "code",
   "execution_count": 91,
   "id": "c65325bf",
   "metadata": {},
   "outputs": [
    {
     "name": "stdout",
     "output_type": "stream",
     "text": [
      "7\n"
     ]
    }
   ],
   "source": [
    "'''\n",
    "\n",
    "def add(a,b):\n",
    "    return a+b\n",
    "\n",
    "'''\n",
    "#함수명 #매개변수     #return 값\n",
    "add = lambda a,b: a+b\n",
    "result = add(3,4)\n",
    "print(result)"
   ]
  },
  {
   "cell_type": "markdown",
   "id": "af462a27",
   "metadata": {},
   "source": [
    "# 파이썬 코딩 규칙\n",
    "* 들여쓰기는 4스페이스\n",
    "* 한줄코딩은 79자 내외\n",
    "* 불필요한 공백 피하기\n",
    "* 변수명, 함수명을 사용할 경우 _(언더스코어)를 사용해서 단어들을 연결\n",
    "* 함수명은 소문자로 작성하고 되도록 짧게 작성\n",
    "* 함수 이름에 역할과 의도가 명확할 것\n",
    "* 함수는 하나의 기능만 명확히 구현\n",
    "* 공통의 기능을 하나의 함수로 작성"
   ]
  },
  {
   "cell_type": "code",
   "execution_count": 213,
   "id": "b0e84a84",
   "metadata": {
    "scrolled": true
   },
   "outputs": [
    {
     "name": "stdout",
     "output_type": "stream",
     "text": [
      "\n",
      "======================영화목록========================\n",
      "Dark knight\n",
      "Harry Porter\n",
      "Parasite\n",
      "Matrix\n",
      "La La Land\n",
      "====================================================\n",
      "예매하실 영화를 선택해주세요. : Dark knight\n",
      "Dark knight를 선택하셨습니다.\n",
      "관람 인원 수를 입력해주세요. : 4\n",
      "관람 인원 수는 4명 입니다.\n",
      "할인권을 사용하시려면 Y, 금액 확인으로 넘어가시려면 N를 입력해주세요. : \n",
      "잘못된 입력입니다. 할인을 원하시면 Y를 입력하고, 원하지 않으면 N을 입력하세요.\n",
      "할인권을 사용하시려면 Y, 금액 확인으로 넘어가시려면 N를 입력해주세요. : Y\n",
      "쿠폰 번호를 입력해주세요. : WELLCOME\n",
      "2000원의 할인이 적용됩니다.\n",
      "할인권을 사용하시려면 Y, 금액 확인으로 넘어가시려면 N를 입력해주세요. : N\n",
      "할인을 적용하지 않았습니다.\n",
      "\n",
      "<예매 상세 내역>\n",
      "===================\n",
      "영화 제목: Dark knight\n",
      "관람 인원수: 5\n",
      "합산 금액: 60000\n",
      "할인 금액: 2000\n",
      "-------------------\n",
      "총 가격: 58000\n",
      "===================\n"
     ]
    }
   ],
   "source": [
    "movies = [\"Dark knight\", \"Harry Porter\",\"Parasite\",\"Matrix\",\"La La Land\"]\n",
    "\n",
    "print()\n",
    "print(\"======================영화목록========================\")\n",
    "# 영화 목록을 출력하는 반복문\n",
    "for a in movies:\n",
    "    print(a)\n",
    "    \n",
    "\n",
    "\n",
    "\n",
    "print(\"====================================================\")\n",
    "\n",
    "choice = input(\"예매하실 영화를 선택해주세요. : \")\n",
    "\n",
    "\n",
    "while choice not in movies:\n",
    "    print(\"예매할 수 없는 영화입니다.\")\n",
    "    choice = input(\"예매하실 영화를 선택해주세요. : \")\n",
    "    \n",
    "print(\"%s를 선택하셨습니다.\" %choice)\n",
    "\n",
    "\n",
    "\n",
    "# 두번째 과제\n",
    "\n",
    "\n",
    "check = False\n",
    "\n",
    "while (not(check)):\n",
    "    try:\n",
    "        people = int(input(\"관람 인원 수를 입력해주세요. : \"))\n",
    "        if people < 0:\n",
    "            print(\"관람 인원 수는 양수만 가능합니다.\")\n",
    "        else:\n",
    "            print(\"관람 인원 수는 %d명 입니다.\" % people)\n",
    "        check = True  \n",
    "    except ValueError:\n",
    "        print(\"정수를 입력하세요.\")\n",
    "        \n",
    "# 세번째 과제\n",
    "\n",
    "coupon_dic = {'WELLCOME':2000,'VALENTINE':3000,'CHRISTMAS':4000, 'INDEPENDENCE':5000}\n",
    "\n",
    "process = True\n",
    "\n",
    "\n",
    "\n",
    "while process:\n",
    "    usage = input(\"할인권을 사용하시려면 Y, 금액 확인으로 넘어가시려면 N를 입력해주세요. : \")\n",
    "    if usage == \"Y\":\n",
    "        coupon = input(\"쿠폰 번호를 입력해주세요. : \")\n",
    "        if coupon in coupon_dic:          # 쿠폰 딕셔너리에서 사용자가 입력한 쿠폰이 있다면 \n",
    "            sale = coupon_dic[coupon]     # 쿠폰 딕셔너리 할인된 값\n",
    "            print(f\"{sale}원의 할인이 적용됩니다.\")\n",
    "        else:\n",
    "            print(\"존재하지 않은 쿠폰입니다.\")\n",
    "            usage = input(\"할인권을 다시 입력하려면 Y, 아니면 N를 입력해주세요.\")\n",
    "            if usage == \"N\":\n",
    "                process = False\n",
    "            \n",
    "            \n",
    "            \n",
    "    elif usage == 'N':\n",
    "        print(\"할인을 적용하지 않았습니다.\")\n",
    "        process = False \n",
    "\n",
    "    else:\n",
    "        print('잘못된 입력입니다. 할인을 원하시면 Y를 입력하고, 원하지 않으면 N을 입력하세요.')\n",
    "\n",
    "# 네번째 과제\n",
    "\n",
    "\n",
    "origin_price = peaple*12000\n",
    "sale_price = peaple*sale\n",
    "total_price = origin_price -  sale_price\n",
    "\n",
    "\n",
    "print(\"\")\n",
    "print(\"<예매 상세 내역>\")\n",
    "print(\"===================\")\n",
    "print(\"영화 제목: %s\" %choice)\n",
    "print(\"관람 인원수: %s\" %peaple)\n",
    "print(\"합산 금액: %s\" %origin_price)\n",
    "print(\"할인 금액: %s\" %sale_price)\n",
    "print(\"-------------------\")\n",
    "print(\"총 가격: %s\" %total_price)\n",
    "print(\"===================\")\n"
   ]
  },
  {
   "cell_type": "code",
   "execution_count": 1,
   "id": "119b0c6b",
   "metadata": {
    "scrolled": true
   },
   "outputs": [
    {
     "name": "stdout",
     "output_type": "stream",
     "text": [
      "3\n"
     ]
    }
   ],
   "source": [
    "a = input(\"문자를 입력하시오.: \")\n",
    "\n",
    "result = a[::-1]\n",
    "print(\"%s\" %result)"
   ]
  },
  {
   "cell_type": "code",
   "execution_count": 2,
   "id": "cbc788d0",
   "metadata": {},
   "outputs": [
    {
     "name": "stdout",
     "output_type": "stream",
     "text": [
      "\n"
     ]
    }
   ],
   "source": [
    "a = input(\"문자를 입력하시오.: \")\n",
    "\n",
    "reverse_a = a[::-1]\n",
    "print(reverse_a)\n",
    "\n",
    "#문자열이 5일경우 01234 <- 0이 4, 1이 3, 2,2 이런 식으로 배열 바꾸기\n",
    "\n"
   ]
  },
  {
   "cell_type": "code",
   "execution_count": 3,
   "id": "ea0b9557",
   "metadata": {},
   "outputs": [
    {
     "name": "stdout",
     "output_type": "stream",
     "text": [
      "물건: 책, 가격: 15000원\n",
      "물건: 컴퓨터, 가격: 1000000원\n"
     ]
    }
   ],
   "source": [
    "class Item:\n",
    "    def __init__(self, name, price):\n",
    "        self.name = name\n",
    "        self.price = price\n",
    "\n",
    "    def display_info(self):\n",
    "        print(f\"물건: {self.name}, 가격: {self.price}원\")\n",
    "\n",
    "# 클래스를 이용하여 객체(물건) 생성\n",
    "item1 = Item(\"책\", 15000)\n",
    "item2 = Item(\"컴퓨터\", 1000000)\n",
    "\n",
    "# 객체의 정보 출력\n",
    "item1.display_info()\n",
    "item2.display_info()\n"
   ]
  },
  {
   "cell_type": "code",
   "execution_count": 4,
   "id": "f84864d8",
   "metadata": {},
   "outputs": [
    {
     "name": "stdout",
     "output_type": "stream",
     "text": [
      "결과: 2\n"
     ]
    }
   ],
   "source": [
    "class Calculator:\n",
    "    def __init__(self):\n",
    "        self.result = 0\n",
    "\n",
    "    def add(self, num):\n",
    "        self.result += num\n",
    "\n",
    "    def subtract(self, num):\n",
    "        self.result -= num\n",
    "\n",
    "    def display_result(self):\n",
    "        print(f\"결과: {self.result}\")\n",
    "\n",
    "# Calculator 클래스를 이용하여 객체 생성\n",
    "calc = Calculator()\n",
    "calc.add(5)\n",
    "calc.subtract(3)\n",
    "calc.display_result()\n"
   ]
  },
  {
   "cell_type": "code",
   "execution_count": null,
   "id": "9d1faa2e",
   "metadata": {},
   "outputs": [],
   "source": []
  },
  {
   "cell_type": "code",
   "execution_count": 10,
   "id": "490ae91d",
   "metadata": {},
   "outputs": [
    {
     "name": "stdout",
     "output_type": "stream",
     "text": [
      "fdsa\n"
     ]
    }
   ],
   "source": [
    "str1 = input(\"문자열을 입력하시오: \") #asdf ---> fdsa\n",
    "str1_reverse = ''\n",
    "\n",
    "for char in str1: #  str1 = 4... 0 1 2 3 \n",
    "    str1_reverse = char + str1_reverse\n",
    "    \n",
    "print(str1_reverse)"
   ]
  },
  {
   "cell_type": "code",
   "execution_count": null,
   "id": "7bf0e90c",
   "metadata": {},
   "outputs": [],
   "source": []
  }
 ],
 "metadata": {
  "kernelspec": {
   "display_name": "Python 3 (ipykernel)",
   "language": "python",
   "name": "python3"
  },
  "language_info": {
   "codemirror_mode": {
    "name": "ipython",
    "version": 3
   },
   "file_extension": ".py",
   "mimetype": "text/x-python",
   "name": "python",
   "nbconvert_exporter": "python",
   "pygments_lexer": "ipython3",
   "version": "3.11.5"
  }
 },
 "nbformat": 4,
 "nbformat_minor": 5
}
