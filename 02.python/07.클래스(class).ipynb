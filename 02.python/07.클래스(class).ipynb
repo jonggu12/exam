{
 "cells": [
  {
   "cell_type": "code",
   "execution_count": 17,
   "metadata": {},
   "outputs": [],
   "source": [
    "class Cookie:\n",
    "    pass #함수\n",
    "\n",
    "\n",
    "a = Cookie() #변수\n",
    "b = Cookie()"
   ]
  },
  {
   "cell_type": "code",
   "execution_count": 18,
   "metadata": {},
   "outputs": [
    {
     "name": "stdout",
     "output_type": "stream",
     "text": [
      "3\n",
      "7\n",
      "4\n",
      "9\n"
     ]
    }
   ],
   "source": [
    "class Calculator:\n",
    "    def __init__(self): # __init__ -> 내장함수\n",
    "        self.result = 0\n",
    "        \n",
    "    def add(self, num):\n",
    "        self.result += num\n",
    "        return self.result\n",
    "    \n",
    "    def sub(self, num):\n",
    "        self.result -= num\n",
    "        return self.result\n",
    "    \n",
    "    def sub(self, num):\n",
    "        self.result *= num\n",
    "        return self.result\n",
    "    \n",
    "cal1 = Calculator()\n",
    "cal2 = Calculator() \n",
    "cal3 = Calculator()\n",
    "print(cal1.add(3))\n",
    "print(cal1.add(4))\n",
    "print(cal2.add(4))\n",
    "print(cal2.add(5))\n",
    "\n",
    "\n",
    "\n",
    "\n",
    "\n",
    "\n"
   ]
  },
  {
   "cell_type": "code",
   "execution_count": 19,
   "metadata": {},
   "outputs": [
    {
     "data": {
      "text/plain": [
       "0.8"
      ]
     },
     "execution_count": 19,
     "metadata": {},
     "output_type": "execute_result"
    }
   ],
   "source": [
    "class FourCal:\n",
    "    def setdata(self,first,second): #밀어내는 함수\n",
    "        self.first = first\n",
    "        self.second = second\n",
    "        \n",
    "    def add(self): #더하는 함수\n",
    "        result = self.first + self.second\n",
    "        return result\n",
    "    \n",
    "    def sub(self): #빼는 함수\n",
    "        result = self.first - self.second\n",
    "        return result\n",
    "    \n",
    "    def mul(self): #곱하기\n",
    "        result = self.first * self.second\n",
    "        return result\n",
    "    \n",
    "    def div(self): #나누기\n",
    "        result = self.first / self.second\n",
    "        return result\n",
    "\n",
    "\n",
    "# 클래스 선언 방법 1    \n",
    "A = FourCal() # A라는 변수에 FourCal 클래스 선언\n",
    "FourCal.setdata(A,4,5)  # FourCal 클래스에 setdata 함수 선언   ---> self : A , first : 4, second: 5\n",
    "\n",
    "A.add() # A라는 변수에 add 함수 선언\n",
    "A.sub() # A라는 변수에 sub 함수 선언\n",
    "A.mul() # A라는 변수에 mul 함수 선언\n",
    "A.div() # A라는 변수에 div 함수 선언"
   ]
  },
  {
   "cell_type": "markdown",
   "metadata": {},
   "source": [
    "* 생성자\n"
   ]
  },
  {
   "cell_type": "code",
   "execution_count": 20,
   "metadata": {},
   "outputs": [
    {
     "data": {
      "text/plain": [
       "7"
      ]
     },
     "execution_count": 20,
     "metadata": {},
     "output_type": "execute_result"
    }
   ],
   "source": [
    "class FourCal:\n",
    "    \n",
    "    def __init__(self,first,second): #생성자 : 클래스의 인스턴스를 초기화하는 데 사용\n",
    "        self.first = first\n",
    "        self.second = second\n",
    "        \n",
    "    def setdata(self,first,second): #밀어내는 함수\n",
    "        self.first = first\n",
    "        self.second = second\n",
    "        \n",
    "    def add(self): #더하는 함수\n",
    "        result = self.first + self.second\n",
    "        return result\n",
    "    \n",
    "    def sub(self): #빼는 함수\n",
    "        result = self.first - self.second\n",
    "        return result\n",
    "    \n",
    "    def mul(self): #곱하기\n",
    "        result = self.first * self.second\n",
    "        return result\n",
    "    \n",
    "    def div(self): #나누기\n",
    "        result = self.first / self.second\n",
    "        return result\n",
    "\n",
    "\n",
    "a = FourCal(3,4)\n",
    "a.add()\n"
   ]
  },
  {
   "cell_type": "code",
   "execution_count": 21,
   "metadata": {},
   "outputs": [
    {
     "data": {
      "text/plain": [
       "-1"
      ]
     },
     "execution_count": 21,
     "metadata": {},
     "output_type": "execute_result"
    }
   ],
   "source": [
    "a.sub()"
   ]
  },
  {
   "cell_type": "markdown",
   "metadata": {},
   "source": [
    "* 클래스의 상속"
   ]
  },
  {
   "cell_type": "code",
   "execution_count": 22,
   "metadata": {},
   "outputs": [
    {
     "data": {
      "text/plain": [
       "16"
      ]
     },
     "execution_count": 22,
     "metadata": {},
     "output_type": "execute_result"
    }
   ],
   "source": [
    "class MoreFourCal(FourCal): #MoreFourCal = 자식클래스, FourCal = 부모클래스 : 자식클래스가 부모클래스를 상속을 받는다. 기능이 같음.\n",
    "    def pow(self):     #자식 클래스에서 제곱를 할 수 있는 함수만들었고 부모클래스에선 쓸 수 없음.\n",
    "        result = self.first ** self.second\n",
    "        return result\n",
    "\n",
    "a = MoreFourCal(4,2)\n",
    "a.pow()"
   ]
  },
  {
   "cell_type": "code",
   "execution_count": 23,
   "metadata": {},
   "outputs": [
    {
     "data": {
      "text/plain": [
       "16"
      ]
     },
     "execution_count": 23,
     "metadata": {},
     "output_type": "execute_result"
    }
   ],
   "source": [
    "a = MoreFourCal(4,2) #\n",
    "a.pow()"
   ]
  },
  {
   "cell_type": "markdown",
   "metadata": {},
   "source": [
    "* 메서드 오버라이딩"
   ]
  },
  {
   "cell_type": "code",
   "execution_count": 24,
   "metadata": {},
   "outputs": [
    {
     "data": {
      "text/plain": [
       "0.5"
      ]
     },
     "execution_count": 24,
     "metadata": {},
     "output_type": "execute_result"
    }
   ],
   "source": [
    "a = FourCal(4, 8)\n",
    "a.div()"
   ]
  },
  {
   "cell_type": "code",
   "execution_count": 25,
   "metadata": {},
   "outputs": [
    {
     "data": {
      "text/plain": [
       "0"
      ]
     },
     "execution_count": 25,
     "metadata": {},
     "output_type": "execute_result"
    }
   ],
   "source": [
    "class SafeFourCal(FourCal):\n",
    "    def div(self):\n",
    "        if self.second == 0:\n",
    "            return 0\n",
    "        else:\n",
    "            return self.first / self.second\n",
    "\n",
    "        \n",
    "a = SafeFourCal(4,0)\n",
    "a.div()"
   ]
  },
  {
   "cell_type": "markdown",
   "metadata": {},
   "source": [
    "* 클래스 변수"
   ]
  },
  {
   "cell_type": "code",
   "execution_count": 26,
   "metadata": {},
   "outputs": [],
   "source": [
    "class Family:\n",
    "    lastname = \"김\""
   ]
  },
  {
   "cell_type": "code",
   "execution_count": 27,
   "metadata": {},
   "outputs": [
    {
     "data": {
      "text/plain": [
       "('김', '김')"
      ]
     },
     "execution_count": 27,
     "metadata": {},
     "output_type": "execute_result"
    }
   ],
   "source": [
    "Family.lastname\n",
    "\n",
    "a = Family() #a,b : 객체\n",
    "b = Family()\n",
    "\n",
    "a.lastname,b.lastname"
   ]
  },
  {
   "cell_type": "code",
   "execution_count": 28,
   "metadata": {},
   "outputs": [
    {
     "data": {
      "text/plain": [
       "('박', '박')"
      ]
     },
     "execution_count": 28,
     "metadata": {},
     "output_type": "execute_result"
    }
   ],
   "source": [
    "Family.lastname = \"박\"\n",
    "a.lastname, b.lastname"
   ]
  },
  {
   "cell_type": "code",
   "execution_count": 29,
   "metadata": {},
   "outputs": [
    {
     "data": {
      "text/plain": [
       "'최'"
      ]
     },
     "execution_count": 29,
     "metadata": {},
     "output_type": "execute_result"
    }
   ],
   "source": [
    "a.lastname = \"최\"\n",
    "a.lastname"
   ]
  },
  {
   "cell_type": "code",
   "execution_count": 30,
   "metadata": {},
   "outputs": [
    {
     "data": {
      "text/plain": [
       "'박'"
      ]
     },
     "execution_count": 30,
     "metadata": {},
     "output_type": "execute_result"
    }
   ],
   "source": [
    "b.lastname"
   ]
  },
  {
   "cell_type": "markdown",
   "metadata": {},
   "source": [
    "* 은행 업무"
   ]
  },
  {
   "cell_type": "code",
   "execution_count": 31,
   "metadata": {},
   "outputs": [
    {
     "name": "stdout",
     "output_type": "stream",
     "text": [
      "홍길동 통장\n",
      "------------------\n",
      "1. 잔액확인\n",
      "2. 입금\n",
      "3. 출금\n",
      "4. 종료\n",
      "------------------\n"
     ]
    },
    {
     "ename": "ValueError",
     "evalue": "invalid literal for int() with base 10: ''",
     "output_type": "error",
     "traceback": [
      "\u001b[0;31m---------------------------------------------------------------------------\u001b[0m",
      "\u001b[0;31mValueError\u001b[0m                                Traceback (most recent call last)",
      "\u001b[1;32m/Users/choejong-gyu/Documents/02.python/07.클래스(class).ipynb 셀 20\u001b[0m line \u001b[0;36m7\n\u001b[1;32m     <a href='vscode-notebook-cell:/Users/choejong-gyu/Documents/02.python/07.%ED%81%B4%EB%9E%98%EC%8A%A4%28class%29.ipynb#X25sZmlsZQ%3D%3D?line=67'>68</a>\u001b[0m B \u001b[39m=\u001b[39m CAccount()\n\u001b[1;32m     <a href='vscode-notebook-cell:/Users/choejong-gyu/Documents/02.python/07.%ED%81%B4%EB%9E%98%EC%8A%A4%28class%29.ipynb#X25sZmlsZQ%3D%3D?line=68'>69</a>\u001b[0m CAccount\u001b[39m.\u001b[39mdispTitleMsg()\n\u001b[0;32m---> <a href='vscode-notebook-cell:/Users/choejong-gyu/Documents/02.python/07.%ED%81%B4%EB%9E%98%EC%8A%A4%28class%29.ipynb#X25sZmlsZQ%3D%3D?line=69'>70</a>\u001b[0m B\u001b[39m.\u001b[39mbankTransaction()\n",
      "\u001b[1;32m/Users/choejong-gyu/Documents/02.python/07.클래스(class).ipynb 셀 20\u001b[0m line \u001b[0;36m1\n\u001b[1;32m     <a href='vscode-notebook-cell:/Users/choejong-gyu/Documents/02.python/07.%ED%81%B4%EB%9E%98%EC%8A%A4%28class%29.ipynb#X25sZmlsZQ%3D%3D?line=15'>16</a>\u001b[0m \u001b[39mdef\u001b[39;00m \u001b[39mbankTransaction\u001b[39m(\u001b[39mself\u001b[39m):\n\u001b[1;32m     <a href='vscode-notebook-cell:/Users/choejong-gyu/Documents/02.python/07.%ED%81%B4%EB%9E%98%EC%8A%A4%28class%29.ipynb#X25sZmlsZQ%3D%3D?line=17'>18</a>\u001b[0m     \u001b[39mwhile\u001b[39;00m \u001b[39mTrue\u001b[39;00m:\n\u001b[0;32m---> <a href='vscode-notebook-cell:/Users/choejong-gyu/Documents/02.python/07.%ED%81%B4%EB%9E%98%EC%8A%A4%28class%29.ipynb#X25sZmlsZQ%3D%3D?line=18'>19</a>\u001b[0m         A \u001b[39m=\u001b[39m \u001b[39mint\u001b[39m(\u001b[39minput\u001b[39m(\u001b[39m\"\u001b[39m\u001b[39m메뉴를 선택해주세요. : \u001b[39m\u001b[39m\"\u001b[39m))\n\u001b[1;32m     <a href='vscode-notebook-cell:/Users/choejong-gyu/Documents/02.python/07.%ED%81%B4%EB%9E%98%EC%8A%A4%28class%29.ipynb#X25sZmlsZQ%3D%3D?line=19'>20</a>\u001b[0m         \u001b[39mif\u001b[39;00m A \u001b[39m==\u001b[39m \u001b[39m1\u001b[39m:\n\u001b[1;32m     <a href='vscode-notebook-cell:/Users/choejong-gyu/Documents/02.python/07.%ED%81%B4%EB%9E%98%EC%8A%A4%28class%29.ipynb#X25sZmlsZQ%3D%3D?line=20'>21</a>\u001b[0m             \u001b[39mprint\u001b[39m(\u001b[39mf\u001b[39m\u001b[39m\"\u001b[39m\u001b[39m잔액은 \u001b[39m\u001b[39m{\u001b[39;00m\u001b[39mself\u001b[39m\u001b[39m.\u001b[39mresult\u001b[39m}\u001b[39;00m\u001b[39m입니다.\u001b[39m\u001b[39m\"\u001b[39m)\n",
      "\u001b[0;31mValueError\u001b[0m: invalid literal for int() with base 10: ''"
     ]
    }
   ],
   "source": [
    "class CAccount:\n",
    "    def __init__(self):\n",
    "        self.result = 0\n",
    "        \n",
    "        \n",
    "        \n",
    "    def dispTitleMsg():\n",
    "        print(\"홍길동 통장\")\n",
    "        print(\"------------------\")\n",
    "        print(\"1. 잔액확인\")\n",
    "        print(\"2. 입금\")\n",
    "        print(\"3. 출금\")\n",
    "        print(\"4. 종료\")\n",
    "        print(\"------------------\")\n",
    "    \n",
    "    def bankTransaction(self):\n",
    "        \n",
    "        while True:\n",
    "            A = int(input(\"메뉴를 선택해주세요. : \"))\n",
    "            if A == 1:\n",
    "                print(f\"잔액은 {self.result}입니다.\")\n",
    "                \n",
    "            elif A == 2:\n",
    "                deposit_amount = int(input(\"입금할 금액을 알려주세요. : \"))\n",
    "                if deposit_amount < 0:\n",
    "                    print(\"정확한 금액을 말씀해주세요.\")\n",
    "                else:\n",
    "                    self.deposit(deposit_amount)\n",
    "                    print(f\"{deposit_amount}원 입금 되었습니다. 잔액은 {self.result}원 입니다.\")\n",
    "              \n",
    "            elif A == 3:\n",
    "                withdraw_amount = int(input(\"출금할 금액을 알려주세요. : \"))\n",
    "                if withdraw_amount < 0:\n",
    "                    print(\"정확한 금액을 말씀해주세요.\")\n",
    "                elif withdraw_amount > deposit_amount:\n",
    "                    print(\"잔액이 부족합니다.\")\n",
    "                elif withdraw_amount == deposit_amount:\n",
    "                    self.withdraw(withdraw_amount)\n",
    "                    print(f\"{withdraw_amount}원 출금 되었습니다. 잔액은 {self.result}원 입니다.\")\n",
    "                    \n",
    "                else:\n",
    "                    self.withdraw(withdraw_amount)\n",
    "                    print(f\"{withdraw_amount}원 출금 되었습니다. 잔액은 {self.result}원 입니다.\")\n",
    "                \n",
    "            elif A == 4:\n",
    "                print(\"계좌 거래가 종료 되었습니다.\")\n",
    "                break\n",
    "            else:\n",
    "                print(\"잘못 입력하셨습니다.\")\n",
    "            \n",
    "     \n",
    "\n",
    "    def deposit(self, amount):\n",
    "            self.result += amount\n",
    "            return self.result\n",
    "\n",
    "\n",
    "\n",
    "    def withdraw(self, amount):\n",
    "            self.result -= amount\n",
    "            return self.result\n",
    "    \n",
    "\n",
    "\n",
    "\n",
    "\n",
    "\n",
    "B = CAccount()\n",
    "CAccount.dispTitleMsg()\n",
    "B.bankTransaction()\n"
   ]
  },
  {
   "cell_type": "code",
   "execution_count": null,
   "metadata": {},
   "outputs": [],
   "source": [
    "class CAccount:\n",
    "    def __init__(self, owner, amount=0, password = '1111'):\n",
    "        self.owner = owner\n",
    "        self.balance = amount\n",
    "        self.password = password\n",
    "        self.message =\"\"\"\n",
    "        ------------------\n",
    "        1. 잔액확인\n",
    "        2. 입금\n",
    "        3. 출금\n",
    "        4. 종료\n",
    "        ------------------\n",
    "        \"\"\"\n",
    "        \n",
    "        self.dispTitleMsg()\n",
    "        \n",
    "    def bankTransaction(self): \n",
    "        inPass = input(\"계좌 비밀번호를 입력해 주세요.\")            \n",
    "        if inPass != self.password:\n",
    "            self.dispPassErr()\n",
    "            return\n",
    "        \n",
    "        inNum = int(input(\"메뉴를 선택해 주세요.\"))\n",
    "        \n",
    "        if inNum == 4:\n",
    "            self.dispEndBanking()\n",
    "            return\n",
    "        \n",
    "        if inNum == 1:\n",
    "            self.dispBalance()\n",
    "        elif inNum == 2:\n",
    "            self.deposit()    \n",
    "        elif inNum == 3:\n",
    "            self.withdraw()   \n",
    "        \n",
    "    def deposit(self):\n",
    "        inAmount = int(input(\"입금할 금액을 알려주세요.\"))                    \n",
    "        if inAmount < 0:\n",
    "            self.dispAmountErr()\n",
    "        else:\n",
    "            self.balance += inAmount\n",
    "            self.dispDepositSucc(inAmount)\n",
    "            self.dispBalance()\n",
    "        \n",
    "    def withdraw(self):\n",
    "        inAmount = int(input(\"출금할 금액을 알려주세요.\"))      \n",
    "        if inAmount < 0:\n",
    "            self.dispAmountErr()\n",
    "        elif self.balance < inAmount:            \n",
    "            self.dispLackbalance()\n",
    "        else:\n",
    "            self.balance -= inAmount\n",
    "            self.dispWithdrawSucc(inAmount)\n",
    "            self.dispBalance()\n",
    "    \n",
    "    # Display message\n",
    "    def dispTitleMsg(self):\n",
    "        print(\"%s 통장\" % self.owner)\n",
    "        print(self.message) \n",
    "    \n",
    "    def dispBalance(self):\n",
    "        print(\"잔액은 %d 입니다.\" % self.balance)\n",
    "    \n",
    "    def dispAmountErr(self):\n",
    "        print(\"정확한 금액을 입력해주세요.\")\n",
    "    \n",
    "    def dispLackbalance(self):\n",
    "        print(\"잔액부족, 거래가 거절되었습니다.\")\n",
    "        \n",
    "    def dispDepositSucc(self, amount):        \n",
    "        print(amount, \"원이 성공적으로 입금되었습니다.\")\n",
    "        \n",
    "    def dispWithdrawSucc(self, amount):\n",
    "        print(amount, \"원이 성공적으로 인출되었습니다.\")\n",
    "        \n",
    "    def dispPassErr(self):\n",
    "        print(\"%s님은 거래할 수 없습니다.\" % self.owner) \n",
    "        \n",
    "    def dispEndBanking(self):\n",
    "        print(\"은행 업무를 종료합니다.\")\n",
    "\n",
    "# Implementation\n",
    "amounHong = CAccount(\"홍길동\", 1000)\n",
    "amounHong.bankTransaction()\n",
    "        "
   ]
  },
  {
   "cell_type": "code",
   "execution_count": null,
   "metadata": {},
   "outputs": [
    {
     "data": {
      "text/plain": [
       "array([1, 2, 3])"
      ]
     },
     "execution_count": 40,
     "metadata": {},
     "output_type": "execute_result"
    }
   ],
   "source": [
    "import numpy as np\n",
    "\n",
    "list1 = [1,2,3]\n",
    "arr1 = np.array(list1)\n",
    "arr1"
   ]
  },
  {
   "cell_type": "code",
   "execution_count": null,
   "metadata": {},
   "outputs": [
    {
     "data": {
      "text/plain": [
       "array([0., 0., 0., 0., 0.])"
      ]
     },
     "execution_count": 41,
     "metadata": {},
     "output_type": "execute_result"
    }
   ],
   "source": [
    "np.zeros(5)"
   ]
  },
  {
   "cell_type": "code",
   "execution_count": null,
   "metadata": {},
   "outputs": [
    {
     "data": {
      "text/plain": [
       "array([[0., 0., 0.],\n",
       "       [0., 0., 0.]])"
      ]
     },
     "execution_count": 43,
     "metadata": {},
     "output_type": "execute_result"
    }
   ],
   "source": [
    "np.zeros((2,3))"
   ]
  },
  {
   "cell_type": "code",
   "execution_count": null,
   "metadata": {},
   "outputs": [
    {
     "data": {
      "text/plain": [
       "array([0, 1, 2, 3, 4, 5, 6, 7, 8, 9])"
      ]
     },
     "execution_count": 44,
     "metadata": {},
     "output_type": "execute_result"
    }
   ],
   "source": [
    "np.arange(10)"
   ]
  },
  {
   "cell_type": "code",
   "execution_count": null,
   "metadata": {},
   "outputs": [
    {
     "data": {
      "text/html": [
       "<div>\n",
       "<style scoped>\n",
       "    .dataframe tbody tr th:only-of-type {\n",
       "        vertical-align: middle;\n",
       "    }\n",
       "\n",
       "    .dataframe tbody tr th {\n",
       "        vertical-align: top;\n",
       "    }\n",
       "\n",
       "    .dataframe thead th {\n",
       "        text-align: right;\n",
       "    }\n",
       "</style>\n",
       "<table border=\"1\" class=\"dataframe\">\n",
       "  <thead>\n",
       "    <tr style=\"text-align: right;\">\n",
       "      <th></th>\n",
       "      <th>성적</th>\n",
       "      <th>학번</th>\n",
       "    </tr>\n",
       "  </thead>\n",
       "  <tbody>\n",
       "    <tr>\n",
       "      <th>0</th>\n",
       "      <td>85</td>\n",
       "      <td>2000</td>\n",
       "    </tr>\n",
       "    <tr>\n",
       "      <th>1</th>\n",
       "      <td>95</td>\n",
       "      <td>2001</td>\n",
       "    </tr>\n",
       "    <tr>\n",
       "      <th>2</th>\n",
       "      <td>75</td>\n",
       "      <td>2002</td>\n",
       "    </tr>\n",
       "    <tr>\n",
       "      <th>3</th>\n",
       "      <td>70</td>\n",
       "      <td>2003</td>\n",
       "    </tr>\n",
       "    <tr>\n",
       "      <th>4</th>\n",
       "      <td>100</td>\n",
       "      <td>2004</td>\n",
       "    </tr>\n",
       "    <tr>\n",
       "      <th>5</th>\n",
       "      <td>100</td>\n",
       "      <td>2005</td>\n",
       "    </tr>\n",
       "    <tr>\n",
       "      <th>6</th>\n",
       "      <td>95</td>\n",
       "      <td>2006</td>\n",
       "    </tr>\n",
       "    <tr>\n",
       "      <th>7</th>\n",
       "      <td>85</td>\n",
       "      <td>2007</td>\n",
       "    </tr>\n",
       "    <tr>\n",
       "      <th>8</th>\n",
       "      <td>80</td>\n",
       "      <td>2008</td>\n",
       "    </tr>\n",
       "    <tr>\n",
       "      <th>9</th>\n",
       "      <td>85</td>\n",
       "      <td>2009</td>\n",
       "    </tr>\n",
       "  </tbody>\n",
       "</table>\n",
       "</div>"
      ],
      "text/plain": [
       "    성적    학번\n",
       "0   85  2000\n",
       "1   95  2001\n",
       "2   75  2002\n",
       "3   70  2003\n",
       "4  100  2004\n",
       "5  100  2005\n",
       "6   95  2006\n",
       "7   85  2007\n",
       "8   80  2008\n",
       "9   85  2009"
      ]
     },
     "execution_count": 48,
     "metadata": {},
     "output_type": "execute_result"
    }
   ],
   "source": [
    "import pandas as pd\n",
    "\n",
    "\n",
    "data = {'학번':range(2000,2010),\n",
    "        '성적': [85,95,75,70,100,100,95,85,80,85]}\n",
    "df = pd.DataFrame(data, columns=['성적','학번'])\n",
    "df"
   ]
  },
  {
   "cell_type": "code",
   "execution_count": null,
   "metadata": {},
   "outputs": [
    {
     "data": {
      "text/html": [
       "<div>\n",
       "<style scoped>\n",
       "    .dataframe tbody tr th:only-of-type {\n",
       "        vertical-align: middle;\n",
       "    }\n",
       "\n",
       "    .dataframe tbody tr th {\n",
       "        vertical-align: top;\n",
       "    }\n",
       "\n",
       "    .dataframe thead th {\n",
       "        text-align: right;\n",
       "    }\n",
       "</style>\n",
       "<table border=\"1\" class=\"dataframe\">\n",
       "  <thead>\n",
       "    <tr style=\"text-align: right;\">\n",
       "      <th></th>\n",
       "      <th>성적</th>\n",
       "      <th>학번</th>\n",
       "    </tr>\n",
       "  </thead>\n",
       "  <tbody>\n",
       "    <tr>\n",
       "      <th>0</th>\n",
       "      <td>85</td>\n",
       "      <td>2000</td>\n",
       "    </tr>\n",
       "    <tr>\n",
       "      <th>1</th>\n",
       "      <td>95</td>\n",
       "      <td>2001</td>\n",
       "    </tr>\n",
       "    <tr>\n",
       "      <th>2</th>\n",
       "      <td>75</td>\n",
       "      <td>2002</td>\n",
       "    </tr>\n",
       "    <tr>\n",
       "      <th>3</th>\n",
       "      <td>70</td>\n",
       "      <td>2003</td>\n",
       "    </tr>\n",
       "    <tr>\n",
       "      <th>4</th>\n",
       "      <td>100</td>\n",
       "      <td>2004</td>\n",
       "    </tr>\n",
       "    <tr>\n",
       "      <th>5</th>\n",
       "      <td>100</td>\n",
       "      <td>2005</td>\n",
       "    </tr>\n",
       "    <tr>\n",
       "      <th>6</th>\n",
       "      <td>95</td>\n",
       "      <td>2006</td>\n",
       "    </tr>\n",
       "    <tr>\n",
       "      <th>7</th>\n",
       "      <td>85</td>\n",
       "      <td>2007</td>\n",
       "    </tr>\n",
       "    <tr>\n",
       "      <th>8</th>\n",
       "      <td>80</td>\n",
       "      <td>2008</td>\n",
       "    </tr>\n",
       "    <tr>\n",
       "      <th>9</th>\n",
       "      <td>85</td>\n",
       "      <td>2009</td>\n",
       "    </tr>\n",
       "  </tbody>\n",
       "</table>\n",
       "</div>"
      ],
      "text/plain": [
       "    성적    학번\n",
       "0   85  2000\n",
       "1   95  2001\n",
       "2   75  2002\n",
       "3   70  2003\n",
       "4  100  2004\n",
       "5  100  2005\n",
       "6   95  2006\n",
       "7   85  2007\n",
       "8   80  2008\n",
       "9   85  2009"
      ]
     },
     "execution_count": 50,
     "metadata": {},
     "output_type": "execute_result"
    }
   ],
   "source": [
    "df = pd.DataFrame(data, columns=['성적','학번'])\n",
    "df"
   ]
  },
  {
   "cell_type": "code",
   "execution_count": null,
   "metadata": {},
   "outputs": [
    {
     "name": "stdout",
     "output_type": "stream",
     "text": [
      "원의 넓이: 78.53999999999999\n",
      "원의 넓이: 153.86\n"
     ]
    }
   ],
   "source": [
    "class Circle: # 원의 넓이를 구하는 클래스\n",
    "    # 클래스 변수\n",
    "    pi = 3.1416  #파이 값\n",
    "\n",
    "    def __init__(self, radius):  # radius = 반지름\n",
    "        self.radius = radius\n",
    "\n",
    "    def calculate_area(self):\n",
    "        return self.pi * (self.radius ** 2) # 파이 곱하기 반지름 *2\n",
    "\n",
    "    @classmethod\n",
    "    def set_pi(cls, new_pi): # 새로운 파이\n",
    "        cls.pi = new_pi\n",
    "\n",
    "# 객체 생성 및 클래스 메서드 호출\n",
    "circle1 = Circle(5) # Circle(5) 클래스를 circle1 변수에 넣음\n",
    "print(f\"원의 넓이: {circle1.calculate_area()}\") # circle1 변수에 calculate_area 함수 선언\n",
    "\n",
    "# 클래스 변수 변경\n",
    "Circle.set_pi(3.14) # circle 클래스에서 파이 값 변경\n",
    "circle2 = Circle(7) # 반지름 7\n",
    "print(f\"원의 넓이: {circle2.calculate_area()}\")\n"
   ]
  },
  {
   "cell_type": "code",
   "execution_count": null,
   "metadata": {},
   "outputs": [
    {
     "name": "stdout",
     "output_type": "stream",
     "text": [
      "2018 Toyota Corolla\n",
      "Fuel type: Gasoline\n"
     ]
    }
   ],
   "source": [
    "class Vehicle:\n",
    "    def __init__(self, make, model, year): #make:차량 브랜드, model : 모델, year : 년도\n",
    "        self.make = make\n",
    "        self.model = model\n",
    "        self.year = year\n",
    "\n",
    "    def display_info(self): # 디스플레이 해주는 함수\n",
    "        print(f\"{self.year} {self.make} {self.model}\")\n",
    "\n",
    "# Car 클래스가 Vehicle 클래스를 상속받음\n",
    "class Car(Vehicle): # 상속받음\n",
    "    def __init__(self, make, model, year, fuel): # 연료까지 생성\n",
    "        super().__init__(make, model, year) # super().__init__()은 파이썬에서 클래스 상속 관계에서 부모 클래스의 __init__ 메서드를 호출하는 방법 \n",
    "        self.fuel = fuel \n",
    "\n",
    "    def display_info(self):\n",
    "        super().display_info()\n",
    "        print(f\"Fuel type: {self.fuel}\")\n",
    "\n",
    "# 객체 생성 및 사용\n",
    "my_car = Car(\"Toyota\", \"Corolla\", 2018, \"Gasoline\")\n",
    "my_car.display_info()\n"
   ]
  },
  {
   "cell_type": "code",
   "execution_count": 99,
   "metadata": {},
   "outputs": [
    {
     "name": "stdout",
     "output_type": "stream",
     "text": [
      "이름은(는) 야옹 소리를 냅니다.\n",
      "dlasd은(는) 왈왈 소리를 냅니다.\n"
     ]
    }
   ],
   "source": [
    "class Animal:\n",
    "    def __init__(self, name, sound):\n",
    "        self.name = name\n",
    "        self.sound = sound\n",
    "\n",
    "    def make_sound(self):\n",
    "        print(f\"{self.name}은(는) {self.sound} 소리를 냅니다.\")\n",
    "\n",
    "class Dog(Animal):\n",
    "    def __init__(self, name):\n",
    "        super().__init__(name, \"왈왈\")\n",
    "\n",
    "class Cat(Animal):\n",
    "    def __init__(self, name):\n",
    "        super().__init__(name, \"야옹\")\n",
    "\n",
    "cat = Cat(\"이름\")\n",
    "dog = Dog(\"dlasd\")\n",
    "\n",
    "cat.make_sound()\n",
    "dog.make_sound()"
   ]
  },
  {
   "cell_type": "code",
   "execution_count": null,
   "metadata": {},
   "outputs": [],
   "source": [
    "class Shape:\n",
    "    def __init__(self, name):\n",
    "        self.name = name\n",
    "    def get_area(self):\n",
    "        pass\n",
    "class Circle(Shape):\n",
    "    def __init__(self, name, radius):\n",
    "        super().__init__(name)\n",
    "        self.radius = radius\n",
    "    def get_area(self):\n",
    "        return 3.1415 * self.radius ** 2"
   ]
  },
  {
   "cell_type": "code",
   "execution_count": 102,
   "metadata": {},
   "outputs": [
    {
     "name": "stdout",
     "output_type": "stream",
     "text": [
      "1\n",
      "2\n"
     ]
    }
   ],
   "source": [
    "import random\n",
    "\n",
    "class Account:\n",
    "    # class variable\n",
    "    account_count = 0\n",
    "\n",
    "    def __init__(self, name, balance):\n",
    "        self.name = name\n",
    "        self.balance = balance\n",
    "        self.bank = \"SC은행\"\n",
    "\n",
    "        num1 = random.randint(0, 999)\n",
    "        num2 = random.randint(0, 99)\n",
    "        num3 = random.randint(0, 999999)\n",
    "\n",
    "        num1 = str(num1).zfill(3)      # 1 -> '1' -> '001'\n",
    "        num2 = str(num2).zfill(2)      # 1 -> '1' -> '01'\n",
    "        num3 = str(num3).zfill(6)      # 1 -> '1' -> '0000001'\n",
    "        self.account_number = num1 + '-' + num2 + '-' + num3  # 001-01-000001\n",
    "\n",
    "        Account.account_count += 1\n",
    "\n",
    "\n",
    "kim = Account(\"김민수\", 100)\n",
    "print(Account.account_count)\n",
    "lee = Account(\"이민수\", 100)\n",
    "print(Account.account_count)\n"
   ]
  },
  {
   "cell_type": "code",
   "execution_count": null,
   "metadata": {},
   "outputs": [],
   "source": []
  }
 ],
 "metadata": {
  "kernelspec": {
   "display_name": "base",
   "language": "python",
   "name": "python3"
  },
  "language_info": {
   "codemirror_mode": {
    "name": "ipython",
    "version": 3
   },
   "file_extension": ".py",
   "mimetype": "text/x-python",
   "name": "python",
   "nbconvert_exporter": "python",
   "pygments_lexer": "ipython3",
   "version": "3.11.5"
  }
 },
 "nbformat": 4,
 "nbformat_minor": 2
}
