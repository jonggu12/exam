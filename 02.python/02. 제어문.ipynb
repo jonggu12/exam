{
 "cells": [
  {
   "cell_type": "markdown",
   "id": "e1232ecd",
   "metadata": {},
   "source": [
    "# 조건문 : if"
   ]
  },
  {
   "cell_type": "code",
   "execution_count": 3,
   "id": "c8925840",
   "metadata": {},
   "outputs": [
    {
     "name": "stdout",
     "output_type": "stream",
     "text": [
      "걸어서 가라\n"
     ]
    }
   ],
   "source": [
    "# 돈이 있으면 택시, 없으면 걸어서\n",
    "money = False\n",
    "if money:\n",
    "    print(\"택시를 타고 가라\")\n",
    "else:\n",
    "    print(\"걸어서 가라\")\n",
    "    \n"
   ]
  },
  {
   "cell_type": "code",
   "execution_count": 7,
   "id": "f68d859b",
   "metadata": {},
   "outputs": [
    {
     "name": "stdout",
     "output_type": "stream",
     "text": [
      "얼마있는가: 50000\n",
      "택시를 타고 가라\n"
     ]
    }
   ],
   "source": [
    "# 3000원 이상의 돈 == 택시, 아니면 걸어서가라\n",
    "\n",
    "money = int(input(\"얼마있는가: \"))\n",
    "if money >=3000:\n",
    "    print(\"택시를 타고 가라\")\n",
    "else:\n",
    "    print(\"걸어서 가라\")"
   ]
  },
  {
   "cell_type": "code",
   "execution_count": 8,
   "id": "a0fd2bc5",
   "metadata": {},
   "outputs": [
    {
     "data": {
      "text/plain": [
       "True"
      ]
     },
     "execution_count": 8,
     "metadata": {},
     "output_type": "execute_result"
    }
   ],
   "source": [
    "1 in [1,2,3]"
   ]
  },
  {
   "cell_type": "code",
   "execution_count": 9,
   "id": "4b595301",
   "metadata": {},
   "outputs": [
    {
     "data": {
      "text/plain": [
       "False"
      ]
     },
     "execution_count": 9,
     "metadata": {},
     "output_type": "execute_result"
    }
   ],
   "source": [
    "1 not in [1,2,3]"
   ]
  },
  {
   "cell_type": "code",
   "execution_count": 10,
   "id": "befb4a32",
   "metadata": {},
   "outputs": [
    {
     "data": {
      "text/plain": [
       "True"
      ]
     },
     "execution_count": 10,
     "metadata": {},
     "output_type": "execute_result"
    }
   ],
   "source": [
    "'a' in ('a','b','c')"
   ]
  },
  {
   "cell_type": "code",
   "execution_count": 11,
   "id": "cb68293b",
   "metadata": {},
   "outputs": [
    {
     "data": {
      "text/plain": [
       "True"
      ]
     },
     "execution_count": 11,
     "metadata": {},
     "output_type": "execute_result"
    }
   ],
   "source": [
    "'j' not in 'python'"
   ]
  },
  {
   "cell_type": "code",
   "execution_count": 15,
   "id": "cd06720b",
   "metadata": {
    "scrolled": true
   },
   "outputs": [
    {
     "name": "stdout",
     "output_type": "stream",
     "text": [
      "택시\n"
     ]
    }
   ],
   "source": [
    "# 만약 주머니에 돈 있으면 택시 , 아니면 걸어가라\n",
    "\n",
    "pocket = ['paper','cellphone','money']\n",
    "\n",
    "if 'money' in pocket:\n",
    "    print(\"택시\")\n",
    "else:\n",
    "    print(\"걸어서\")\n"
   ]
  },
  {
   "cell_type": "code",
   "execution_count": 16,
   "id": "2a271872",
   "metadata": {},
   "outputs": [],
   "source": [
    "# 주머니에 돈이 있으면 가만히, 아니면 주머니에 돈이 없으면 카드를 꺼내라\n",
    "\n",
    "pocket = ['paper','cellphone','money']\n",
    "\n",
    "\n",
    "if 'money' in pocket:\n",
    "    pass\n",
    "else:\n",
    "    print(\"카드를 꺼내라\")"
   ]
  },
  {
   "cell_type": "markdown",
   "id": "0743c54f",
   "metadata": {},
   "source": [
    "* 다양한 조건을 판단 : elif"
   ]
  },
  {
   "cell_type": "code",
   "execution_count": 20,
   "id": "2e49e80d",
   "metadata": {},
   "outputs": [
    {
     "name": "stdout",
     "output_type": "stream",
     "text": [
      "택시를 타라\n"
     ]
    }
   ],
   "source": [
    "# 주머니 돈 -> 택시 , 돈 없지만 카드 있으면 택시 , 돈 없고 카드 없으면 걸어가라\n",
    "\n",
    "pocket = ['paper','cellphone','money']\n",
    "\n",
    "\n",
    "if 'money' in pocket:\n",
    "    print(\"택시를 타라\")\n",
    "elif 'card' in pocket:\n",
    "    print(\"택시를 타라\")\n",
    "else:\n",
    "    print(\"걸어가라\")\n"
   ]
  },
  {
   "cell_type": "code",
   "execution_count": 29,
   "id": "fd9eeb7e",
   "metadata": {},
   "outputs": [],
   "source": [
    "pocket = ['paper','cellphone','money']\n",
    "\n",
    "\n",
    "if 'money' in pocket:pass\n",
    "else:print(\"카드를 꺼내라\")"
   ]
  },
  {
   "cell_type": "markdown",
   "id": "783b3c65",
   "metadata": {},
   "source": [
    "* 조건부 표현식"
   ]
  },
  {
   "cell_type": "code",
   "execution_count": 43,
   "id": "cbad38dd",
   "metadata": {},
   "outputs": [
    {
     "name": "stdout",
     "output_type": "stream",
     "text": [
      "failure\n"
     ]
    }
   ],
   "source": [
    "score = 30\n",
    "\n",
    "if score >= 60:\n",
    "    message = \"success\"\n",
    "else:\n",
    "    message = \"failure\"\n",
    "    \n",
    "print(message)"
   ]
  },
  {
   "cell_type": "code",
   "execution_count": null,
   "id": "9b164719",
   "metadata": {},
   "outputs": [],
   "source": [
    "message = \"success\" if score >= 60 else \"failure\""
   ]
  },
  {
   "cell_type": "markdown",
   "id": "384c5891",
   "metadata": {},
   "source": [
    "* input 명령어"
   ]
  },
  {
   "cell_type": "code",
   "execution_count": 35,
   "id": "ae88a46e",
   "metadata": {},
   "outputs": [
    {
     "name": "stdout",
     "output_type": "stream",
     "text": [
      "4\n"
     ]
    }
   ],
   "source": [
    "a = input()"
   ]
  },
  {
   "cell_type": "code",
   "execution_count": 36,
   "id": "21a48f41",
   "metadata": {},
   "outputs": [
    {
     "data": {
      "text/plain": [
       "'4'"
      ]
     },
     "execution_count": 36,
     "metadata": {},
     "output_type": "execute_result"
    }
   ],
   "source": [
    "a"
   ]
  },
  {
   "cell_type": "code",
   "execution_count": 39,
   "id": "97aa682c",
   "metadata": {},
   "outputs": [
    {
     "name": "stdout",
     "output_type": "stream",
     "text": [
      "값을 입력하세요. : 4\n",
      "4\n"
     ]
    }
   ],
   "source": [
    "a = input(\"값을 입력하세요. : \")\n",
    "print(a)"
   ]
  },
  {
   "cell_type": "code",
   "execution_count": 41,
   "id": "89e3d875",
   "metadata": {},
   "outputs": [
    {
     "name": "stdout",
     "output_type": "stream",
     "text": [
      "처음 값: 3\n",
      "두번째 값 : 4\n"
     ]
    },
    {
     "data": {
      "text/plain": [
       "'34'"
      ]
     },
     "execution_count": 41,
     "metadata": {},
     "output_type": "execute_result"
    }
   ],
   "source": [
    "a = input(\"처음 값: \")\n",
    "b = input(\"두번째 값 : \")\n",
    "a+b"
   ]
  },
  {
   "cell_type": "code",
   "execution_count": 42,
   "id": "011718c0",
   "metadata": {},
   "outputs": [
    {
     "name": "stdout",
     "output_type": "stream",
     "text": [
      "처음 값: 3\n",
      "두번째 값 : 4\n"
     ]
    },
    {
     "data": {
      "text/plain": [
       "7"
      ]
     },
     "execution_count": 42,
     "metadata": {},
     "output_type": "execute_result"
    }
   ],
   "source": [
    "a = int(input(\"처음 값: \"))\n",
    "b = int(input(\"두번째 값: \"))\n",
    "a+b"
   ]
  },
  {
   "cell_type": "markdown",
   "id": "394c4f27",
   "metadata": {},
   "source": [
    "# 반복문:for"
   ]
  },
  {
   "cell_type": "code",
   "execution_count": 44,
   "id": "1b9f48ef",
   "metadata": {},
   "outputs": [
    {
     "name": "stdout",
     "output_type": "stream",
     "text": [
      "one\n",
      "two\n",
      "three\n"
     ]
    }
   ],
   "source": [
    "test_list = ['one', 'two', 'three']\n",
    "\n",
    "for i in test_list:\n",
    "    print(i)"
   ]
  },
  {
   "cell_type": "code",
   "execution_count": 45,
   "id": "7736aa08",
   "metadata": {},
   "outputs": [
    {
     "name": "stdout",
     "output_type": "stream",
     "text": [
      "3\n",
      "7\n",
      "11\n"
     ]
    }
   ],
   "source": [
    "a = [(1,2),(3,4),(5,6)]\n",
    "for (first, last) in a:\n",
    "    print(first + last)"
   ]
  },
  {
   "cell_type": "code",
   "execution_count": 78,
   "id": "80e928b7",
   "metadata": {},
   "outputs": [
    {
     "name": "stdout",
     "output_type": "stream",
     "text": [
      "1번 학생은 합격입니다.\n",
      "2번 학생은 불합격입니다.\n",
      "3번 학생은 합격입니다.\n",
      "4번 학생은 불합격입니다.\n",
      "5번 학생은 합격입니다.\n"
     ]
    }
   ],
   "source": [
    "# 5명의 학생 성적, 60 점 이상 -> 합격 , 그렇지 않으면 불합격\n",
    "\n",
    "marks = [90, 25, 67, 45, 80]\n",
    "a = 0\n",
    "for marks in marks:\n",
    "    a += 1\n",
    "    if marks >= 60:\n",
    "        print(\"%d번 학생은 합격입니다.\" %a)\n",
    "    else:\n",
    "        print(\"%d번 학생은 불합격입니다.\" %a)\n"
   ]
  },
  {
   "cell_type": "code",
   "execution_count": 79,
   "id": "f17ba2d0",
   "metadata": {},
   "outputs": [
    {
     "name": "stdout",
     "output_type": "stream",
     "text": [
      "1번 학생은 합격입니다.\n",
      "3번 학생은 합격입니다.\n",
      "5번 학생은 합격입니다.\n"
     ]
    }
   ],
   "source": [
    "# 60점 이상은 축하메시지 , 나머지 사람은 메시지 전하지 않기\n",
    "\n",
    "marks = [90, 25, 67, 45, 80]\n",
    "a = 0\n",
    "for marks in marks:\n",
    "    a += 1\n",
    "    if marks < 60:\n",
    "        continue\n",
    "    else:\n",
    "        print(\"%d번 학생은 합격입니다.\" %a)"
   ]
  },
  {
   "cell_type": "code",
   "execution_count": 32,
   "id": "fab28c97",
   "metadata": {},
   "outputs": [
    {
     "name": "stdout",
     "output_type": "stream",
     "text": [
      "1번 학생은 합격입니다.\n",
      "3번 학생은 합격입니다.\n",
      "5번 학생은 합격입니다.\n"
     ]
    }
   ],
   "source": [
    "marks = [90, 25, 67, 45, 80]\n",
    "\n",
    "for number in range(len(marks)):\n",
    "    if marks[number] <60:\n",
    "        continue\n",
    "    print(\"%d번 학생은 합격입니다.\" %(number+1))"
   ]
  },
  {
   "cell_type": "code",
   "execution_count": 147,
   "id": "72aed3aa",
   "metadata": {
    "scrolled": true
   },
   "outputs": [
    {
     "name": "stdout",
     "output_type": "stream",
     "text": [
      "====2단====\n",
      "2 X 1 = 2 \n",
      "2 X 2 = 4 \n",
      "2 X 3 = 6 \n",
      "2 X 4 = 8 \n",
      "2 X 5 = 10 \n",
      "2 X 6 = 12 \n",
      "2 X 7 = 14 \n",
      "2 X 8 = 16 \n",
      "2 X 9 = 18 \n",
      "====3단====\n",
      "3 X 1 = 3 \n",
      "3 X 2 = 6 \n",
      "3 X 3 = 9 \n",
      "3 X 4 = 12 \n",
      "3 X 5 = 15 \n",
      "3 X 6 = 18 \n",
      "3 X 7 = 21 \n",
      "3 X 8 = 24 \n",
      "3 X 9 = 27 \n",
      "====4단====\n",
      "4 X 1 = 4 \n",
      "4 X 2 = 8 \n",
      "4 X 3 = 12 \n",
      "4 X 4 = 16 \n",
      "4 X 5 = 20 \n",
      "4 X 6 = 24 \n",
      "4 X 7 = 28 \n",
      "4 X 8 = 32 \n",
      "4 X 9 = 36 \n",
      "====5단====\n",
      "5 X 1 = 5 \n",
      "5 X 2 = 10 \n",
      "5 X 3 = 15 \n",
      "5 X 4 = 20 \n",
      "5 X 5 = 25 \n",
      "5 X 6 = 30 \n",
      "5 X 7 = 35 \n",
      "5 X 8 = 40 \n",
      "5 X 9 = 45 \n",
      "====6단====\n",
      "6 X 1 = 6 \n",
      "6 X 2 = 12 \n",
      "6 X 3 = 18 \n",
      "6 X 4 = 24 \n",
      "6 X 5 = 30 \n",
      "6 X 6 = 36 \n",
      "6 X 7 = 42 \n",
      "6 X 8 = 48 \n",
      "6 X 9 = 54 \n",
      "====7단====\n",
      "7 X 1 = 7 \n",
      "7 X 2 = 14 \n",
      "7 X 3 = 21 \n",
      "7 X 4 = 28 \n",
      "7 X 5 = 35 \n",
      "7 X 6 = 42 \n",
      "7 X 7 = 49 \n",
      "7 X 8 = 56 \n",
      "7 X 9 = 63 \n",
      "====8단====\n",
      "8 X 1 = 8 \n",
      "8 X 2 = 16 \n",
      "8 X 3 = 24 \n",
      "8 X 4 = 32 \n",
      "8 X 5 = 40 \n",
      "8 X 6 = 48 \n",
      "8 X 7 = 56 \n",
      "8 X 8 = 64 \n",
      "8 X 9 = 72 \n",
      "====9단====\n",
      "9 X 1 = 9 \n",
      "9 X 2 = 18 \n",
      "9 X 3 = 27 \n",
      "9 X 4 = 36 \n",
      "9 X 5 = 45 \n",
      "9 X 6 = 54 \n",
      "9 X 7 = 63 \n",
      "9 X 8 = 72 \n",
      "9 X 9 = 81 \n"
     ]
    }
   ],
   "source": [
    "for i in range(2,10):\n",
    "    print('====%d단====' %i)\n",
    "    for j in range(1,10):\n",
    "        print('%d X %d = %d'%(i, j, i*j), end = \" \")\n",
    "        print(\"\")"
   ]
  },
  {
   "cell_type": "code",
   "execution_count": 138,
   "id": "07bb0579",
   "metadata": {
    "scrolled": true
   },
   "outputs": [
    {
     "name": "stdout",
     "output_type": "stream",
     "text": [
      "2 * 1 = 2\t3 * 1 = 3\t4 * 1 = 4\t5 * 1 = 5\t6 * 1 = 6\t7 * 1 = 7\t8 * 1 = 8\t9 * 1 = 9\t \n",
      "2 * 2 = 4\t3 * 2 = 6\t4 * 2 = 8\t5 * 2 = 10\t6 * 2 = 12\t7 * 2 = 14\t8 * 2 = 16\t9 * 2 = 18\t \n",
      "2 * 3 = 6\t3 * 3 = 9\t4 * 3 = 12\t5 * 3 = 15\t6 * 3 = 18\t7 * 3 = 21\t8 * 3 = 24\t9 * 3 = 27\t \n",
      "2 * 4 = 8\t3 * 4 = 12\t4 * 4 = 16\t5 * 4 = 20\t6 * 4 = 24\t7 * 4 = 28\t8 * 4 = 32\t9 * 4 = 36\t \n",
      "2 * 5 = 10\t3 * 5 = 15\t4 * 5 = 20\t5 * 5 = 25\t6 * 5 = 30\t7 * 5 = 35\t8 * 5 = 40\t9 * 5 = 45\t \n",
      "2 * 6 = 12\t3 * 6 = 18\t4 * 6 = 24\t5 * 6 = 30\t6 * 6 = 36\t7 * 6 = 42\t8 * 6 = 48\t9 * 6 = 54\t \n",
      "2 * 7 = 14\t3 * 7 = 21\t4 * 7 = 28\t5 * 7 = 35\t6 * 7 = 42\t7 * 7 = 49\t8 * 7 = 56\t9 * 7 = 63\t \n",
      "2 * 8 = 16\t3 * 8 = 24\t4 * 8 = 32\t5 * 8 = 40\t6 * 8 = 48\t7 * 8 = 56\t8 * 8 = 64\t9 * 8 = 72\t \n",
      "2 * 9 = 18\t3 * 9 = 27\t4 * 9 = 36\t5 * 9 = 45\t6 * 9 = 54\t7 * 9 = 63\t8 * 9 = 72\t9 * 9 = 81\t \n"
     ]
    }
   ],
   "source": [
    "for b in range (1,10):\n",
    "    for a in range(2, 10):\n",
    "        print(\"%d * %d = %d\" %(a, b, a*b), end=\"\\t\")\n",
    "    print (\" \")"
   ]
  },
  {
   "cell_type": "code",
   "execution_count": 145,
   "id": "38abb2b7",
   "metadata": {},
   "outputs": [
    {
     "name": "stdout",
     "output_type": "stream",
     "text": [
      "단을 입력하세요.:3\n",
      "3 X 1 = 3\t3 X 2 = 6\t3 X 3 = 9\t3 X 4 = 12\t3 X 5 = 15\t3 X 6 = 18\t3 X 7 = 21\t3 X 8 = 24\t3 X 9 = 27\t"
     ]
    }
   ],
   "source": [
    "a = int(input(\"단을 입력하세요.:\"))\n",
    "\n",
    "for i in range(1,10):\n",
    "    print(\"%d X %d = %d\" %(a, i, a*i), end=\"\\t\")"
   ]
  },
  {
   "cell_type": "markdown",
   "id": "1b4d61fb",
   "metadata": {},
   "source": [
    "* 리스트 컴프리헨션"
   ]
  },
  {
   "cell_type": "code",
   "execution_count": 148,
   "id": "7b5c758a",
   "metadata": {},
   "outputs": [
    {
     "data": {
      "text/plain": [
       "[3, 6, 9, 12]"
      ]
     },
     "execution_count": 148,
     "metadata": {},
     "output_type": "execute_result"
    }
   ],
   "source": [
    "a = [1,2,3,4]\n",
    "result = []\n",
    "for num in a:\n",
    "    result.append(num * 3)\n",
    "result"
   ]
  },
  {
   "cell_type": "code",
   "execution_count": 149,
   "id": "83aeda7e",
   "metadata": {},
   "outputs": [
    {
     "data": {
      "text/plain": [
       "[3, 6, 9, 12]"
      ]
     },
     "execution_count": 149,
     "metadata": {},
     "output_type": "execute_result"
    }
   ],
   "source": [
    "a = [1,2,3,4]\n",
    "result = [num*3 for num in a]\n",
    "result"
   ]
  },
  {
   "cell_type": "code",
   "execution_count": 150,
   "id": "e52734e8",
   "metadata": {},
   "outputs": [
    {
     "data": {
      "text/plain": [
       "[6, 12]"
      ]
     },
     "execution_count": 150,
     "metadata": {},
     "output_type": "execute_result"
    }
   ],
   "source": [
    "a = [1,2,3,4]\n",
    "result = []\n",
    "for num in a:\n",
    "    if num % 2 == 0:\n",
    "        result.append(num * 3)\n",
    "result"
   ]
  },
  {
   "cell_type": "code",
   "execution_count": 151,
   "id": "9005dc8e",
   "metadata": {},
   "outputs": [
    {
     "data": {
      "text/plain": [
       "[6, 12]"
      ]
     },
     "execution_count": 151,
     "metadata": {},
     "output_type": "execute_result"
    }
   ],
   "source": [
    "a = [1,2,3,4]\n",
    "result = [num*3 for num in a if num % 2 == 0] # 곱하기 3,범위, if문\n",
    "result"
   ]
  },
  {
   "cell_type": "code",
   "execution_count": null,
   "id": "8f4b7992",
   "metadata": {},
   "outputs": [],
   "source": [
    "result = [x*y for x in range(2,10)\n",
    "            for y in range(1,10)]"
   ]
  },
  {
   "cell_type": "markdown",
   "id": "1a32e63a",
   "metadata": {},
   "source": [
    "# 반복문: while"
   ]
  },
  {
   "cell_type": "code",
   "execution_count": 34,
   "id": "dab56198",
   "metadata": {
    "scrolled": true
   },
   "outputs": [
    {
     "name": "stdout",
     "output_type": "stream",
     "text": [
      "나무를 1번 찍었습니다.\n",
      "나무를 2번 찍었습니다.\n",
      "나무를 3번 찍었습니다.\n",
      "나무를 4번 찍었습니다.\n",
      "나무를 5번 찍었습니다.\n",
      "나무를 6번 찍었습니다.\n",
      "나무를 7번 찍었습니다.\n",
      "나무를 8번 찍었습니다.\n",
      "나무를 9번 찍었습니다.\n",
      "나무 넘어갑니다.\n"
     ]
    }
   ],
   "source": [
    "treeHit = 0\n",
    "while treeHit <9: #조건이 참일 경우 while 문 반복\n",
    "    treeHit += 1\n",
    "    print(\"나무를 %d번 찍었습니다.\" %treeHit)\n",
    "    if treeHit == 9:\n",
    "        print(\"나무 넘어갑니다.\")\n",
    "    "
   ]
  },
  {
   "cell_type": "code",
   "execution_count": 35,
   "id": "c4913081",
   "metadata": {
    "scrolled": true
   },
   "outputs": [
    {
     "name": "stdout",
     "output_type": "stream",
     "text": [
      "\n",
      "    1. 바비\n",
      "    2. 조커\n",
      "    3. 본투 플라이\n",
      "    4. 종료\n",
      "    \n",
      "    번호를 입력하세요. : \n",
      "\n",
      "4\n"
     ]
    }
   ],
   "source": [
    "prompt = \"\"\"\n",
    "    1. 바비\n",
    "    2. 조커\n",
    "    3. 본투 플라이\n",
    "    4. 종료\n",
    "    \n",
    "    번호를 입력하세요. : \n",
    "\"\"\"\n",
    "\n",
    "\n",
    "num = 0\n",
    "while num !=4:\n",
    "    print(prompt)\n",
    "    num = int(input())"
   ]
  },
  {
   "cell_type": "code",
   "execution_count": 37,
   "id": "1f4a054f",
   "metadata": {},
   "outputs": [
    {
     "name": "stdout",
     "output_type": "stream",
     "text": [
      "9잔 남았습니다\n",
      "8잔 남았습니다\n",
      "7잔 남았습니다\n",
      "6잔 남았습니다\n",
      "5잔 남았습니다\n",
      "4잔 남았습니다\n",
      "3잔 남았습니다\n",
      "2잔 남았습니다\n",
      "1잔 남았습니다\n",
      "0잔 남았습니다\n",
      "다 팔렸습니다.\n"
     ]
    }
   ],
   "source": [
    "# 돈이 있을 경우 커피 하나 나오고 다 팔렸을 경우에 판매중지\n",
    "\n",
    "\n",
    "coffee = 10\n",
    "money = 300\n",
    "\n",
    "while money >= 300:\n",
    "    coffee -= 1\n",
    "    print(\"%d잔 남았습니다\" %coffee)\n",
    "    if coffee == 0:\n",
    "        print(\"다 팔렸습니다.\")\n",
    "        break"
   ]
  },
  {
   "cell_type": "code",
   "execution_count": 38,
   "id": "7bb690e1",
   "metadata": {
    "scrolled": false
   },
   "outputs": [
    {
     "name": "stdout",
     "output_type": "stream",
     "text": [
      "5000\n",
      "9잔 남았습니다.\n",
      "거스름돈 4700원 드리겠습니다.\n"
     ]
    },
    {
     "ename": "KeyboardInterrupt",
     "evalue": "Interrupted by user",
     "output_type": "error",
     "traceback": [
      "\u001b[0;31m---------------------------------------------------------------------------\u001b[0m",
      "\u001b[0;31mKeyboardInterrupt\u001b[0m                         Traceback (most recent call last)",
      "Cell \u001b[0;32mIn[38], line 5\u001b[0m\n\u001b[1;32m      1\u001b[0m coffee \u001b[38;5;241m=\u001b[39m \u001b[38;5;241m10\u001b[39m\n\u001b[1;32m      4\u001b[0m \u001b[38;5;28;01mwhile\u001b[39;00m \u001b[38;5;28;01mTrue\u001b[39;00m:\n\u001b[0;32m----> 5\u001b[0m     money \u001b[38;5;241m=\u001b[39m \u001b[38;5;28mint\u001b[39m(\u001b[38;5;28minput\u001b[39m())\n\u001b[1;32m      6\u001b[0m     \u001b[38;5;28;01mif\u001b[39;00m money \u001b[38;5;241m>\u001b[39m \u001b[38;5;241m300\u001b[39m:\n\u001b[1;32m      7\u001b[0m         coffee \u001b[38;5;241m-\u001b[39m\u001b[38;5;241m=\u001b[39m \u001b[38;5;241m1\u001b[39m\n",
      "File \u001b[0;32m~/anaconda3/lib/python3.11/site-packages/ipykernel/kernelbase.py:1202\u001b[0m, in \u001b[0;36mKernel.raw_input\u001b[0;34m(self, prompt)\u001b[0m\n\u001b[1;32m   1200\u001b[0m     msg \u001b[38;5;241m=\u001b[39m \u001b[38;5;124m\"\u001b[39m\u001b[38;5;124mraw_input was called, but this frontend does not support input requests.\u001b[39m\u001b[38;5;124m\"\u001b[39m\n\u001b[1;32m   1201\u001b[0m     \u001b[38;5;28;01mraise\u001b[39;00m StdinNotImplementedError(msg)\n\u001b[0;32m-> 1202\u001b[0m \u001b[38;5;28;01mreturn\u001b[39;00m \u001b[38;5;28mself\u001b[39m\u001b[38;5;241m.\u001b[39m_input_request(\n\u001b[1;32m   1203\u001b[0m     \u001b[38;5;28mstr\u001b[39m(prompt),\n\u001b[1;32m   1204\u001b[0m     \u001b[38;5;28mself\u001b[39m\u001b[38;5;241m.\u001b[39m_parent_ident[\u001b[38;5;124m\"\u001b[39m\u001b[38;5;124mshell\u001b[39m\u001b[38;5;124m\"\u001b[39m],\n\u001b[1;32m   1205\u001b[0m     \u001b[38;5;28mself\u001b[39m\u001b[38;5;241m.\u001b[39mget_parent(\u001b[38;5;124m\"\u001b[39m\u001b[38;5;124mshell\u001b[39m\u001b[38;5;124m\"\u001b[39m),\n\u001b[1;32m   1206\u001b[0m     password\u001b[38;5;241m=\u001b[39m\u001b[38;5;28;01mFalse\u001b[39;00m,\n\u001b[1;32m   1207\u001b[0m )\n",
      "File \u001b[0;32m~/anaconda3/lib/python3.11/site-packages/ipykernel/kernelbase.py:1245\u001b[0m, in \u001b[0;36mKernel._input_request\u001b[0;34m(self, prompt, ident, parent, password)\u001b[0m\n\u001b[1;32m   1242\u001b[0m \u001b[38;5;28;01mexcept\u001b[39;00m \u001b[38;5;167;01mKeyboardInterrupt\u001b[39;00m:\n\u001b[1;32m   1243\u001b[0m     \u001b[38;5;66;03m# re-raise KeyboardInterrupt, to truncate traceback\u001b[39;00m\n\u001b[1;32m   1244\u001b[0m     msg \u001b[38;5;241m=\u001b[39m \u001b[38;5;124m\"\u001b[39m\u001b[38;5;124mInterrupted by user\u001b[39m\u001b[38;5;124m\"\u001b[39m\n\u001b[0;32m-> 1245\u001b[0m     \u001b[38;5;28;01mraise\u001b[39;00m \u001b[38;5;167;01mKeyboardInterrupt\u001b[39;00m(msg) \u001b[38;5;28;01mfrom\u001b[39;00m \u001b[38;5;28;01mNone\u001b[39;00m\n\u001b[1;32m   1246\u001b[0m \u001b[38;5;28;01mexcept\u001b[39;00m \u001b[38;5;167;01mException\u001b[39;00m:\n\u001b[1;32m   1247\u001b[0m     \u001b[38;5;28mself\u001b[39m\u001b[38;5;241m.\u001b[39mlog\u001b[38;5;241m.\u001b[39mwarning(\u001b[38;5;124m\"\u001b[39m\u001b[38;5;124mInvalid Message:\u001b[39m\u001b[38;5;124m\"\u001b[39m, exc_info\u001b[38;5;241m=\u001b[39m\u001b[38;5;28;01mTrue\u001b[39;00m)\n",
      "\u001b[0;31mKeyboardInterrupt\u001b[0m: Interrupted by user"
     ]
    }
   ],
   "source": [
    "coffee = 10\n",
    "\n",
    "\n",
    "while True:\n",
    "    money = int(input())\n",
    "    if money > 300:\n",
    "        coffee -= 1\n",
    "        print(\"%d잔 남았습니다.\" %coffee)\n",
    "        print(\"거스름돈 %d원 드리겠습니다.\" %(money-300))\n",
    "    elif money == 300:\n",
    "        coffee -= 1\n",
    "        print(\"%d잔 남았습니다.\" %coffee)\n",
    "    else:\n",
    "        print(\"잔액이 부족합니다.\")\n",
    "        print(\"%d잔 남았습니다.\" %coffee)\n",
    "        \n",
    "        \n",
    "    if coffee == 0:\n",
    "        print(\"다 팔렸습니다.\")\n",
    "        break\n",
    "    \n",
    "      \n",
    "\n",
    "\n",
    "\n"
   ]
  },
  {
   "cell_type": "markdown",
   "id": "00978511",
   "metadata": {},
   "source": [
    "##### "
   ]
  },
  {
   "cell_type": "markdown",
   "id": "fd2efd47",
   "metadata": {},
   "source": [
    "# random(난수)"
   ]
  },
  {
   "cell_type": "code",
   "execution_count": 39,
   "id": "377b4ab0",
   "metadata": {},
   "outputs": [
    {
     "name": "stdout",
     "output_type": "stream",
     "text": [
      "0.9994832763802644\n",
      "0.7313295838664369\n",
      "0.9807540473472668\n",
      "0.6207703267079541\n",
      "0.5595630527356031\n",
      "==============================\n"
     ]
    }
   ],
   "source": [
    "import random\n",
    "\n",
    "\n",
    "# 0~1미만의 실수를 난수로 발생\n",
    "\n",
    "for i in range(5):\n",
    "    print(random.random())\n",
    "print(\"=\" * 30)"
   ]
  },
  {
   "cell_type": "code",
   "execution_count": 40,
   "id": "f41b3541",
   "metadata": {},
   "outputs": [
    {
     "name": "stdout",
     "output_type": "stream",
     "text": [
      "6.911016104259362\n",
      "2.6110392645983502\n",
      "13.677538663352443\n",
      "68.67557812262288\n",
      "61.88177659935657\n"
     ]
    }
   ],
   "source": [
    "# 특정 범위의 실수를 난수로 생성\n",
    "for i in range(5):\n",
    "    print(random.uniform(1,100))"
   ]
  },
  {
   "cell_type": "code",
   "execution_count": 41,
   "id": "e454c08a",
   "metadata": {},
   "outputs": [
    {
     "name": "stdout",
     "output_type": "stream",
     "text": [
      "61\n",
      "88\n",
      "31\n",
      "8\n",
      "6\n"
     ]
    }
   ],
   "source": [
    "# 특정 범위의 정수를 난수로 생성\n",
    "\n",
    "for i in range(5):\n",
    "    print(random.randint(1,100))"
   ]
  },
  {
   "cell_type": "code",
   "execution_count": 43,
   "id": "004abcf3",
   "metadata": {},
   "outputs": [
    {
     "name": "stdout",
     "output_type": "stream",
     "text": [
      "41\n",
      "71\n",
      "21\n",
      "61\n",
      "71\n"
     ]
    }
   ],
   "source": [
    "# 특정 범위를 정수를 step 를 더해서 난수로 생성\n",
    "\n",
    "for i in range(5):\n",
    "    print(random.randrange(1,100,10))"
   ]
  },
  {
   "cell_type": "code",
   "execution_count": 84,
   "id": "3af0e538",
   "metadata": {},
   "outputs": [],
   "source": [
    "#1~45까지의 랜덤 숫자 6개 추출\n",
    "import random\n",
    "\n",
    "result = []\n",
    "\n",
    "for i in range(6):\n",
    "    a = random.randint\n",
    "\n",
    "    \n",
    "    "
   ]
  },
  {
   "cell_type": "code",
   "execution_count": 76,
   "id": "4d8bb7ff",
   "metadata": {},
   "outputs": [],
   "source": [
    "a = \"Life is too short, \""
   ]
  },
  {
   "cell_type": "code",
   "execution_count": 77,
   "id": "37b767b5",
   "metadata": {},
   "outputs": [
    {
     "name": "stdout",
     "output_type": "stream",
     "text": [
      "166833\n"
     ]
    }
   ],
   "source": [
    "# 3의 배수의 합\n",
    "a = 1\n",
    "result = 0\n",
    "\n",
    "while a <= 1000:\n",
    "    a+=1\n",
    "    if a % 3 == 0:\n",
    "        result = result + a #누적합 -> result = result + i\n",
    "\n",
    "        \n",
    "print(result)\n",
    "            \n",
    "           \n",
    "        \n",
    "\n"
   ]
  },
  {
   "cell_type": "code",
   "execution_count": 78,
   "id": "fc1b78db",
   "metadata": {},
   "outputs": [
    {
     "name": "stdout",
     "output_type": "stream",
     "text": [
      "67335\n"
     ]
    }
   ],
   "source": [
    "# 3의 배수 and 5의 배수의 합을 구하시오 --> 15\n",
    "\n",
    "a = 1\n",
    "result = 0\n",
    "\n",
    "while a <= 1000:\n",
    "    a+=1\n",
    "    if a % 3 and a % 5 == 0:\n",
    "        result = result + a #누적합 -> result = result + i\n",
    "\n",
    "        \n",
    "print(result)"
   ]
  },
  {
   "cell_type": "code",
   "execution_count": 79,
   "id": "748fbd3c",
   "metadata": {
    "scrolled": true
   },
   "outputs": [
    {
     "name": "stdout",
     "output_type": "stream",
     "text": [
      "**\n",
      "***\n",
      "****\n",
      "*****\n",
      "******\n"
     ]
    }
   ],
   "source": [
    "a = 0\n",
    "while a <5:\n",
    "    a += 1\n",
    "    print((a+1) * \"*\")"
   ]
  },
  {
   "cell_type": "code",
   "execution_count": 80,
   "id": "42c88086",
   "metadata": {},
   "outputs": [
    {
     "name": "stdout",
     "output_type": "stream",
     "text": [
      "1\n",
      "2\n",
      "3\n",
      "4\n",
      "5\n",
      "6\n",
      "7\n",
      "8\n",
      "9\n",
      "10\n",
      "11\n",
      "12\n",
      "13\n",
      "14\n",
      "15\n",
      "16\n",
      "17\n",
      "18\n",
      "19\n",
      "20\n",
      "21\n",
      "22\n",
      "23\n",
      "24\n",
      "25\n",
      "26\n",
      "27\n",
      "28\n",
      "29\n",
      "30\n",
      "31\n",
      "32\n",
      "33\n",
      "34\n",
      "35\n",
      "36\n",
      "37\n",
      "38\n",
      "39\n",
      "40\n",
      "41\n",
      "42\n",
      "43\n",
      "44\n",
      "45\n",
      "46\n",
      "47\n",
      "48\n",
      "49\n",
      "50\n",
      "51\n",
      "52\n",
      "53\n",
      "54\n",
      "55\n",
      "56\n",
      "57\n",
      "58\n",
      "59\n",
      "60\n",
      "61\n",
      "62\n",
      "63\n",
      "64\n",
      "65\n",
      "66\n",
      "67\n",
      "68\n",
      "69\n",
      "70\n",
      "71\n",
      "72\n",
      "73\n",
      "74\n",
      "75\n",
      "76\n",
      "77\n",
      "78\n",
      "79\n",
      "80\n",
      "81\n",
      "82\n",
      "83\n",
      "84\n",
      "85\n",
      "86\n",
      "87\n",
      "88\n",
      "89\n",
      "90\n",
      "91\n",
      "92\n",
      "93\n",
      "94\n",
      "95\n",
      "96\n",
      "97\n",
      "98\n",
      "99\n",
      "100\n"
     ]
    }
   ],
   "source": [
    "for i in range(1,101):\n",
    "    print(i)"
   ]
  },
  {
   "cell_type": "code",
   "execution_count": 81,
   "id": "4435bea3",
   "metadata": {
    "scrolled": true
   },
   "outputs": [
    {
     "data": {
      "text/plain": [
       "79.0"
      ]
     },
     "execution_count": 81,
     "metadata": {},
     "output_type": "execute_result"
    }
   ],
   "source": [
    "a = [70,60,55,75,95,90,80,80,85,100]\n",
    "total = 0\n",
    "for score in a:\n",
    "    total = total + score\n",
    "total / len(a)"
   ]
  },
  {
   "cell_type": "code",
   "execution_count": 82,
   "id": "4817301d",
   "metadata": {},
   "outputs": [
    {
     "name": "stdout",
     "output_type": "stream",
     "text": [
      "[2, 6, 10]\n"
     ]
    }
   ],
   "source": [
    "numbers = [1,2,3,4,5]\n",
    "result = [n*2 for n in numbers if n % 2 == 1] # 곱하기 3,범위, if문\n",
    "print(result)"
   ]
  },
  {
   "cell_type": "code",
   "execution_count": 83,
   "id": "9c8cac2d",
   "metadata": {},
   "outputs": [
    {
     "name": "stdout",
     "output_type": "stream",
     "text": [
      "7\n",
      "6\n",
      "5\n",
      "4\n",
      "3\n",
      "2\n",
      "1\n",
      "0\n"
     ]
    }
   ],
   "source": [
    "for i in range(8-1,-1,-1):\n",
    "    print(i)"
   ]
  },
  {
   "cell_type": "code",
   "execution_count": null,
   "id": "8270d0fa",
   "metadata": {},
   "outputs": [],
   "source": []
  }
 ],
 "metadata": {
  "kernelspec": {
   "display_name": "Python 3 (ipykernel)",
   "language": "python",
   "name": "python3"
  },
  "language_info": {
   "codemirror_mode": {
    "name": "ipython",
    "version": 3
   },
   "file_extension": ".py",
   "mimetype": "text/x-python",
   "name": "python",
   "nbconvert_exporter": "python",
   "pygments_lexer": "ipython3",
   "version": "3.11.5"
  }
 },
 "nbformat": 4,
 "nbformat_minor": 5
}
