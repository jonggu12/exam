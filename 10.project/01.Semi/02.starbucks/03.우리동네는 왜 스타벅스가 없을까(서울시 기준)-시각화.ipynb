{
 "cells": [
  {
   "cell_type": "code",
   "execution_count": null,
   "metadata": {},
   "outputs": [],
   "source": [
    "    \"\"\"\n",
    "    서울시 내에서 스타벅스 매장이 어떻게 분포되어 있는지 확인\n",
    "    일반 매장과, 리저브, 드라이브스루 매장 분포에 어떤 차이가 있는지\n",
    "    * 가설 1: 거주 인구가 많은 지역에 스타벅스 매장이 많이 입지해 있을 것이다. / 주민등록인구\n",
    "    * 가설 2: 직장인이 많은 지역에 스타벅스 매장이 많이 입지해 있을 것이다. / 종사자수\n",
    "    \"\"\" "
   ]
  },
  {
   "cell_type": "markdown",
   "metadata": {},
   "source": [
    "## 01. 데이터 시각화"
   ]
  },
  {
   "cell_type": "markdown",
   "metadata": {},
   "source": [
    "### 01-1. 스타벅스 매장분포 시각화"
   ]
  },
  {
   "cell_type": "code",
   "execution_count": null,
   "metadata": {},
   "outputs": [],
   "source": []
  }
 ],
 "metadata": {
  "language_info": {
   "name": "python"
  }
 },
 "nbformat": 4,
 "nbformat_minor": 2
}
