{
 "cells": [
  {
   "cell_type": "code",
   "execution_count": 12,
   "metadata": {},
   "outputs": [
    {
     "name": "stdout",
     "output_type": "stream",
     "text": [
      "고구마의 영양 정보:\n",
      "탄수화물: 21.8g\n",
      "단백질: 1.0g\n",
      "지방: 0.1g\n",
      "칼로리: 90.0kcal\n"
     ]
    }
   ],
   "source": [
    "import pandas as pd\n",
    "\n",
    "# CSV 파일 로드\n",
    "data = pd.read_csv('/Users/choejong-gyu/Documents/농림수산식품교육문화정보원_칼로리 정보_20190926.csv',encoding='CP949')\n",
    "\n",
    "# 사용자로부터 음식명 입력 받기\n",
    "user_input = input(\"음식명을 입력하세요: \")\n",
    "\n",
    "# 대소문자 구분 없이 입력값과 음식명을 비교하여 해당 음식의 영양 정보 출력\n",
    "selected_food = data[data['음식명'].str.lower() == user_input.lower()]\n",
    "\n",
    "if not selected_food.empty:\n",
    "    # 음식이 존재하는 경우\n",
    "    carb = selected_food['탄수화물(g)'].values[0]\n",
    "    protein = selected_food['단백질(g)'].values[0]\n",
    "    fat = selected_food['지방(g)'].values[0]\n",
    "    calories = selected_food['1인분칼로리(kcal)'].values[0]\n",
    "\n",
    "    print(f\"{user_input}의 영양 정보:\")\n",
    "    print(f\"탄수화물: {carb}g\")\n",
    "    print(f\"단백질: {protein}g\")\n",
    "    print(f\"지방: {fat}g\")\n",
    "    print(f\"칼로리: {calories}kcal\")\n",
    "else:\n",
    "    # 음식이 존재하지 않는 경우\n",
    "    print(f\"{user_input}에 해당하는 음식이 데이터에 없습니다.\")\n"
   ]
  },
  {
   "cell_type": "code",
   "execution_count": 15,
   "metadata": {},
   "outputs": [
    {
     "name": "stdout",
     "output_type": "stream",
     "text": [
      "\n",
      "아침 식사 - 가지의 영양 정보:\n",
      "탄수화물: 1.6g\n",
      "단백질: 0.3g\n",
      "지방: 0.0g\n",
      "칼로리: 6.0kcal\n",
      "\n",
      "점심 식사 - 가지나물의 영양 정보:\n",
      "탄수화물: 2.9g\n",
      "단백질: 0.8g\n",
      "지방: 0.9g\n",
      "칼로리: 19.0kcal\n",
      "\n",
      "저녁 식사 - 감자칩의 영양 정보:\n",
      "탄수화물: 23.6g\n",
      "단백질: 2.5g\n",
      "지방: 16.7g\n",
      "칼로리: 239.0kcal\n",
      "\n",
      "간식 식사 - 강낭콩의 영양 정보:\n",
      "탄수화물: 2.0g\n",
      "단백질: 0.7g\n",
      "지방: 0.1g\n",
      "칼로리: 11.0kcal\n"
     ]
    }
   ],
   "source": [
    "import pandas as pd\n",
    "\n",
    "# CSV 파일 로드\n",
    "data = pd.read_csv('/Users/choejong-gyu/Documents/농림수산식품교육문화정보원_칼로리 정보_20190926.csv',encoding='CP949')\n",
    "\n",
    "# 식단 정보를 저장할 딕셔너리\n",
    "meal_plan = {'아침': None, '점심': None, '저녁': None, '간식': None}\n",
    "\n",
    "# 사용자로부터 음식명과 식사 정보 입력 받기\n",
    "for meal in meal_plan:\n",
    "    user_input = input(f\"{meal}에 먹을 음식명을 입력하세요 (종료하려면 '종료' 입력): \")\n",
    "    \n",
    "    if user_input.lower() == '종료':\n",
    "        break\n",
    "    \n",
    "    selected_food = data[data['음식명'].str.lower() == user_input.lower()]\n",
    "\n",
    "    if not selected_food.empty:\n",
    "        # 음식이 존재하는 경우\n",
    "        meal_plan[meal] = {\n",
    "            '음식명': user_input,\n",
    "            '탄수화물(g)': selected_food['탄수화물(g)'].values[0],\n",
    "            '단백질(g)': selected_food['단백질(g)'].values[0],\n",
    "            '지방(g)': selected_food['지방(g)'].values[0],\n",
    "            '칼로리(kcal)': selected_food['1인분칼로리(kcal)'].values[0]\n",
    "        }\n",
    "    else:\n",
    "        # 음식이 존재하지 않는 경우\n",
    "        print(f\"{user_input}에 해당하는 음식이 데이터에 없습니다.\")\n",
    "\n",
    "# 식단 정보 출력\n",
    "for meal, food_info in meal_plan.items():\n",
    "    if food_info:\n",
    "        print(f\"\\n{meal} 식사 - {food_info['음식명']}의 영양 정보:\")\n",
    "        print(f\"탄수화물: {food_info['탄수화물(g)']}g\")\n",
    "        print(f\"단백질: {food_info['단백질(g)']}g\")\n",
    "        print(f\"지방: {food_info['지방(g)']}g\")\n",
    "        print(f\"칼로리: {food_info['칼로리(kcal)']}kcal\")\n",
    "    else:\n",
    "        print(f\"\\n{meal} 식사 - 선택된 음식이 없습니다.\")\n"
   ]
  },
  {
   "cell_type": "code",
   "execution_count": 16,
   "metadata": {},
   "outputs": [
    {
     "name": "stdout",
     "output_type": "stream",
     "text": [
      "올바른 식사 종류를 선택하세요.\n",
      "올바른 식사 종류를 선택하세요.\n",
      "올바른 식사 종류를 선택하세요.\n",
      "올바른 식사 종류를 선택하세요.\n"
     ]
    },
    {
     "ename": "KeyError",
     "evalue": "'1인분칼로리(kcal)'",
     "output_type": "error",
     "traceback": [
      "\u001b[0;31m---------------------------------------------------------------------------\u001b[0m",
      "\u001b[0;31mKeyError\u001b[0m                                  Traceback (most recent call last)",
      "\u001b[1;32m/Users/choejong-gyu/Documents/식단.ipynb 셀 3\u001b[0m line \u001b[0;36m3\n\u001b[1;32m     <a href='vscode-notebook-cell:/Users/choejong-gyu/Documents/%EC%8B%9D%EB%8B%A8.ipynb#W3sZmlsZQ%3D%3D?line=35'>36</a>\u001b[0m total_calories \u001b[39m=\u001b[39m \u001b[39m0\u001b[39m\n\u001b[1;32m     <a href='vscode-notebook-cell:/Users/choejong-gyu/Documents/%EC%8B%9D%EB%8B%A8.ipynb#W3sZmlsZQ%3D%3D?line=36'>37</a>\u001b[0m \u001b[39mfor\u001b[39;00m meal, foods \u001b[39min\u001b[39;00m meal_plan\u001b[39m.\u001b[39mitems():\n\u001b[0;32m---> <a href='vscode-notebook-cell:/Users/choejong-gyu/Documents/%EC%8B%9D%EB%8B%A8.ipynb#W3sZmlsZQ%3D%3D?line=37'>38</a>\u001b[0m     meal_calories \u001b[39m=\u001b[39m \u001b[39msum\u001b[39m(food[\u001b[39m'\u001b[39m\u001b[39m1인분칼로리(kcal)\u001b[39m\u001b[39m'\u001b[39m] \u001b[39mfor\u001b[39;00m food \u001b[39min\u001b[39;00m foods)\n\u001b[1;32m     <a href='vscode-notebook-cell:/Users/choejong-gyu/Documents/%EC%8B%9D%EB%8B%A8.ipynb#W3sZmlsZQ%3D%3D?line=38'>39</a>\u001b[0m     total_calories \u001b[39m+\u001b[39m\u001b[39m=\u001b[39m meal_calories\n\u001b[1;32m     <a href='vscode-notebook-cell:/Users/choejong-gyu/Documents/%EC%8B%9D%EB%8B%A8.ipynb#W3sZmlsZQ%3D%3D?line=40'>41</a>\u001b[0m     \u001b[39mprint\u001b[39m(\u001b[39mf\u001b[39m\u001b[39m\"\u001b[39m\u001b[39m\\n\u001b[39;00m\u001b[39m{\u001b[39;00mmeal\u001b[39m}\u001b[39;00m\u001b[39m 식사 - 총 칼로리: \u001b[39m\u001b[39m{\u001b[39;00mmeal_calories\u001b[39m}\u001b[39;00m\u001b[39mkcal\u001b[39m\u001b[39m\"\u001b[39m)\n",
      "\u001b[1;32m/Users/choejong-gyu/Documents/식단.ipynb 셀 3\u001b[0m line \u001b[0;36m3\n\u001b[1;32m     <a href='vscode-notebook-cell:/Users/choejong-gyu/Documents/%EC%8B%9D%EB%8B%A8.ipynb#W3sZmlsZQ%3D%3D?line=35'>36</a>\u001b[0m total_calories \u001b[39m=\u001b[39m \u001b[39m0\u001b[39m\n\u001b[1;32m     <a href='vscode-notebook-cell:/Users/choejong-gyu/Documents/%EC%8B%9D%EB%8B%A8.ipynb#W3sZmlsZQ%3D%3D?line=36'>37</a>\u001b[0m \u001b[39mfor\u001b[39;00m meal, foods \u001b[39min\u001b[39;00m meal_plan\u001b[39m.\u001b[39mitems():\n\u001b[0;32m---> <a href='vscode-notebook-cell:/Users/choejong-gyu/Documents/%EC%8B%9D%EB%8B%A8.ipynb#W3sZmlsZQ%3D%3D?line=37'>38</a>\u001b[0m     meal_calories \u001b[39m=\u001b[39m \u001b[39msum\u001b[39m(food[\u001b[39m'\u001b[39m\u001b[39m1인분칼로리(kcal)\u001b[39m\u001b[39m'\u001b[39m] \u001b[39mfor\u001b[39;00m food \u001b[39min\u001b[39;00m foods)\n\u001b[1;32m     <a href='vscode-notebook-cell:/Users/choejong-gyu/Documents/%EC%8B%9D%EB%8B%A8.ipynb#W3sZmlsZQ%3D%3D?line=38'>39</a>\u001b[0m     total_calories \u001b[39m+\u001b[39m\u001b[39m=\u001b[39m meal_calories\n\u001b[1;32m     <a href='vscode-notebook-cell:/Users/choejong-gyu/Documents/%EC%8B%9D%EB%8B%A8.ipynb#W3sZmlsZQ%3D%3D?line=40'>41</a>\u001b[0m     \u001b[39mprint\u001b[39m(\u001b[39mf\u001b[39m\u001b[39m\"\u001b[39m\u001b[39m\\n\u001b[39;00m\u001b[39m{\u001b[39;00mmeal\u001b[39m}\u001b[39;00m\u001b[39m 식사 - 총 칼로리: \u001b[39m\u001b[39m{\u001b[39;00mmeal_calories\u001b[39m}\u001b[39;00m\u001b[39mkcal\u001b[39m\u001b[39m\"\u001b[39m)\n",
      "\u001b[0;31mKeyError\u001b[0m: '1인분칼로리(kcal)'"
     ]
    }
   ],
   "source": [
    "import pandas as pd\n",
    "\n",
    "# CSV 파일 로드\n",
    "data = pd.read_csv('/Users/choejong-gyu/Documents/농림수산식품교육문화정보원_칼로리 정보_20190926.csv',encoding='CP949')\n",
    "\n",
    "# 식단 정보를 저장할 딕셔너리\n",
    "meal_plan = {'아침': [], '점심': [], '저녁': [], '간식': []}\n",
    "\n",
    "# 사용자로부터 음식명과 식사 정보 입력 받기\n",
    "while True:\n",
    "    user_input = input(\"식사 종류를 선택하세요 (아침, 점심, 저녁, 간식, 종료): \")\n",
    "\n",
    "    if user_input == '종료':\n",
    "        break\n",
    "\n",
    "    if user_input in meal_plan:\n",
    "        food_name = input(\"먹을 음식명을 입력하세요: \")\n",
    "        selected_food = data[data['음식명'].str.lower() == food_name.lower()]\n",
    "\n",
    "        if not selected_food.empty:\n",
    "            # 음식이 존재하는 경우\n",
    "            meal_plan[user_input].append({\n",
    "                '음식명': food_name,\n",
    "                '탄수화물(g)': selected_food['탄수화물(g)'].values[0],\n",
    "                '단백질(g)': selected_food['단백질(g)'].values[0],\n",
    "                '지방(g)': selected_food['지방(g)'].values[0],\n",
    "                '칼로리(kcal)': selected_food['1인분칼로리(kcal)'].values[0]\n",
    "            })\n",
    "        else:\n",
    "            # 음식이 존재하지 않는 경우\n",
    "            print(f\"{food_name}에 해당하는 음식이 데이터에 없습니다.\")\n",
    "    else:\n",
    "        print(\"올바른 식사 종류를 선택하세요.\")\n",
    "\n",
    "# 각 식사별 칼로리 계산\n",
    "total_calories = 0\n",
    "for meal, foods in meal_plan.items():\n",
    "    meal_calories = sum(food['칼로리(kcal)'] for food in foods)\n",
    "    total_calories += meal_calories\n",
    "\n",
    "    print(f\"\\n{meal} 식사 - 총 칼로리: {meal_calories}kcal\")\n",
    "    for food_info in foods:\n",
    "        print(f\"{food_info['음식명']} - {food_info['칼로리(kcal)']}kcal\")\n",
    "\n",
    "# 전체 식단의 총 칼로리 출력\n",
    "print(f\"\\n전체 식단의 총 칼로리: {total_calories}kcal\")\n"
   ]
  },
  {
   "cell_type": "code",
   "execution_count": null,
   "metadata": {},
   "outputs": [],
   "source": []
  }
 ],
 "metadata": {
  "kernelspec": {
   "display_name": "base",
   "language": "python",
   "name": "python3"
  },
  "language_info": {
   "codemirror_mode": {
    "name": "ipython",
    "version": 3
   },
   "file_extension": ".py",
   "mimetype": "text/x-python",
   "name": "python",
   "nbconvert_exporter": "python",
   "pygments_lexer": "ipython3",
   "version": "3.11.5"
  }
 },
 "nbformat": 4,
 "nbformat_minor": 2
}
